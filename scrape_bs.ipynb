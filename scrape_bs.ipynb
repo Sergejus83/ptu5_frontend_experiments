{
 "cells": [
  {
   "cell_type": "markdown",
   "metadata": {},
   "source": [
    "# BeautifulSoup"
   ]
  },
  {
   "cell_type": "code",
   "execution_count": 51,
   "metadata": {},
   "outputs": [],
   "source": [
    "from bs4 import BeautifulSoup"
   ]
  },
  {
   "cell_type": "code",
   "execution_count": 52,
   "metadata": {},
   "outputs": [],
   "source": [
    "html = \"\"\"\n",
    "<!DOCTYPE html>\n",
    "<html lang=\"en\">\n",
    "<head>\n",
    "  <meta charset=\"UTF-8\">\n",
    "  <title>First HTML Page</title>\n",
    "</head>\n",
    "<body>\n",
    "  <div id=\"first\">\n",
    "    <h3 data-example=\"yes\">hi</h3>\n",
    "    <p>more text.</p>\n",
    "  </div>\n",
    "  <ol>\n",
    "    <li class=\"special\">This list item is special.</li>\n",
    "    <li class=\"special\">This list item is also special.</li>\n",
    "    <li>This list item is not special.</li>\n",
    "  </ol>\n",
    "  <div data-example=\"yes\">bye</div>\n",
    "</body>\n",
    "</html>\n",
    "\"\"\""
   ]
  },
  {
   "cell_type": "code",
   "execution_count": 53,
   "metadata": {},
   "outputs": [
    {
     "data": {
      "text/plain": [
       "'\\n<!DOCTYPE html>\\n<html lang=\"en\">\\n<head>\\n  <meta charset=\"UTF-8\">\\n  <title>First HTML Page</title>\\n</head>\\n<body>\\n  <div id=\"first\">\\n    <h3 data-example=\"yes\">hi</h3>\\n    <p>more text.</p>\\n  </div>\\n  <ol>\\n    <li class=\"special\">This list item is special.</li>\\n    <li class=\"special\">This list item is also special.</li>\\n    <li>This list item is not special.</li>\\n  </ol>\\n  <div data-example=\"yes\">bye</div>\\n</body>\\n</html>\\n'"
      ]
     },
     "execution_count": 53,
     "metadata": {},
     "output_type": "execute_result"
    }
   ],
   "source": [
    "html"
   ]
  },
  {
   "cell_type": "code",
   "execution_count": 54,
   "metadata": {},
   "outputs": [
    {
     "name": "stdout",
     "output_type": "stream",
     "text": [
      "<class 'bs4.BeautifulSoup'>\n"
     ]
    }
   ],
   "source": [
    "soup = BeautifulSoup(html, \"html.parser\")\n",
    "print(type(soup))"
   ]
  },
  {
   "cell_type": "code",
   "execution_count": 55,
   "metadata": {},
   "outputs": [
    {
     "data": {
      "text/plain": [
       "\n",
       "<!DOCTYPE html>\n",
       "\n",
       "<html lang=\"en\">\n",
       "<head>\n",
       "<meta charset=\"utf-8\"/>\n",
       "<title>First HTML Page</title>\n",
       "</head>\n",
       "<body>\n",
       "<div id=\"first\">\n",
       "<h3 data-example=\"yes\">hi</h3>\n",
       "<p>more text.</p>\n",
       "</div>\n",
       "<ol>\n",
       "<li class=\"special\">This list item is special.</li>\n",
       "<li class=\"special\">This list item is also special.</li>\n",
       "<li>This list item is not special.</li>\n",
       "</ol>\n",
       "<div data-example=\"yes\">bye</div>\n",
       "</body>\n",
       "</html>"
      ]
     },
     "execution_count": 55,
     "metadata": {},
     "output_type": "execute_result"
    }
   ],
   "source": [
    "soup"
   ]
  },
  {
   "cell_type": "code",
   "execution_count": 56,
   "metadata": {},
   "outputs": [
    {
     "name": "stdout",
     "output_type": "stream",
     "text": [
      "<body>\n",
      "<div id=\"first\">\n",
      "<h3 data-example=\"yes\">hi</h3>\n",
      "<p>more text.</p>\n",
      "</div>\n",
      "<ol>\n",
      "<li class=\"special\">This list item is special.</li>\n",
      "<li class=\"special\">This list item is also special.</li>\n",
      "<li>This list item is not special.</li>\n",
      "</ol>\n",
      "<div data-example=\"yes\">bye</div>\n",
      "</body>\n"
     ]
    }
   ],
   "source": [
    "print(soup.body) # spausdina tik body\n",
    "\n",
    "# <body>\n",
    "# <div id=\"first\">\n",
    "# <h3 data-example=\"yes\">hi</h3>\n",
    "# <p>more text.</p>\n",
    "# </div>\n",
    "# <ol>\n",
    "# <li class=\"special\">This list item is special.</li>\n",
    "# <li class=\"special\">This list item is also special.</li>\n",
    "# <li>This list item is not special.</li>\n",
    "# </ol>\n",
    "# <div data-example=\"yes\">bye</div>\n",
    "# </body>"
   ]
  },
  {
   "cell_type": "code",
   "execution_count": 57,
   "metadata": {},
   "outputs": [
    {
     "name": "stdout",
     "output_type": "stream",
     "text": [
      "<div id=\"first\">\n",
      "<h3 data-example=\"yes\">hi</h3>\n",
      "<p>more text.</p>\n",
      "</div>\n"
     ]
    }
   ],
   "source": [
    "print(soup.body.div)\n",
    "\n",
    "# <div id=\"first\">\n",
    "# <h3 data-example=\"yes\">hi</h3>\n",
    "# <p>more text.</p>\n",
    "# </div>"
   ]
  },
  {
   "cell_type": "markdown",
   "metadata": {},
   "source": [
    "## find(), find_all()"
   ]
  },
  {
   "cell_type": "code",
   "execution_count": 58,
   "metadata": {},
   "outputs": [
    {
     "name": "stdout",
     "output_type": "stream",
     "text": [
      "<div id=\"first\">\n",
      "<h3 data-example=\"yes\">hi</h3>\n",
      "<p>more text.</p>\n",
      "</div>\n"
     ]
    }
   ],
   "source": [
    "print(soup.find('div'))\n",
    "\n",
    "# <div id=\"first\">\n",
    "# <h3 data-example=\"yes\">hi</h3>\n",
    "# <p>more text.</p>\n",
    "# </div>"
   ]
  },
  {
   "cell_type": "code",
   "execution_count": 59,
   "metadata": {},
   "outputs": [
    {
     "name": "stdout",
     "output_type": "stream",
     "text": [
      "[<div id=\"first\">\n",
      "<h3 data-example=\"yes\">hi</h3>\n",
      "<p>more text.</p>\n",
      "</div>, <div data-example=\"yes\">bye</div>]\n"
     ]
    }
   ],
   "source": [
    "print(soup.find_all('div')) # rado pirma ir antra 'div'\n",
    "    \n",
    "\n",
    "# [<div id=\"first\">\n",
    "# <h3 data-example=\"yes\">hi</h3>\n",
    "# <p>more text.</p>\n",
    "# </div>, <div data-example=\"yes\">bye</div>]"
   ]
  },
  {
   "cell_type": "code",
   "execution_count": 60,
   "metadata": {},
   "outputs": [
    {
     "name": "stdout",
     "output_type": "stream",
     "text": [
      "<div id=\"first\">\n",
      "<h3 data-example=\"yes\">hi</h3>\n",
      "<p>more text.</p>\n",
      "</div>\n",
      "<div data-example=\"yes\">bye</div>\n"
     ]
    }
   ],
   "source": [
    "for element in soup.find_all('div'):\n",
    "    print(element)"
   ]
  },
  {
   "cell_type": "code",
   "execution_count": 61,
   "metadata": {},
   "outputs": [
    {
     "name": "stdout",
     "output_type": "stream",
     "text": [
      "[<li class=\"special\">This list item is special.</li>, <li class=\"special\">This list item is also special.</li>]\n"
     ]
    }
   ],
   "source": [
    "print(soup.find_all(class_='special'))\n",
    "\n",
    "# [<li class=\"special\">This list item is special.</li>, <li class=\"special\">This list item is also special.</li>]"
   ]
  },
  {
   "cell_type": "code",
   "execution_count": 62,
   "metadata": {},
   "outputs": [
    {
     "data": {
      "text/plain": [
       "<h3 data-example=\"yes\">hi</h3>"
      ]
     },
     "execution_count": 62,
     "metadata": {},
     "output_type": "execute_result"
    }
   ],
   "source": [
    "soup.find(attrs={'data-example':'yes'})"
   ]
  },
  {
   "cell_type": "code",
   "execution_count": 63,
   "metadata": {},
   "outputs": [
    {
     "data": {
      "text/plain": [
       "[<h3 data-example=\"yes\">hi</h3>, <div data-example=\"yes\">bye</div>]"
      ]
     },
     "execution_count": 63,
     "metadata": {},
     "output_type": "execute_result"
    }
   ],
   "source": [
    "soup.find_all(attrs={'data-example':'yes'})"
   ]
  },
  {
   "cell_type": "markdown",
   "metadata": {},
   "source": [
    "# Išrinkimas CSS stiliumi"
   ]
  },
  {
   "cell_type": "code",
   "execution_count": 64,
   "metadata": {},
   "outputs": [
    {
     "name": "stdout",
     "output_type": "stream",
     "text": [
      "[<div id=\"first\">\n",
      "<h3 data-example=\"yes\">hi</h3>\n",
      "<p>more text.</p>\n",
      "</div>]\n"
     ]
    }
   ],
   "source": [
    "print(soup.select('#first'))\n",
    "\n",
    "# [<div id=\"first\">\n",
    "# <h3 data-example=\"yes\">hi</h3>\n",
    "# <p>more text.</p>\n",
    "# </div>]"
   ]
  },
  {
   "cell_type": "code",
   "execution_count": 65,
   "metadata": {},
   "outputs": [
    {
     "name": "stdout",
     "output_type": "stream",
     "text": [
      "[<li class=\"special\">This list item is special.</li>, <li class=\"special\">This list item is also special.</li>]\n"
     ]
    }
   ],
   "source": [
    "print(soup.select('.special'))\n",
    "\n",
    "# [<li class=\"special\">This list item is special.</li>, <li class=\"special\">This list item is also special.</li>]"
   ]
  },
  {
   "cell_type": "code",
   "execution_count": 66,
   "metadata": {},
   "outputs": [
    {
     "name": "stdout",
     "output_type": "stream",
     "text": [
      "[<div id=\"first\">\n",
      "<h3 data-example=\"yes\">hi</h3>\n",
      "<p>more text.</p>\n",
      "</div>, <div data-example=\"yes\">bye</div>]\n"
     ]
    }
   ],
   "source": [
    "print(soup.select('div'))\n",
    "\n",
    "# [<div id=\"first\">\n",
    "# <h3 data-example=\"yes\">hi</h3>\n",
    "# <p>more text.</p>\n",
    "# </div>, <div data-example=\"yes\">bye</div>]"
   ]
  },
  {
   "cell_type": "code",
   "execution_count": 67,
   "metadata": {},
   "outputs": [
    {
     "name": "stdout",
     "output_type": "stream",
     "text": [
      "[<h3 data-example=\"yes\">hi</h3>, <div data-example=\"yes\">bye</div>]\n"
     ]
    }
   ],
   "source": [
    "print(soup.select('[data-example]'))\n",
    "\n",
    "# [<h3 data-example=\"yes\">hi</h3>, <div data-example=\"yes\">bye</div>]"
   ]
  },
  {
   "cell_type": "markdown",
   "metadata": {},
   "source": [
    "## get_text()"
   ]
  },
  {
   "cell_type": "code",
   "execution_count": 68,
   "metadata": {},
   "outputs": [
    {
     "name": "stdout",
     "output_type": "stream",
     "text": [
      "This list item is special.\n"
     ]
    }
   ],
   "source": [
    "# Kuomet norime ištraukti patį tekstą iš HTML bloko, darome taip:\n",
    "\n",
    "element = soup.select('.special')[0]\n",
    "print(element.get_text())\n",
    "\n",
    "# This list item is special."
   ]
  },
  {
   "cell_type": "code",
   "execution_count": 69,
   "metadata": {},
   "outputs": [
    {
     "data": {
      "text/plain": [
       "[<li class=\"special\">This list item is special.</li>,\n",
       " <li class=\"special\">This list item is also special.</li>,\n",
       " <li>This list item is not special.</li>]"
      ]
     },
     "execution_count": 69,
     "metadata": {},
     "output_type": "execute_result"
    }
   ],
   "source": [
    "ol_li = soup.select('ol li')\n",
    "ol_li"
   ]
  },
  {
   "cell_type": "code",
   "execution_count": 70,
   "metadata": {},
   "outputs": [
    {
     "name": "stdout",
     "output_type": "stream",
     "text": [
      "This list item is special.\n",
      "This list item is also special.\n"
     ]
    }
   ],
   "source": [
    "# Galime ir praiteruoti:\n",
    "elements = soup.select('.special')\n",
    "for element in elements:\n",
    "  print(element.get_text())\n",
    "\n",
    "# This list item is special.\n",
    "# This list item is also special."
   ]
  },
  {
   "cell_type": "code",
   "execution_count": 71,
   "metadata": {},
   "outputs": [
    {
     "data": {
      "text/plain": [
       "'This list item is special.'"
      ]
     },
     "execution_count": 71,
     "metadata": {},
     "output_type": "execute_result"
    }
   ],
   "source": [
    "ol_li[0].get_text()"
   ]
  },
  {
   "cell_type": "code",
   "execution_count": 72,
   "metadata": {},
   "outputs": [],
   "source": [
    "for item in ol_li:\n",
    "    item.append(item.get_text())"
   ]
  },
  {
   "cell_type": "code",
   "execution_count": 73,
   "metadata": {},
   "outputs": [
    {
     "data": {
      "text/plain": [
       "<li>This list item is not special.This list item is not special.This list item is not special.This list item is not special.</li>"
      ]
     },
     "execution_count": 73,
     "metadata": {},
     "output_type": "execute_result"
    }
   ],
   "source": [
    "item = []\n",
    "for item in ol_li:\n",
    "    item.append(item.get_text())\n",
    "item"
   ]
  },
  {
   "cell_type": "code",
   "execution_count": 74,
   "metadata": {},
   "outputs": [
    {
     "name": "stdout",
     "output_type": "stream",
     "text": [
      "hi\n",
      "bye\n"
     ]
    }
   ],
   "source": [
    "hi_bye = soup.select('[data-example]')\n",
    "for item in hi_bye:\n",
    "    print(item.get_text())"
   ]
  },
  {
   "cell_type": "code",
   "execution_count": 75,
   "metadata": {},
   "outputs": [
    {
     "name": "stdout",
     "output_type": "stream",
     "text": [
      "h3 yes\n",
      "div yes\n"
     ]
    }
   ],
   "source": [
    "for item in hi_bye:\n",
    "    print(item.name, item.attrs['data-example'])"
   ]
  },
  {
   "cell_type": "markdown",
   "metadata": {},
   "source": [
    "## .name, .attrs"
   ]
  },
  {
   "cell_type": "code",
   "execution_count": 76,
   "metadata": {},
   "outputs": [
    {
     "name": "stdout",
     "output_type": "stream",
     "text": [
      "li\n",
      "li\n"
     ]
    }
   ],
   "source": [
    "# norėdami gauti blokų pavadinimus pagal (pvz) klasę, darysime taip:\n",
    "elements = soup.select('.special')\n",
    "for element in elements:\n",
    "  print(element.name)\n",
    "\n",
    "# li\n",
    "# li"
   ]
  },
  {
   "cell_type": "code",
   "execution_count": 77,
   "metadata": {},
   "outputs": [
    {
     "name": "stdout",
     "output_type": "stream",
     "text": [
      "{'charset': 'UTF-8'}\n"
     ]
    }
   ],
   "source": [
    "# norėdami išgauti bloko atributus, naudosime .attrs:\n",
    "elements = soup.select('meta')\n",
    "print(elements[0].attrs)\n",
    "\n",
    "# {'charset': 'UTF-8'}"
   ]
  },
  {
   "cell_type": "code",
   "execution_count": 78,
   "metadata": {},
   "outputs": [
    {
     "name": "stdout",
     "output_type": "stream",
     "text": [
      "first\n"
     ]
    }
   ],
   "source": [
    "# Atributų reikšmes galime sužinoti tokiu būdu:\n",
    "attribute = soup.find('div')['id']\n",
    "print(attribute)\n",
    "\n",
    "# first"
   ]
  },
  {
   "cell_type": "code",
   "execution_count": 79,
   "metadata": {},
   "outputs": [
    {
     "data": {
      "text/plain": [
       "'first'"
      ]
     },
     "execution_count": 79,
     "metadata": {},
     "output_type": "execute_result"
    }
   ],
   "source": [
    "soup.find('div').attrs['id']"
   ]
  },
  {
   "cell_type": "markdown",
   "metadata": {},
   "source": [
    "## Navigacija tarp HTML elementų"
   ]
  },
  {
   "cell_type": "code",
   "execution_count": 80,
   "metadata": {},
   "outputs": [
    {
     "name": "stdout",
     "output_type": "stream",
     "text": [
      "['\\n', <h3 data-example=\"yes\">hi</h3>, '\\n', <p>more text.</p>, '\\n']\n"
     ]
    }
   ],
   "source": [
    "print(soup.div.contents)\n",
    "\n",
    "# ['\\n', <h3 data-example=\"yes\">hi</h3>, '\\n', <p>more text.</p>, '\\n']"
   ]
  },
  {
   "cell_type": "code",
   "execution_count": 81,
   "metadata": {},
   "outputs": [],
   "source": [
    "# būdas turi trūkumą, nes į sąrašą įtraukia naujos eilutės simbolius. Panagrinėkime html atkarpą:\n",
    "\n",
    "# <body>\n",
    "#   <div id=\"first\">\n",
    "#     <h3 data-example=\"yes\">hi</h3>\n",
    "#     <p>more text.</p>\n",
    "#   </div>\n",
    "#   <ol>\n",
    "#     <li class=\"special\">This list item is special.</li>\n",
    "#     <li class=\"special\">This list item is also special.</li>\n",
    "#     <li>This list item is not special.</li>\n",
    "#   </ol>\n",
    "#   <div data-example=\"yes\">bye</div>\n",
    "# </body>\n"
   ]
  },
  {
   "cell_type": "code",
   "execution_count": 82,
   "metadata": {},
   "outputs": [
    {
     "data": {
      "text/plain": [
       "<li class=\"special\">This list item is special.This list item is special.This list item is special.This list item is special.</li>"
      ]
     },
     "execution_count": 82,
     "metadata": {},
     "output_type": "execute_result"
    }
   ],
   "source": [
    "li = soup.find('li')\n",
    "li"
   ]
  },
  {
   "cell_type": "code",
   "execution_count": 83,
   "metadata": {},
   "outputs": [
    {
     "data": {
      "text/plain": [
       "<li class=\"special\">This list item is also special.This list item is also special.This list item is also special.This list item is also special.</li>"
      ]
     },
     "execution_count": 83,
     "metadata": {},
     "output_type": "execute_result"
    }
   ],
   "source": [
    "li.next_sibling.next_sibling"
   ]
  },
  {
   "cell_type": "code",
   "execution_count": 84,
   "metadata": {},
   "outputs": [
    {
     "data": {
      "text/plain": [
       "'This list item is special.'"
      ]
     },
     "execution_count": 84,
     "metadata": {},
     "output_type": "execute_result"
    }
   ],
   "source": [
    "li.next_element"
   ]
  },
  {
   "cell_type": "code",
   "execution_count": 85,
   "metadata": {},
   "outputs": [
    {
     "name": "stdout",
     "output_type": "stream",
     "text": [
      "\n",
      "\n",
      "<li class=\"special\">This list item is special.This list item is special.This list item is special.This list item is special.</li>\n",
      "This list item is special.\n",
      "This list item is special.\n",
      "This list item is special.This list item is special.\n",
      "\n",
      "\n",
      "<li class=\"special\">This list item is also special.This list item is also special.This list item is also special.This list item is also special.</li>\n",
      "This list item is also special.\n",
      "This list item is also special.\n",
      "This list item is also special.This list item is also special.\n",
      "\n",
      "\n",
      "<li>This list item is not special.This list item is not special.This list item is not special.This list item is not special.</li>\n",
      "This list item is not special.\n",
      "This list item is not special.\n",
      "This list item is not special.This list item is not special.\n",
      "\n",
      "\n",
      "\n",
      "\n",
      "<div data-example=\"yes\">bye</div>\n",
      "bye\n",
      "\n",
      "\n",
      "\n",
      "\n",
      "\n",
      "\n"
     ]
    }
   ],
   "source": [
    "for element in li.parent.next_elements:\n",
    "    print(element)"
   ]
  },
  {
   "cell_type": "code",
   "execution_count": 86,
   "metadata": {},
   "outputs": [],
   "source": [
    "# body turi tris 'vaikus' - div, ol, div, vienas kitam jie yra 'broliai'(siblings), nes yra viename hierarchijos lygyje.\n",
    "# li = soup.find('li')\n",
    "# print(li.next_sibling.next_sibling) #todėl, kad '\\n' užskaito už siblingą\n",
    "\n",
    "# <li class=\"special\">This list item is also special.</li>"
   ]
  },
  {
   "cell_type": "code",
   "execution_count": 87,
   "metadata": {},
   "outputs": [
    {
     "name": "stdout",
     "output_type": "stream",
     "text": [
      "<ol>\n",
      "<li class=\"special\">This list item is special.This list item is special.This list item is special.This list item is special.</li>\n",
      "<li class=\"special\">This list item is also special.This list item is also special.This list item is also special.This list item is also special.</li>\n",
      "<li>This list item is not special.This list item is not special.This list item is not special.This list item is not special.</li>\n",
      "</ol>\n"
     ]
    }
   ],
   "source": [
    "# suradome sekantį pirmojo li elemento 'brolį' (analogiškai galima dirbti su previous_sibling)\n",
    "print(li.parent)\n",
    "\n",
    "# <ol>\n",
    "# <li class=\"special\">This list item is special.</li>\n",
    "# <li class=\"special\">This list item is also special.</li>\n",
    "# <li>This list item is not special.</li>\n",
    "# </ol>"
   ]
  },
  {
   "cell_type": "code",
   "execution_count": 88,
   "metadata": {},
   "outputs": [
    {
     "data": {
      "text/plain": [
       "<body>\n",
       "<div id=\"first\">\n",
       "<h3 data-example=\"yes\">hi</h3>\n",
       "<p>more text.</p>\n",
       "</div>\n",
       "<ol>\n",
       "<li class=\"special\">This list item is special.This list item is special.This list item is special.This list item is special.</li>\n",
       "<li class=\"special\">This list item is also special.This list item is also special.This list item is also special.This list item is also special.</li>\n",
       "<li>This list item is not special.This list item is not special.This list item is not special.This list item is not special.</li>\n",
       "</ol>\n",
       "<div data-example=\"yes\">bye</div>\n",
       "</body>"
      ]
     },
     "execution_count": 88,
     "metadata": {},
     "output_type": "execute_result"
    }
   ],
   "source": [
    "li.parent.parent"
   ]
  },
  {
   "cell_type": "code",
   "execution_count": 89,
   "metadata": {},
   "outputs": [
    {
     "data": {
      "text/plain": [
       "<li class=\"special\">This list item is also special.This list item is also special.This list item is also special.This list item is also special.</li>"
      ]
     },
     "execution_count": 89,
     "metadata": {},
     "output_type": "execute_result"
    }
   ],
   "source": [
    "li.find_next_sibling()"
   ]
  },
  {
   "cell_type": "code",
   "execution_count": 90,
   "metadata": {},
   "outputs": [
    {
     "name": "stdout",
     "output_type": "stream",
     "text": [
      "<li>This list item is not special.This list item is not special.This list item is not special.This list item is not special.</li>\n"
     ]
    }
   ],
   "source": [
    "print(li.find_next_sibling(class_=''))"
   ]
  },
  {
   "cell_type": "markdown",
   "metadata": {},
   "source": [
    "## Kombinacijos"
   ]
  },
  {
   "cell_type": "code",
   "execution_count": 93,
   "metadata": {},
   "outputs": [
    {
     "data": {
      "text/plain": [
       "'first'"
      ]
     },
     "execution_count": 93,
     "metadata": {},
     "output_type": "execute_result"
    }
   ],
   "source": [
    "# naviguojant galime kurti tokias ir panašias grandines:\n",
    "\n",
    "li.find_parent().find_previous_sibling().attrs['id']"
   ]
  },
  {
   "cell_type": "code",
   "execution_count": 101,
   "metadata": {},
   "outputs": [
    {
     "data": {
      "text/plain": [
       "'yes'"
      ]
     },
     "execution_count": 101,
     "metadata": {},
     "output_type": "execute_result"
    }
   ],
   "source": [
    "soup.body.next_element.next_element.next_element.next_element.attrs['data-example']"
   ]
  },
  {
   "cell_type": "code",
   "execution_count": 95,
   "metadata": {},
   "outputs": [
    {
     "name": "stdout",
     "output_type": "stream",
     "text": [
      "hi\n"
     ]
    }
   ],
   "source": [
    "res = soup.body.next_element.next_element.next_element.next_element.get_text()\n",
    "print(res)"
   ]
  },
  {
   "cell_type": "markdown",
   "metadata": {},
   "source": [
    "## Request"
   ]
  },
  {
   "cell_type": "code",
   "execution_count": 115,
   "metadata": {},
   "outputs": [],
   "source": [
    "# Requests yra Python biblioteka darbui su HTTP užklausomis.\n",
    "# Norint pradėti darbą, reikia importuoti requests:\n",
    "import requests"
   ]
  },
  {
   "cell_type": "code",
   "execution_count": 116,
   "metadata": {},
   "outputs": [
    {
     "data": {
      "text/plain": [
       "<Response [200]>"
      ]
     },
     "execution_count": 116,
     "metadata": {},
     "output_type": "execute_result"
    }
   ],
   "source": [
    "# Dabar susikurkime objektą, kuris bus atsakas į mūsų užklausą:\n",
    "google = requests.get('http://google.com')\n",
    "google\n"
   ]
  },
  {
   "cell_type": "code",
   "execution_count": 105,
   "metadata": {},
   "outputs": [
    {
     "data": {
      "text/plain": [
       "200"
      ]
     },
     "execution_count": 105,
     "metadata": {},
     "output_type": "execute_result"
    }
   ],
   "source": [
    "google.status_code"
   ]
  },
  {
   "cell_type": "code",
   "execution_count": 117,
   "metadata": {},
   "outputs": [
    {
     "data": {
      "text/plain": [
       "b'<!doctype html><html itemscope=\"\" itemtype=\"http://schema.org/WebPage\" lang=\"tr\"><head><meta content=\"text/html; charset=UTF-8\" http-equiv=\"Content-Type\"><meta content=\"/images/branding/googleg/1x/googleg_standard_color_128dp.png\" itemprop=\"image\"><title>Google</title><script nonce=\"mDkeFUt594woAhEFzwqQkA\">(function(){window.google={kEI:\\'n3NjY-imFMulptQPwdm1wAM\\',kEXPI:\\'0,1302536,56873,6059,206,4804,2316,383,246,5,5367,1123753,1197731,380760,16114,28684,22431,1361,12311,2823,14765,4998,13226,3849,10622,22741,5081,887,706,1279,2742,149,1103,840,1983,214,4100,3514,606,2023,1733,43,521,14670,3227,2845,7,33770,1851,6397,9359,3,346,230,6459,150,13974,4,1528,2304,7039,27731,7355,11444,2216,21223,5827,2530,4094,4052,3,3541,1,42154,2,28138,11623,5679,1020,2381,12485,16257,4568,6258,23418,1252,5835,14967,4333,7484,445,2,2,1,1385,15921,9326,8155,6680,701,15970,873,7829,11804,7,1922,5784,3995,20639,1140,9543,4832,11642,5496,700,4,1,2,2,2,2,8652,8793,88,9237,2,2017,14,82,949,2941,751,201,1869,940,10886,1328,341,1622,3606,2024,1114,1,10,765,774,42,3166,299,3067,3,15,705,73,81,22,224,32,3860,1426,336,964,102,1490,91,2278,525,585,385,1117,380,5,563,400,588,544,847,945,199,554,367,444,6,488,95,37,6,350,329,185,307,302,748,29,265,41,4,57,1066,925,389,588,318,674,243,2,2,114,130,539,227,447,699,473,141,57,1491,167,30,43,26,310,376,1,3151,11,319,541,373,2,182,473,3,421,972,756,411,102,5310348,139,5994791,1048,2803376,3311,141,795,19735,2,300,46,2281,118,16,18,23948051,488,4041655,1964,3094,13579,3405,11319,2190\\',kBL:\\'y__Z\\'};google.sn=\\'webhp\\';google.kHL=\\'tr\\';})();(function(){\\nvar f=this||self;var h,k=[];function l(a){for(var b;a&&(!a.getAttribute||!(b=a.getAttribute(\"eid\")));)a=a.parentNode;return b||h}function m(a){for(var b=null;a&&(!a.getAttribute||!(b=a.getAttribute(\"leid\")));)a=a.parentNode;return b}\\nfunction n(a,b,c,d,g){var e=\"\";c||-1!==b.search(\"&ei=\")||(e=\"&ei=\"+l(d),-1===b.search(\"&lei=\")&&(d=m(d))&&(e+=\"&lei=\"+d));d=\"\";!c&&f._cshid&&-1===b.search(\"&cshid=\")&&\"slh\"!==a&&(d=\"&cshid=\"+f._cshid);c=c||\"/\"+(g||\"gen_204\")+\"?atyp=i&ct=\"+a+\"&cad=\"+b+e+\"&zx=\"+Date.now()+d;/^http:/i.test(c)&&\"https:\"===window.location.protocol&&(google.ml&&google.ml(Error(\"a\"),!1,{src:c,glmm:1}),c=\"\");return c};h=google.kEI;google.getEI=l;google.getLEI=m;google.ml=function(){return null};google.log=function(a,b,c,d,g){if(c=n(a,b,c,d,g)){a=new Image;var e=k.length;k[e]=a;a.onerror=a.onload=a.onabort=function(){delete k[e]};a.src=c}};google.logUrl=n;}).call(this);(function(){\\ngoogle.y={};google.sy=[];google.x=function(a,b){if(a)var c=a.id;else{do c=Math.random();while(google.y[c])}google.y[c]=[a,b];return!1};google.sx=function(a){google.sy.push(a)};google.lm=[];google.plm=function(a){google.lm.push.apply(google.lm,a)};google.lq=[];google.load=function(a,b,c){google.lq.push([[a],b,c])};google.loadAll=function(a,b){google.lq.push([a,b])};google.bx=!1;google.lx=function(){};}).call(this);google.f={};(function(){\\ndocument.documentElement.addEventListener(\"submit\",function(b){var a;if(a=b.target){var c=a.getAttribute(\"data-submitfalse\");a=\"1\"===c||\"q\"===c&&!a.elements.q.value?!0:!1}else a=!1;a&&(b.preventDefault(),b.stopPropagation())},!0);document.documentElement.addEventListener(\"click\",function(b){var a;a:{for(a=b.target;a&&a!==document.documentElement;a=a.parentElement)if(\"A\"===a.tagName){a=\"1\"===a.getAttribute(\"data-nohref\");break a}a=!1}a&&b.preventDefault()},!0);}).call(this);</script><style>#gbar,#guser{font-size:13px;padding-top:1px !important;}#gbar{height:22px}#guser{padding-bottom:7px !important;text-align:right}.gbh,.gbd{border-top:1px solid #c9d7f1;font-size:1px}.gbh{height:0;position:absolute;top:24px;width:100%}@media all{.gb1{height:22px;margin-right:.5em;vertical-align:top}#gbar{float:left}}a.gb1,a.gb4{text-decoration:underline !important}a.gb1,a.gb4{color:#00c !important}.gbi .gb4{color:#dd8e27 !important}.gbf .gb4{color:#900 !important}\\n</style><style>body,td,a,p,.h{font-family:arial,sans-serif}body{margin:0;overflow-y:scroll}#gog{padding:3px 8px 0}td{line-height:.8em}.gac_m td{line-height:17px}form{margin-bottom:20px}.h{color:#1558d6}em{font-weight:bold;font-style:normal}.lst{height:25px;width:496px}.gsfi,.lst{font:18px arial,sans-serif}.gsfs{font:17px arial,sans-serif}.ds{display:inline-box;display:inline-block;margin:3px 0 4px;margin-left:4px}input{font-family:inherit}body{background:#fff;color:#000}a{color:#4b11a8;text-decoration:none}a:hover,a:active{text-decoration:underline}.fl a{color:#1558d6}a:visited{color:#4b11a8}.sblc{padding-top:5px}.sblc a{display:block;margin:2px 0;margin-left:13px;font-size:11px}.lsbb{background:#f8f9fa;border:solid 1px;border-color:#dadce0 #70757a #70757a #dadce0;height:30px}.lsbb{display:block}#WqQANb a{display:inline-block;margin:0 12px}.lsb{background:url(/images/nav_logo229.png) 0 -261px repeat-x;border:none;color:#000;cursor:pointer;height:30px;margin:0;outline:0;font:15px arial,sans-serif;vertical-align:top}.lsb:active{background:#dadce0}.lst:focus{outline:none}.Ucigb{width:458px}</style><script nonce=\"mDkeFUt594woAhEFzwqQkA\">(function(){window.google.erd={jsr:1,bv:1681,de:true};\\nvar h=this||self;var k,l=null!=(k=h.mei)?k:1,n,p=null!=(n=h.sdo)?n:!0,q=0,r,t=google.erd,v=t.jsr;google.ml=function(a,b,d,m,e){e=void 0===e?2:e;b&&(r=a&&a.message);if(google.dl)return google.dl(a,e,d),null;if(0>v){window.console&&console.error(a,d);if(-2===v)throw a;b=!1}else b=!a||!a.message||\"Error loading script\"===a.message||q>=l&&!m?!1:!0;if(!b)return null;q++;d=d||{};b=encodeURIComponent;var c=\"/gen_204?atyp=i&ei=\"+b(google.kEI);google.kEXPI&&(c+=\"&jexpid=\"+b(google.kEXPI));c+=\"&srcpg=\"+b(google.sn)+\"&jsr=\"+b(t.jsr)+\"&bver=\"+b(t.bv);var f=a.lineNumber;void 0!==f&&(c+=\"&line=\"+f);var g=\\na.fileName;g&&(0<g.indexOf(\"-extension:/\")&&(e=3),c+=\"&script=\"+b(g),f&&g===window.location.href&&(f=document.documentElement.outerHTML.split(\"\\\\n\")[f],c+=\"&cad=\"+b(f?f.substring(0,300):\"No script found.\")));c+=\"&jsel=\"+e;for(var u in d)c+=\"&\",c+=b(u),c+=\"=\",c+=b(d[u]);c=c+\"&emsg=\"+b(a.name+\": \"+a.message);c=c+\"&jsst=\"+b(a.stack||\"N/A\");12288<=c.length&&(c=c.substr(0,12288));a=c;m||google.log(0,\"\",a);return a};window.onerror=function(a,b,d,m,e){r!==a&&(a=e instanceof Error?e:Error(a),void 0===d||\"lineNumber\"in a||(a.lineNumber=d),void 0===b||\"fileName\"in a||(a.fileName=b),google.ml(a,!1,void 0,!1,\"SyntaxError\"===a.name||\"SyntaxError\"===a.message.substring(0,11)||-1!==a.message.indexOf(\"Script error\")?3:0));r=null;p&&q>=l&&(window.onerror=null)};})();</script></head><body bgcolor=\"#fff\"><script nonce=\"mDkeFUt594woAhEFzwqQkA\">(function(){var src=\\'/images/nav_logo229.png\\';var iesg=false;document.body.onload = function(){window.n && window.n();if (document.images){new Image().src=src;}\\nif (!iesg){document.f&&document.f.q.focus();document.gbqf&&document.gbqf.q.focus();}\\n}\\n})();</script><div id=\"mngb\"><div id=gbar><nobr><b class=gb1>Arama</b> <a class=gb1 href=\"http://www.google.com.tr/imghp?hl=tr&tab=wi\">G\\xf6rseller</a> <a class=gb1 href=\"http://maps.google.com.tr/maps?hl=tr&tab=wl\">Haritalar</a> <a class=gb1 href=\"https://play.google.com/?hl=tr&tab=w8\">Play</a> <a class=gb1 href=\"https://www.youtube.com/?tab=w1\">YouTube</a> <a class=gb1 href=\"https://news.google.com/?tab=wn\">Haberler</a> <a class=gb1 href=\"https://mail.google.com/mail/?tab=wm\">Gmail</a> <a class=gb1 href=\"https://drive.google.com/?tab=wo\">Drive</a> <a class=gb1 style=\"text-decoration:none\" href=\"https://www.google.com.tr/intl/tr/about/products?tab=wh\"><u>Daha fazlas&#305;</u> &raquo;</a></nobr></div><div id=guser width=100%><nobr><span id=gbn class=gbi></span><span id=gbf class=gbf></span><span id=gbe></span><a href=\"http://www.google.com.tr/history/optout?hl=tr\" class=gb4>Web Ge\\xe7mi&#351;i</a> | <a  href=\"/preferences?hl=tr\" class=gb4>Ayarlar</a> | <a target=_top id=gb_70 href=\"https://accounts.google.com/ServiceLogin?hl=tr&passive=true&continue=http://www.google.com/&ec=GAZAAQ\" class=gb4>Oturum a\\xe7&#305;n</a></nobr></div><div class=gbh style=left:0></div><div class=gbh style=right:0></div></div><center><br clear=\"all\" id=\"lgpd\"><div id=\"lga\"><img alt=\"Google\" height=\"92\" src=\"/images/branding/googlelogo/1x/googlelogo_white_background_color_272x92dp.png\" style=\"padding:28px 0 14px\" width=\"272\" id=\"hplogo\"><br><br></div><form action=\"/search\" name=\"f\"><table cellpadding=\"0\" cellspacing=\"0\"><tr valign=\"top\"><td width=\"25%\">&nbsp;</td><td align=\"center\" nowrap=\"\"><input name=\"ie\" value=\"ISO-8859-1\" type=\"hidden\"><input value=\"tr\" name=\"hl\" type=\"hidden\"><input name=\"source\" type=\"hidden\" value=\"hp\"><input name=\"biw\" type=\"hidden\"><input name=\"bih\" type=\"hidden\"><div class=\"ds\" style=\"height:32px;margin:4px 0\"><div style=\"position:relative;zoom:1\"><input class=\"lst Ucigb\" style=\"margin:0;padding:5px 8px 0 6px;vertical-align:top;color:#000;padding-right:38px\" autocomplete=\"off\" value=\"\" title=\"Google\\'da Ara\" maxlength=\"2048\" name=\"q\" size=\"57\"><img src=\"/textinputassistant/tia.png\" style=\"position:absolute;cursor:pointer;right:5px;top:4px;z-index:300\" data-script-url=\"/textinputassistant/11/tr_tia.js\" id=\"tsuid_1\" alt=\"\" height=\"23\" width=\"27\"><script nonce=\"mDkeFUt594woAhEFzwqQkA\">(function(){var id=\\'tsuid_1\\';document.getElementById(id).onclick = function(){var s = document.createElement(\\'script\\');s.src = this.getAttribute(\\'data-script-url\\');(document.getElementById(\\'xjsc\\')||document.body).appendChild(s);};})();</script></div></div><br style=\"line-height:0\"><span class=\"ds\"><span class=\"lsbb\"><input class=\"lsb\" value=\"Google\\'da Ara\" name=\"btnG\" type=\"submit\"></span></span><span class=\"ds\"><span class=\"lsbb\"><input class=\"lsb\" id=\"tsuid_2\" value=\"Kendimi &#350;ansl&#305; Hissediyorum\" name=\"btnI\" type=\"submit\"><script nonce=\"mDkeFUt594woAhEFzwqQkA\">(function(){var id=\\'tsuid_2\\';document.getElementById(id).onclick = function(){if (this.form.q.value){this.checked = 1;if (this.form.iflsig)this.form.iflsig.disabled = false;}\\nelse top.location=\\'/doodles/\\';};})();</script><input value=\"AJiK0e8AAAAAY2OBryFTDZa0X9Y1yA9KsuyGsBsEqiP4\" name=\"iflsig\" type=\"hidden\"></span></span></td><td class=\"fl sblc\" align=\"left\" nowrap=\"\" width=\"25%\"><a href=\"/advanced_search?hl=tr&amp;authuser=0\">Geli&#351;mi&#351; arama</a></td></tr></table><input id=\"gbv\" name=\"gbv\" type=\"hidden\" value=\"1\"><script nonce=\"mDkeFUt594woAhEFzwqQkA\">(function(){\\nvar a,b=\"1\";if(document&&document.getElementById)if(\"undefined\"!=typeof XMLHttpRequest)b=\"2\";else if(\"undefined\"!=typeof ActiveXObject){var c,d,e=[\"MSXML2.XMLHTTP.6.0\",\"MSXML2.XMLHTTP.3.0\",\"MSXML2.XMLHTTP\",\"Microsoft.XMLHTTP\"];for(c=0;d=e[c++];)try{new ActiveXObject(d),b=\"2\"}catch(h){}}a=b;if(\"2\"==a&&-1==location.search.indexOf(\"&gbv=2\")){var f=google.gbvu,g=document.getElementById(\"gbv\");g&&(g.value=a);f&&window.setTimeout(function(){location.href=f},0)};}).call(this);</script></form><div id=\"gac_scont\"></div><div style=\"font-size:83%;min-height:3.5em\"><br></div><span id=\"footer\"><div style=\"font-size:10pt\"><div style=\"margin:19px auto;text-align:center\" id=\"WqQANb\"><a href=\"http://www.google.com.tr/intl/tr/services/\">&#304;&#351;letme \\xc7\\xf6z\\xfcmleri</a><a href=\"/intl/tr/about.html\">Google Hakk&#305;nda</a><a href=\"http://www.google.com/setprefdomain?prefdom=TR&amp;prev=http://www.google.com.tr/&amp;sig=K_P2WpYNu0kWhv9JhouZjbvno-ghM%3D\">Google.com.tr</a></div></div><p style=\"font-size:8pt;color:#70757a\">&copy; 2022 - <a href=\"/intl/tr/policies/privacy/\">Gizlilik</a> - <a href=\"/intl/tr/policies/terms/\">&#350;artlar</a></p></span></center><script nonce=\"mDkeFUt594woAhEFzwqQkA\">(function(){window.google.cdo={height:757,width:1440};(function(){\\nvar a=window.innerWidth,b=window.innerHeight;if(!a||!b){var c=window.document,d=\"CSS1Compat\"==c.compatMode?c.documentElement:c.body;a=d.clientWidth;b=d.clientHeight}a&&b&&(a!=google.cdo.width||b!=google.cdo.height)&&google.log(\"\",\"\",\"/client_204?&atyp=i&biw=\"+a+\"&bih=\"+b+\"&ei=\"+google.kEI);}).call(this);})();</script> <script nonce=\"mDkeFUt594woAhEFzwqQkA\">(function(){google.xjs={ck:\\'xjs.hp.SFT3mjTrtTM.L.X.O\\',cs:\\'ACT90oEKUuIvLpAj-Nd32BopmEjfweHs3g\\',excm:[]};})();</script>  <script nonce=\"mDkeFUt594woAhEFzwqQkA\">(function(){var u=\\'/xjs/_/js/k\\\\x3dxjs.hp.en.7IJQgfdu48I.O/am\\\\x3dAAB0AgBQAGAB/d\\\\x3d1/ed\\\\x3d1/rs\\\\x3dACT90oG-7Zlv5V9X5pqvm7Mlk5EmlmADRQ/m\\\\x3dsb_he,d\\';\\nvar d=this||self,e=function(a){return a};\\nvar g;var l=function(a,b){this.g=b===h?a:\"\"};l.prototype.toString=function(){return this.g+\"\"};var h={};function n(){var a=u;google.lx=function(){p(a);google.lx=function(){}};google.bx||google.lx()}\\nfunction p(a){google.timers&&google.timers.load&&google.tick&&google.tick(\"load\",\"xjsls\");var b=document;var c=\"SCRIPT\";\"application/xhtml+xml\"===b.contentType&&(c=c.toLowerCase());c=b.createElement(c);if(void 0===g){b=null;var k=d.trustedTypes;if(k&&k.createPolicy){try{b=k.createPolicy(\"goog#html\",{createHTML:e,createScript:e,createScriptURL:e})}catch(q){d.console&&d.console.error(q.message)}g=b}else g=b}a=(b=g)?b.createScriptURL(a):a;a=new l(a,h);c.src=a instanceof l&&a.constructor===l?a.g:\"type_error:TrustedResourceUrl\";var f,m;(f=(a=null==(m=(f=(c.ownerDocument&&c.ownerDocument.defaultView||window).document).querySelector)?void 0:m.call(f,\"script[nonce]\"))?a.nonce||a.getAttribute(\"nonce\")||\"\":\"\")&&c.setAttribute(\"nonce\",f);document.body.appendChild(c);google.psa=!0};google.xjsu=u;setTimeout(function(){n()},0);})();function _DumpException(e){throw e;}\\nfunction _F_installCss(c){}\\n(function(){google.jl={blt:\\'none\\',chnk:0,dw:false,dwu:true,emtn:0,end:0,ine:false,injs:\\'none\\',injt:0,injth:0,injv2:false,lls:\\'default\\',pdt:0,rep:0,snet:true,strt:0,ubm:false,uwp:true};})();(function(){var pmc=\\'{\\\\x22d\\\\x22:{},\\\\x22sb_he\\\\x22:{\\\\x22agen\\\\x22:true,\\\\x22cgen\\\\x22:true,\\\\x22client\\\\x22:\\\\x22heirloom-hp\\\\x22,\\\\x22dh\\\\x22:true,\\\\x22dhqt\\\\x22:true,\\\\x22ds\\\\x22:\\\\x22\\\\x22,\\\\x22ffql\\\\x22:\\\\x22en\\\\x22,\\\\x22fl\\\\x22:true,\\\\x22host\\\\x22:\\\\x22google.com\\\\x22,\\\\x22isbh\\\\x22:28,\\\\x22jsonp\\\\x22:true,\\\\x22msgs\\\\x22:{\\\\x22cibl\\\\x22:\\\\x22Aramay&#305; Temizle\\\\x22,\\\\x22dym\\\\x22:\\\\x22Bunu mu demek istediniz?\\\\x22,\\\\x22lcky\\\\x22:\\\\x22Kendimi &#350;ansl&#305; Hissediyorum\\\\x22,\\\\x22lml\\\\x22:\\\\x22Daha fazla bilgi edinin\\\\x22,\\\\x22oskt\\\\x22:\\\\x22Harf \\xe7evirme arac&#305;\\\\x22,\\\\x22psrc\\\\x22:\\\\x22Bu arama \\\\\\\\u003Ca href\\\\x3d\\\\\\\\\\\\x22/history\\\\\\\\\\\\x22\\\\\\\\u003EWeb Ge\\xe7mi&#351;inizden\\\\\\\\u003C/a\\\\\\\\u003E kald&#305;r&#305;ld&#305;\\\\x22,\\\\x22psrl\\\\x22:\\\\x22Kald&#305;r\\\\x22,\\\\x22sbit\\\\x22:\\\\x22G\\xf6rselle ara\\\\x22,\\\\x22srch\\\\x22:\\\\x22Google\\\\\\\\u0026#39;da Ara\\\\x22},\\\\x22ovr\\\\x22:{},\\\\x22pq\\\\x22:\\\\x22\\\\x22,\\\\x22refpd\\\\x22:true,\\\\x22rfs\\\\x22:[],\\\\x22sbas\\\\x22:\\\\x220 3px 8px 0 rgba(0,0,0,0.2),0 0 0 1px rgba(0,0,0,0.08)\\\\x22,\\\\x22sbpl\\\\x22:16,\\\\x22sbpr\\\\x22:16,\\\\x22scd\\\\x22:10,\\\\x22stok\\\\x22:\\\\x22J0GJ5B9pP_0C3QJJrTktluRupzk\\\\x22,\\\\x22uhde\\\\x22:false}}\\';google.pmc=JSON.parse(pmc);})();</script>        </body></html>'"
      ]
     },
     "execution_count": 117,
     "metadata": {},
     "output_type": "execute_result"
    }
   ],
   "source": [
    "google.content"
   ]
  },
  {
   "cell_type": "code",
   "execution_count": 109,
   "metadata": {},
   "outputs": [],
   "source": [
    "if google.status_code == 200:\n",
    "    google_soup = BeautifulSoup(google.content, 'html.parser')\n",
    "else:\n",
    "    google_soup = google.status_code"
   ]
  },
  {
   "cell_type": "code",
   "execution_count": 114,
   "metadata": {},
   "outputs": [
    {
     "ename": "IndexError",
     "evalue": "list index out of range",
     "output_type": "error",
     "traceback": [
      "\u001b[1;31m---------------------------------------------------------------------------\u001b[0m",
      "\u001b[1;31mIndexError\u001b[0m                                Traceback (most recent call last)",
      "Cell \u001b[1;32mIn [114], line 1\u001b[0m\n\u001b[1;32m----> 1\u001b[0m google_soup\u001b[39m.\u001b[39;49mbody\u001b[39m.\u001b[39;49mselect(\u001b[39m'\u001b[39;49m\u001b[39m.box\u001b[39;49m\u001b[39m'\u001b[39;49m)[\u001b[39m0\u001b[39;49m]\u001b[39m.\u001b[39mselect_one(\u001b[39m'\u001b[39m\u001b[39mimg\u001b[39m\u001b[39m'\u001b[39m)\u001b[39m.\u001b[39mattrs[\u001b[39m'\u001b[39m\u001b[39msrc\u001b[39m\u001b[39m'\u001b[39m]\n",
      "\u001b[1;31mIndexError\u001b[0m: list index out of range"
     ]
    }
   ],
   "source": [
    "google_soup.body.select('.box')[0].select_one('img').attrs['src']"
   ]
  },
  {
   "cell_type": "code",
   "execution_count": 119,
   "metadata": {},
   "outputs": [
    {
     "data": {
      "text/plain": [
       "200"
      ]
     },
     "execution_count": 119,
     "metadata": {},
     "output_type": "execute_result"
    }
   ],
   "source": [
    "python = requests.get('https://python.org')\n",
    "python.status_code"
   ]
  },
  {
   "cell_type": "code",
   "execution_count": 120,
   "metadata": {},
   "outputs": [
    {
     "data": {
      "text/plain": [
       "<body class=\"python home\" id=\"homepage\">\n",
       "<div id=\"touchnav-wrapper\">\n",
       "<div class=\"do-not-print\" id=\"nojs\">\n",
       "<p><strong>Notice:</strong> While JavaScript is not essential for this website, your interaction with the content will be limited. Please turn JavaScript on for the full experience. </p>\n",
       "</div>\n",
       "<!--[if lte IE 8]>\n",
       "        <div id=\"oldie-warning\" class=\"do-not-print\">\n",
       "            <p>\n",
       "                <strong>Notice:</strong> Your browser is <em>ancient</em>. Please\n",
       "                <a href=\"http://browsehappy.com/\">upgrade to a different browser</a> to experience a better web.\n",
       "            </p>\n",
       "        </div>\n",
       "        <![endif]-->\n",
       "<!-- Sister Site Links -->\n",
       "<div class=\"top-bar do-not-print\" id=\"top\">\n",
       "<nav class=\"meta-navigation container\" role=\"navigation\">\n",
       "<div class=\"skip-link screen-reader-text\">\n",
       "<a href=\"#content\" title=\"Skip to content\">Skip to content</a>\n",
       "</div>\n",
       "<a aria-hidden=\"true\" class=\"jump-link\" href=\"#python-network\" id=\"close-python-network\">\n",
       "<span aria-hidden=\"true\" class=\"icon-arrow-down\"><span>▼</span></span> Close\n",
       "                </a>\n",
       "<ul class=\"menu\" role=\"tree\">\n",
       "<li class=\"python-meta current_item selectedcurrent_branch selected\">\n",
       "<a class=\"current_item selectedcurrent_branch selected\" href=\"/\" title=\"The Python Programming Language\">Python</a>\n",
       "</li>\n",
       "<li class=\"psf-meta\">\n",
       "<a href=\"/psf-landing/\" title=\"The Python Software Foundation\">PSF</a>\n",
       "</li>\n",
       "<li class=\"docs-meta\">\n",
       "<a href=\"https://docs.python.org\" title=\"Python Documentation\">Docs</a>\n",
       "</li>\n",
       "<li class=\"pypi-meta\">\n",
       "<a href=\"https://pypi.org/\" title=\"Python Package Index\">PyPI</a>\n",
       "</li>\n",
       "<li class=\"jobs-meta\">\n",
       "<a href=\"/jobs/\" title=\"Python Job Board\">Jobs</a>\n",
       "</li>\n",
       "<li class=\"shop-meta\">\n",
       "<a href=\"/community-landing/\">Community</a>\n",
       "</li>\n",
       "</ul>\n",
       "<a aria-hidden=\"true\" class=\"jump-link\" href=\"#top\" id=\"python-network\">\n",
       "<span aria-hidden=\"true\" class=\"icon-arrow-up\"><span>▲</span></span> The Python Network\n",
       "                </a>\n",
       "</nav>\n",
       "</div>\n",
       "<!-- Header elements -->\n",
       "<header class=\"main-header\" role=\"banner\">\n",
       "<div class=\"container\">\n",
       "<h1 class=\"site-headline\">\n",
       "<a href=\"/\"><img alt=\"python™\" class=\"python-logo\" src=\"/static/img/python-logo.png\"/></a>\n",
       "</h1>\n",
       "<div class=\"options-bar-container do-not-print\">\n",
       "<a class=\"donate-button\" href=\"https://psfmember.org/civicrm/contribute/transact?reset=1&amp;id=2\">Donate</a>\n",
       "<div class=\"options-bar\">\n",
       "<a class=\"jump-to-menu\" href=\"#site-map\" id=\"site-map-link\"><span class=\"menu-icon\">≡</span> Menu</a><form action=\"/search/\" class=\"search-the-site\" method=\"get\">\n",
       "<fieldset title=\"Search Python.org\">\n",
       "<span aria-hidden=\"true\" class=\"icon-search\"></span>\n",
       "<label class=\"screen-reader-text\" for=\"id-search-field\">Search This Site</label>\n",
       "<input class=\"search-field\" id=\"id-search-field\" name=\"q\" placeholder=\"Search\" role=\"textbox\" tabindex=\"1\" type=\"search\" value=\"\"/>\n",
       "<button class=\"search-button\" id=\"submit\" name=\"submit\" tabindex=\"3\" title=\"Submit this Search\" type=\"submit\">\n",
       "                                    GO\n",
       "                                </button>\n",
       "<!--[if IE]><input type=\"text\" style=\"display: none;\" disabled=\"disabled\" size=\"1\" tabindex=\"4\"><![endif]-->\n",
       "</fieldset>\n",
       "</form><span class=\"breaker\"></span><div aria-hidden=\"true\" class=\"adjust-font-size\">\n",
       "<ul aria-label=\"Adjust Text Size on Page\" class=\"navigation menu\">\n",
       "<li aria-haspopup=\"true\" class=\"tier-1 last\">\n",
       "<a class=\"action-trigger\" href=\"#\"><strong><small>A</small> A</strong></a>\n",
       "<ul class=\"subnav menu\">\n",
       "<li class=\"tier-2 element-1\" role=\"treeitem\"><a class=\"text-shrink\" href=\"javascript:;\" title=\"Make Text Smaller\">Smaller</a></li>\n",
       "<li class=\"tier-2 element-2\" role=\"treeitem\"><a class=\"text-grow\" href=\"javascript:;\" title=\"Make Text Larger\">Larger</a></li>\n",
       "<li class=\"tier-2 element-3\" role=\"treeitem\"><a class=\"text-reset\" href=\"javascript:;\" title=\"Reset any font size changes I have made\">Reset</a></li>\n",
       "</ul>\n",
       "</li>\n",
       "</ul>\n",
       "</div><div class=\"winkwink-nudgenudge\">\n",
       "<ul aria-label=\"Social Media Navigation\" class=\"navigation menu\">\n",
       "<li aria-haspopup=\"true\" class=\"tier-1 last\">\n",
       "<a class=\"action-trigger\" href=\"#\">Socialize</a>\n",
       "<ul class=\"subnav menu\">\n",
       "<li class=\"tier-2 element-1\" role=\"treeitem\"><a href=\"https://www.facebook.com/pythonlang?fref=ts\"><span aria-hidden=\"true\" class=\"icon-facebook\"></span>Facebook</a></li>\n",
       "<li class=\"tier-2 element-2\" role=\"treeitem\"><a href=\"https://twitter.com/ThePSF\"><span aria-hidden=\"true\" class=\"icon-twitter\"></span>Twitter</a></li>\n",
       "<li class=\"tier-2 element-3\" role=\"treeitem\"><a href=\"/community/irc/\"><span aria-hidden=\"true\" class=\"icon-freenode\"></span>Chat on IRC</a></li>\n",
       "</ul>\n",
       "</li>\n",
       "</ul>\n",
       "</div>\n",
       "<span data-html-include=\"/authenticated\"></span>\n",
       "</div><!-- end options-bar -->\n",
       "</div>\n",
       "<nav class=\"python-navigation main-navigation do-not-print\" id=\"mainnav\" role=\"navigation\">\n",
       "<ul aria-label=\"Main Navigation\" class=\"navigation menu\" role=\"menubar\">\n",
       "<li aria-haspopup=\"true\" class=\"tier-1 element-1\" id=\"about\">\n",
       "<a class=\"\" href=\"/about/\" title=\"\">About</a>\n",
       "<ul aria-hidden=\"true\" class=\"subnav menu\" role=\"menu\">\n",
       "<li class=\"tier-2 element-1\" role=\"treeitem\"><a href=\"/about/apps/\" title=\"\">Applications</a></li>\n",
       "<li class=\"tier-2 element-2\" role=\"treeitem\"><a href=\"/about/quotes/\" title=\"\">Quotes</a></li>\n",
       "<li class=\"tier-2 element-3\" role=\"treeitem\"><a href=\"/about/gettingstarted/\" title=\"\">Getting Started</a></li>\n",
       "<li class=\"tier-2 element-4\" role=\"treeitem\"><a href=\"/about/help/\" title=\"\">Help</a></li>\n",
       "<li class=\"tier-2 element-5\" role=\"treeitem\"><a href=\"http://brochure.getpython.info/\" title=\"\">Python Brochure</a></li>\n",
       "</ul>\n",
       "</li>\n",
       "<li aria-haspopup=\"true\" class=\"tier-1 element-2\" id=\"downloads\">\n",
       "<a class=\"\" href=\"/downloads/\" title=\"\">Downloads</a>\n",
       "<ul aria-hidden=\"true\" class=\"subnav menu\" role=\"menu\">\n",
       "<li class=\"tier-2 element-1\" role=\"treeitem\"><a href=\"/downloads/\" title=\"\">All releases</a></li>\n",
       "<li class=\"tier-2 element-2\" role=\"treeitem\"><a href=\"/downloads/source/\" title=\"\">Source code</a></li>\n",
       "<li class=\"tier-2 element-3\" role=\"treeitem\"><a href=\"/downloads/windows/\" title=\"\">Windows</a></li>\n",
       "<li class=\"tier-2 element-4\" role=\"treeitem\"><a href=\"/downloads/macos/\" title=\"\">macOS</a></li>\n",
       "<li class=\"tier-2 element-5\" role=\"treeitem\"><a href=\"/download/other/\" title=\"\">Other Platforms</a></li>\n",
       "<li class=\"tier-2 element-6\" role=\"treeitem\"><a href=\"https://docs.python.org/3/license.html\" title=\"\">License</a></li>\n",
       "<li class=\"tier-2 element-7\" role=\"treeitem\"><a href=\"/download/alternatives\" title=\"\">Alternative Implementations</a></li>\n",
       "</ul>\n",
       "</li>\n",
       "<li aria-haspopup=\"true\" class=\"tier-1 element-3\" id=\"documentation\">\n",
       "<a class=\"\" href=\"/doc/\" title=\"\">Documentation</a>\n",
       "<ul aria-hidden=\"true\" class=\"subnav menu\" role=\"menu\">\n",
       "<li class=\"tier-2 element-1\" role=\"treeitem\"><a href=\"/doc/\" title=\"\">Docs</a></li>\n",
       "<li class=\"tier-2 element-2\" role=\"treeitem\"><a href=\"/doc/av\" title=\"\">Audio/Visual Talks</a></li>\n",
       "<li class=\"tier-2 element-3\" role=\"treeitem\"><a href=\"https://wiki.python.org/moin/BeginnersGuide\" title=\"\">Beginner's Guide</a></li>\n",
       "<li class=\"tier-2 element-4\" role=\"treeitem\"><a href=\"https://devguide.python.org/\" title=\"\">Developer's Guide</a></li>\n",
       "<li class=\"tier-2 element-5\" role=\"treeitem\"><a href=\"https://docs.python.org/faq/\" title=\"\">FAQ</a></li>\n",
       "<li class=\"tier-2 element-6\" role=\"treeitem\"><a href=\"http://wiki.python.org/moin/Languages\" title=\"\">Non-English Docs</a></li>\n",
       "<li class=\"tier-2 element-7\" role=\"treeitem\"><a href=\"http://python.org/dev/peps/\" title=\"\">PEP Index</a></li>\n",
       "<li class=\"tier-2 element-8\" role=\"treeitem\"><a href=\"https://wiki.python.org/moin/PythonBooks\" title=\"\">Python Books</a></li>\n",
       "<li class=\"tier-2 element-9\" role=\"treeitem\"><a href=\"/doc/essays/\" title=\"\">Python Essays</a></li>\n",
       "</ul>\n",
       "</li>\n",
       "<li aria-haspopup=\"true\" class=\"tier-1 element-4\" id=\"community\">\n",
       "<a class=\"\" href=\"/community/\" title=\"\">Community</a>\n",
       "<ul aria-hidden=\"true\" class=\"subnav menu\" role=\"menu\">\n",
       "<li class=\"tier-2 element-1\" role=\"treeitem\"><a href=\"/community/diversity/\" title=\"\">Diversity</a></li>\n",
       "<li class=\"tier-2 element-2\" role=\"treeitem\"><a href=\"/community/lists/\" title=\"\">Mailing Lists</a></li>\n",
       "<li class=\"tier-2 element-3\" role=\"treeitem\"><a href=\"/community/irc/\" title=\"\">IRC</a></li>\n",
       "<li class=\"tier-2 element-4\" role=\"treeitem\"><a href=\"/community/forums/\" title=\"\">Forums</a></li>\n",
       "<li class=\"tier-2 element-5\" role=\"treeitem\"><a href=\"/psf/annual-report/2021/\" title=\"\">PSF Annual Impact Report</a></li>\n",
       "<li class=\"tier-2 element-6\" role=\"treeitem\"><a href=\"/community/workshops/\" title=\"\">Python Conferences</a></li>\n",
       "<li class=\"tier-2 element-7\" role=\"treeitem\"><a href=\"/community/sigs/\" title=\"\">Special Interest Groups</a></li>\n",
       "<li class=\"tier-2 element-8\" role=\"treeitem\"><a href=\"/community/logos/\" title=\"\">Python Logo</a></li>\n",
       "<li class=\"tier-2 element-9\" role=\"treeitem\"><a href=\"https://wiki.python.org/moin/\" title=\"\">Python Wiki</a></li>\n",
       "<li class=\"tier-2 element-10\" role=\"treeitem\"><a href=\"/community/merchandise/\" title=\"\">Merchandise</a></li>\n",
       "<li class=\"tier-2 element-11\" role=\"treeitem\"><a href=\"/community/awards\" title=\"\">Community Awards</a></li>\n",
       "<li class=\"tier-2 element-12\" role=\"treeitem\"><a href=\"/psf/conduct/\" title=\"\">Code of Conduct</a></li>\n",
       "<li class=\"tier-2 element-13\" role=\"treeitem\"><a href=\"/psf/get-involved/\" title=\"\">Get Involved</a></li>\n",
       "<li class=\"tier-2 element-14\" role=\"treeitem\"><a href=\"/psf/community-stories/\" title=\"\">Shared Stories</a></li>\n",
       "</ul>\n",
       "</li>\n",
       "<li aria-haspopup=\"true\" class=\"tier-1 element-5\" id=\"success-stories\">\n",
       "<a class=\"\" href=\"/success-stories/\" title=\"success-stories\">Success Stories</a>\n",
       "<ul aria-hidden=\"true\" class=\"subnav menu\" role=\"menu\">\n",
       "<li class=\"tier-2 element-1\" role=\"treeitem\"><a href=\"/success-stories/category/arts/\" title=\"\">Arts</a></li>\n",
       "<li class=\"tier-2 element-2\" role=\"treeitem\"><a href=\"/success-stories/category/business/\" title=\"\">Business</a></li>\n",
       "<li class=\"tier-2 element-3\" role=\"treeitem\"><a href=\"/success-stories/category/education/\" title=\"\">Education</a></li>\n",
       "<li class=\"tier-2 element-4\" role=\"treeitem\"><a href=\"/success-stories/category/engineering/\" title=\"\">Engineering</a></li>\n",
       "<li class=\"tier-2 element-5\" role=\"treeitem\"><a href=\"/success-stories/category/government/\" title=\"\">Government</a></li>\n",
       "<li class=\"tier-2 element-6\" role=\"treeitem\"><a href=\"/success-stories/category/scientific/\" title=\"\">Scientific</a></li>\n",
       "<li class=\"tier-2 element-7\" role=\"treeitem\"><a href=\"/success-stories/category/software-development/\" title=\"\">Software Development</a></li>\n",
       "</ul>\n",
       "</li>\n",
       "<li aria-haspopup=\"true\" class=\"tier-1 element-6\" id=\"news\">\n",
       "<a class=\"\" href=\"/blogs/\" title=\"News from around the Python world\">News</a>\n",
       "<ul aria-hidden=\"true\" class=\"subnav menu\" role=\"menu\">\n",
       "<li class=\"tier-2 element-1\" role=\"treeitem\"><a href=\"/blogs/\" title=\"Python Insider Blog Posts\">Python News</a></li>\n",
       "<li class=\"tier-2 element-2\" role=\"treeitem\"><a href=\"/psf/newsletter/\" title=\"Python Software Foundation Newsletter\">PSF Newsletter</a></li>\n",
       "<li class=\"tier-2 element-3\" role=\"treeitem\"><a href=\"http://planetpython.org/\" title=\"Planet Python\">Community News</a></li>\n",
       "<li class=\"tier-2 element-4\" role=\"treeitem\"><a href=\"http://pyfound.blogspot.com/\" title=\"PSF Blog\">PSF News</a></li>\n",
       "<li class=\"tier-2 element-5\" role=\"treeitem\"><a href=\"http://pycon.blogspot.com/\" title=\"PyCon Blog\">PyCon News</a></li>\n",
       "</ul>\n",
       "</li>\n",
       "<li aria-haspopup=\"true\" class=\"tier-1 element-7\" id=\"events\">\n",
       "<a class=\"\" href=\"/events/\" title=\"\">Events</a>\n",
       "<ul aria-hidden=\"true\" class=\"subnav menu\" role=\"menu\">\n",
       "<li class=\"tier-2 element-1\" role=\"treeitem\"><a href=\"/events/python-events/\" title=\"\">Python Events</a></li>\n",
       "<li class=\"tier-2 element-2\" role=\"treeitem\"><a href=\"/events/python-user-group/\" title=\"\">User Group Events</a></li>\n",
       "<li class=\"tier-2 element-3\" role=\"treeitem\"><a href=\"/events/python-events/past/\" title=\"\">Python Events Archive</a></li>\n",
       "<li class=\"tier-2 element-4\" role=\"treeitem\"><a href=\"/events/python-user-group/past/\" title=\"\">User Group Events Archive</a></li>\n",
       "<li class=\"tier-2 element-5\" role=\"treeitem\"><a href=\"https://wiki.python.org/moin/PythonEventsCalendar#Submitting_an_Event\" title=\"\">Submit an Event</a></li>\n",
       "</ul>\n",
       "</li>\n",
       "</ul>\n",
       "</nav>\n",
       "<div class=\"header-banner\"> <!-- for optional \"do-not-print\" class -->\n",
       "<div class=\"flex-slideshow slideshow\" id=\"dive-into-python\">\n",
       "<ul class=\"launch-shell menu\" id=\"launch-shell\">\n",
       "<li>\n",
       "<a class=\"button prompt\" data-shell-container=\"#dive-into-python\" href=\"/shell/\" id=\"start-shell\">&gt;_\n",
       "                        <span class=\"message\">Launch Interactive Shell</span>\n",
       "</a>\n",
       "</li>\n",
       "</ul>\n",
       "<ul class=\"slides menu\">\n",
       "<li>\n",
       "<div class=\"slide-code\"><pre><code><span class=\"comment\"># Python 3: Fibonacci series up to n</span>\n",
       "&gt;&gt;&gt; def fib(n):\n",
       "&gt;&gt;&gt;     a, b = 0, 1\n",
       "&gt;&gt;&gt;     while a &lt; n:\n",
       "&gt;&gt;&gt;         print(a, end=' ')\n",
       "&gt;&gt;&gt;         a, b = b, a+b\n",
       "&gt;&gt;&gt;     print()\n",
       "&gt;&gt;&gt; fib(1000)\n",
       "<span class=\"output\">0 1 1 2 3 5 8 13 21 34 55 89 144 233 377 610 987</span></code></pre></div>\n",
       "<div class=\"slide-copy\"><h1>Functions Defined</h1>\n",
       "<p>The core of extensible programming is defining functions. Python allows mandatory and optional arguments, keyword arguments, and even arbitrary argument lists. <a href=\"//docs.python.org/3/tutorial/controlflow.html#defining-functions\">More about defining functions in Python 3</a></p></div>\n",
       "</li>\n",
       "<li>\n",
       "<div class=\"slide-code\"><pre><code><span class=\"comment\"># Python 3: List comprehensions</span>\n",
       "&gt;&gt;&gt; fruits = ['Banana', 'Apple', 'Lime']\n",
       "&gt;&gt;&gt; loud_fruits = [fruit.upper() for fruit in fruits]\n",
       "&gt;&gt;&gt; print(loud_fruits)\n",
       "<span class=\"output\">['BANANA', 'APPLE', 'LIME']</span>\n",
       "\n",
       "<span class=\"comment\"># List and the enumerate function</span>\n",
       "&gt;&gt;&gt; list(enumerate(fruits))\n",
       "<span class=\"output\">[(0, 'Banana'), (1, 'Apple'), (2, 'Lime')]</span></code></pre></div>\n",
       "<div class=\"slide-copy\"><h1>Compound Data Types</h1>\n",
       "<p>Lists (known as arrays in other languages) are one of the compound data types that Python understands. Lists can be indexed, sliced and manipulated with other built-in functions. <a href=\"//docs.python.org/3/tutorial/introduction.html#lists\">More about lists in Python 3</a></p></div>\n",
       "</li>\n",
       "<li>\n",
       "<div class=\"slide-code\"><pre><code><span class=\"comment\"># Python 3: Simple arithmetic</span>\n",
       "&gt;&gt;&gt; 1 / 2\n",
       "<span class=\"output\">0.5</span>\n",
       "&gt;&gt;&gt; 2 ** 3\n",
       "<span class=\"output\">8</span>\n",
       "&gt;&gt;&gt; 17 / 3  <span class=\"comment\"># classic division returns a float</span>\n",
       "<span class=\"output\">5.666666666666667</span>\n",
       "&gt;&gt;&gt; 17 // 3  <span class=\"comment\"># floor division</span>\n",
       "<span class=\"output\">5</span></code></pre></div>\n",
       "<div class=\"slide-copy\"><h1>Intuitive Interpretation</h1>\n",
       "<p>Calculations are simple with Python, and expression syntax is straightforward: the operators <code>+</code>, <code>-</code>, <code>*</code> and <code>/</code> work as expected; parentheses <code>()</code> can be used for grouping. <a href=\"http://docs.python.org/3/tutorial/introduction.html#using-python-as-a-calculator\">More about simple math functions in Python 3</a>.</p></div>\n",
       "</li>\n",
       "<li>\n",
       "<div class=\"slide-code\"><pre><code><span class=\"comment\"># Python 3: Simple output (with Unicode)</span>\n",
       "&gt;&gt;&gt; print(\"Hello, I'm Python!\")\n",
       "<span class=\"output\">Hello, I'm Python!</span>\n",
       "\n",
       "<span class=\"comment\"># Input, assignment</span>\n",
       "&gt;&gt;&gt; name = input('What is your name?\\n')\n",
       "&gt;&gt;&gt; print('Hi, %s.' % name)\n",
       "<span class=\"output\">What is your name?\n",
       "Python\n",
       "Hi, Python.</span></code></pre></div>\n",
       "<div class=\"slide-copy\"><h1>Quick &amp; Easy to Learn</h1>\n",
       "<p>Experienced programmers in any other language can pick up Python very quickly, and beginners find the clean syntax and indentation structure easy to learn. <a href=\"//docs.python.org/3/tutorial/\">Whet your appetite</a> with our Python 3 overview.</p>\n",
       "</div>\n",
       "</li>\n",
       "<li>\n",
       "<div class=\"slide-code\"><pre><code><span class=\"comment\"># For loop on a list</span>\n",
       "&gt;&gt;&gt; numbers = [2, 4, 6, 8]\n",
       "&gt;&gt;&gt; product = 1\n",
       "&gt;&gt;&gt; for number in numbers:\n",
       "...    product = product * number\n",
       "... \n",
       "&gt;&gt;&gt; print('The product is:', product)\n",
       "<span class=\"output\">The product is: 384</span></code></pre></div>\n",
       "<div class=\"slide-copy\"><h1>All the Flow You’d Expect</h1>\n",
       "<p>Python knows the usual control flow statements that other languages speak — <code>if</code>, <code>for</code>, <code>while</code> and <code>range</code> — with some of its own twists, of course. <a href=\"//docs.python.org/3/tutorial/controlflow.html\">More control flow tools in Python 3</a></p></div>\n",
       "</li>\n",
       "</ul>\n",
       "</div>\n",
       "</div>\n",
       "<div class=\"introduction\">\n",
       "<p>Python is a programming language that lets you work quickly <span class=\"breaker\"></span>and integrate systems more effectively. <a class=\"readmore\" href=\"/doc/\">Learn More</a></p>\n",
       "</div>\n",
       "</div><!-- end .container -->\n",
       "</header>\n",
       "<div class=\"content-wrapper\" id=\"content\">\n",
       "<!-- Main Content Column -->\n",
       "<div class=\"container\">\n",
       "<section class=\"main-content\" role=\"main\">\n",
       "<div class=\"notification-bar notification-bar--survey\" style=\"background-color: #ffdf76; color: #664e04; border-color: #004d7a; text-align: center; background-color: #004d7a; color: #fff; padding: 10px; margin: .5em; position: relative; width: 95%; background-color: #ffdf76; color: #664e04; border-color: #004d7a; border-radius: 1em;\">\n",
       "<span class=\"notification-bar__icon\">\n",
       "<i aria-hidden=\"true\" class=\"fa fa-chart-line\"></i>\n",
       "</span>\n",
       "<span class=\"notification-bar__message\">Join the official Python Developers Survey 2022 and win valuable prizes: Start the Survey!   <a class=\"button button--dark button--small button--primary\" href=\"https://surveys.jetbrains.com/s3/c2-python-developers-survey-2022\" rel=\"noopener\" style=\"color: #606060; border-color: #006dad; background-color: #006dad;\" target=\"_blank\">Python Developers Survey 2022</a>\n",
       "</span>\n",
       "</div>\n",
       "<div class=\"row\">\n",
       "<div class=\"small-widget get-started-widget\">\n",
       "<h2 class=\"widget-title\"><span aria-hidden=\"true\" class=\"icon-get-started\"></span>Get Started</h2>\n",
       "<p>Whether you're new to programming or an experienced developer, it's easy to learn and use Python.</p>\n",
       "<p><a href=\"/about/gettingstarted/\">Start with our Beginner’s Guide</a></p>\n",
       "</div>\n",
       "<div class=\"small-widget download-widget\">\n",
       "<h2 class=\"widget-title\"><span aria-hidden=\"true\" class=\"icon-download\"></span>Download</h2>\n",
       "<p>Python source code and installers are available for download for all versions!</p>\n",
       "<p>Latest: <a href=\"/downloads/release/python-3110/\">Python 3.11.0</a></p>\n",
       "</div>\n",
       "<div class=\"small-widget documentation-widget\">\n",
       "<h2 class=\"widget-title\"><span aria-hidden=\"true\" class=\"icon-documentation\"></span>Docs</h2>\n",
       "<p>Documentation for Python's standard library, along with tutorials and guides, are available online.</p>\n",
       "<p><a href=\"https://docs.python.org\">docs.python.org</a></p>\n",
       "</div>\n",
       "<div class=\"small-widget jobs-widget last\">\n",
       "<h2 class=\"widget-title\"><span aria-hidden=\"true\" class=\"icon-jobs\"></span>Jobs</h2>\n",
       "<p>Looking for work or have a Python related position that you're trying to hire for? Our <strong>relaunched community-run job board</strong> is the place to go.</p>\n",
       "<p><a href=\"//jobs.python.org\">jobs.python.org</a></p>\n",
       "</div>\n",
       "</div>\n",
       "<div class=\"list-widgets row\">\n",
       "<div class=\"medium-widget blog-widget\">\n",
       "<div class=\"shrubbery\">\n",
       "<h2 class=\"widget-title\"><span aria-hidden=\"true\" class=\"icon-news\"></span>Latest News</h2>\n",
       "<p class=\"give-me-more\"><a href=\"https://blog.python.org\" title=\"More News\">More</a></p>\n",
       "<ul class=\"menu\">\n",
       "<li>\n",
       "<time datetime=\"2022-11-01T19:25:00.000001+00:00\"><span class=\"say-no-more\">2022-</span>11-01</time>\n",
       "<a href=\"https://pyfound.blogspot.com/2022/11/thank-you-for-making-pycon-us-amazing.html\">Thank You for Making PyCon US amazing, Jackie!</a></li>\n",
       "<li>\n",
       "<time datetime=\"2022-10-26T16:09:00.000002+00:00\"><span class=\"say-no-more\">2022-</span>10-26</time>\n",
       "<a href=\"https://pyfound.blogspot.com/2022/10/announcing-python-software-foundation.html\">Announcing Python Software Foundation Fellow Members for Q3 2022! 🎉</a></li>\n",
       "<li>\n",
       "<time datetime=\"2022-10-25T18:34:53.000001+00:00\"><span class=\"say-no-more\">2022-</span>10-25</time>\n",
       "<a href=\"https://mailchi.mp/python/psf-nov-15542325\">Python Software Foundation - October 2022 Newsletter</a></li>\n",
       "<li>\n",
       "<time datetime=\"2022-10-25T04:00:00.000001+00:00\"><span class=\"say-no-more\">2022-</span>10-25</time>\n",
       "<a href=\"https://pythoninsider.blogspot.com/2022/10/python-3120-alpha-1-released.html\">Python 3.12.0 alpha 1 released</a></li>\n",
       "<li>\n",
       "<time datetime=\"2022-10-24T20:29:00+00:00\"><span class=\"say-no-more\">2022-</span>10-24</time>\n",
       "<a href=\"https://pythoninsider.blogspot.com/2022/10/python-3110-is-now-available.html\">Python 3.11.0 is now available</a></li>\n",
       "</ul>\n",
       "</div><!-- end .shrubbery -->\n",
       "</div>\n",
       "<div class=\"medium-widget event-widget last\">\n",
       "<div class=\"shrubbery\">\n",
       "<h2 class=\"widget-title\"><span aria-hidden=\"true\" class=\"icon-calendar\"></span>Upcoming Events</h2>\n",
       "<p class=\"give-me-more\"><a href=\"/events/calendars/\" title=\"More Events\">More</a></p>\n",
       "<ul class=\"menu\">\n",
       "<li>\n",
       "<time datetime=\"2022-11-05T11:00:00+00:00\"><span class=\"say-no-more\">2022-</span>11-05</time>\n",
       "<a href=\"/events/python-user-group/1374/\">Python Day Grupy RN</a></li>\n",
       "<li>\n",
       "<time datetime=\"2022-11-12T00:00:00+00:00\"><span class=\"say-no-more\">2022-</span>11-12</time>\n",
       "<a href=\"/events/python-events/1320/\">PyCon Ireland 2022</a></li>\n",
       "<li>\n",
       "<time datetime=\"2022-11-15T00:00:00+00:00\"><span class=\"say-no-more\">2022-</span>11-15</time>\n",
       "<a href=\"/events/python-events/1378/\">PyChain 2022</a></li>\n",
       "<li>\n",
       "<time datetime=\"2022-11-26T00:00:00+00:00\"><span class=\"say-no-more\">2022-</span>11-26</time>\n",
       "<a href=\"/events/python-events/1331/\">Pyjamas Conf 2022</a></li>\n",
       "<li>\n",
       "<time datetime=\"2022-11-26T08:00:00+00:00\"><span class=\"say-no-more\">2022-</span>11-26</time>\n",
       "<a href=\"/events/python-user-group/1335/\">Django Girls Groningen</a></li>\n",
       "</ul>\n",
       "</div>\n",
       "</div>\n",
       "</div>\n",
       "<div class=\"row\">\n",
       "<div class=\"medium-widget success-stories-widget\">\n",
       "<div class=\"shrubbery\">\n",
       "<h2 class=\"widget-title\"><span aria-hidden=\"true\" class=\"icon-success-stories\"></span>Success Stories</h2>\n",
       "<p class=\"give-me-more\"><a href=\"/success-stories/\" title=\"More Success Stories\">More</a></p>\n",
       "<div class=\"success-story-item\" id=\"success-story-1101\">\n",
       "<blockquote>\n",
       "<a href=\"/success-stories/a-startup-healthcare-tech-firm-is-now-poised-for-the-future/\">“We feel much better equipped now to handle the challenges. And if we run into an issue, we’ll come to Caktus to hammer it out,\" said Stephen Johnston, VP of Engineering, at Force Therapeutics.</a>\n",
       "</blockquote>\n",
       "<table border=\"0\" cellpadding=\"0\" cellspacing=\"0\" class=\"quote-from\" width=\"100%\">\n",
       "<tbody>\n",
       "<tr>\n",
       "<td><p><a href=\"/success-stories/a-startup-healthcare-tech-firm-is-now-poised-for-the-future/\">A Startup Healthcare Tech Firm Is Now Poised for the Future</a> <em>by Caktus Group</em></p></td>\n",
       "</tr>\n",
       "</tbody>\n",
       "</table>\n",
       "</div>\n",
       "</div><!-- end .shrubbery -->\n",
       "</div>\n",
       "<div class=\"medium-widget applications-widget last\">\n",
       "<div class=\"shrubbery\">\n",
       "<h2 class=\"widget-title\"><span aria-hidden=\"true\" class=\"icon-python\"></span>Use Python for…</h2>\n",
       "<p class=\"give-me-more\"><a href=\"/about/apps\" title=\"More Applications\">More</a></p>\n",
       "<ul class=\"menu\">\n",
       "<li><b>Web Development</b>:\n",
       "        <span class=\"tag-wrapper\"><a class=\"tag\" href=\"http://www.djangoproject.com/\">Django</a>, <a class=\"tag\" href=\"http://www.pylonsproject.org/\">Pyramid</a>, <a class=\"tag\" href=\"http://bottlepy.org\">Bottle</a>, <a class=\"tag\" href=\"http://tornadoweb.org\">Tornado</a>, <a class=\"tag\" href=\"http://flask.pocoo.org/\">Flask</a>, <a class=\"tag\" href=\"http://www.web2py.com/\">web2py</a></span></li>\n",
       "<li><b>GUI Development</b>:\n",
       "        <span class=\"tag-wrapper\"><a class=\"tag\" href=\"http://wiki.python.org/moin/TkInter\">tkInter</a>, <a class=\"tag\" href=\"https://wiki.gnome.org/Projects/PyGObject\">PyGObject</a>, <a class=\"tag\" href=\"http://www.riverbankcomputing.co.uk/software/pyqt/intro\">PyQt</a>, <a class=\"tag\" href=\"https://wiki.qt.io/PySide\">PySide</a>, <a class=\"tag\" href=\"https://kivy.org/\">Kivy</a>, <a class=\"tag\" href=\"http://www.wxpython.org/\">wxPython</a></span></li>\n",
       "<li><b>Scientific and Numeric</b>:\n",
       "        <span class=\"tag-wrapper\">\n",
       "<a class=\"tag\" href=\"http://www.scipy.org\">SciPy</a>, <a class=\"tag\" href=\"http://pandas.pydata.org/\">Pandas</a>, <a class=\"tag\" href=\"http://ipython.org\">IPython</a></span></li>\n",
       "<li><b>Software Development</b>:\n",
       "        <span class=\"tag-wrapper\"><a class=\"tag\" href=\"http://buildbot.net/\">Buildbot</a>, <a class=\"tag\" href=\"http://trac.edgewall.org/\">Trac</a>, <a class=\"tag\" href=\"http://roundup.sourceforge.net/\">Roundup</a></span></li>\n",
       "<li><b>System Administration</b>:\n",
       "        <span class=\"tag-wrapper\"><a class=\"tag\" href=\"http://www.ansible.com\">Ansible</a>, <a class=\"tag\" href=\"https://saltproject.io\">Salt</a>, <a class=\"tag\" href=\"https://www.openstack.org\">OpenStack</a>, <a class=\"tag\" href=\"https://xon.sh\">xonsh</a></span></li>\n",
       "</ul>\n",
       "</div><!-- end .shrubbery -->\n",
       "</div>\n",
       "</div>\n",
       "<div class=\"pep-widget\">\n",
       "<h2 class=\"widget-title\">\n",
       "<span class=\"prompt\">&gt;&gt;&gt;</span> <a href=\"/dev/peps/\">Python Enhancement Proposals<span class=\"say-no-more\"> (PEPs)</span></a>: The future of Python<span class=\"say-no-more\"> is discussed here.</span>\n",
       "<a aria-hidden=\"true\" class=\"rss-link\" href=\"/dev/peps/peps.rss\"><span class=\"icon-feed\"></span> RSS</a>\n",
       "</h2>\n",
       "</div>\n",
       "<div class=\"psf-widget\">\n",
       "<div class=\"python-logo\"></div>\n",
       "<h2 class=\"widget-title\">\n",
       "<span class=\"prompt\">&gt;&gt;&gt;</span> <a href=\"/psf/\">Python Software Foundation</a>\n",
       "</h2>\n",
       "<p>The mission of the Python Software Foundation is to promote, protect, and advance the Python programming language, and to support and facilitate the growth of a diverse and international community of Python programmers. <a class=\"readmore\" href=\"/psf/\">Learn more</a> </p>\n",
       "<p class=\"click-these\">\n",
       "<a class=\"button\" href=\"/users/membership/\">Become a Member</a>\n",
       "<a class=\"button\" href=\"/psf/donations/\">Donate to the PSF</a>\n",
       "</p>\n",
       "</div>\n",
       "</section>\n",
       "</div><!-- end .container -->\n",
       "</div><!-- end #content .content-wrapper -->\n",
       "<!-- Footer and social media list -->\n",
       "<footer class=\"main-footer\" id=\"site-map\" role=\"contentinfo\">\n",
       "<div class=\"main-footer-links\">\n",
       "<div class=\"container\">\n",
       "<a class=\"jump-link\" href=\"#python-network\" id=\"back-to-top-1\"><span aria-hidden=\"true\" class=\"icon-arrow-up\"><span>▲</span></span> Back to Top</a>\n",
       "<ul class=\"sitemap navigation menu do-not-print\" id=\"container\" role=\"tree\">\n",
       "<li class=\"tier-1 element-1\">\n",
       "<a href=\"/about/\">About</a>\n",
       "<ul class=\"subnav menu\">\n",
       "<li class=\"tier-2 element-1\" role=\"treeitem\"><a href=\"/about/apps/\" title=\"\">Applications</a></li>\n",
       "<li class=\"tier-2 element-2\" role=\"treeitem\"><a href=\"/about/quotes/\" title=\"\">Quotes</a></li>\n",
       "<li class=\"tier-2 element-3\" role=\"treeitem\"><a href=\"/about/gettingstarted/\" title=\"\">Getting Started</a></li>\n",
       "<li class=\"tier-2 element-4\" role=\"treeitem\"><a href=\"/about/help/\" title=\"\">Help</a></li>\n",
       "<li class=\"tier-2 element-5\" role=\"treeitem\"><a href=\"http://brochure.getpython.info/\" title=\"\">Python Brochure</a></li>\n",
       "</ul>\n",
       "</li>\n",
       "<li class=\"tier-1 element-2\">\n",
       "<a href=\"/downloads/\">Downloads</a>\n",
       "<ul class=\"subnav menu\">\n",
       "<li class=\"tier-2 element-1\" role=\"treeitem\"><a href=\"/downloads/\" title=\"\">All releases</a></li>\n",
       "<li class=\"tier-2 element-2\" role=\"treeitem\"><a href=\"/downloads/source/\" title=\"\">Source code</a></li>\n",
       "<li class=\"tier-2 element-3\" role=\"treeitem\"><a href=\"/downloads/windows/\" title=\"\">Windows</a></li>\n",
       "<li class=\"tier-2 element-4\" role=\"treeitem\"><a href=\"/downloads/macos/\" title=\"\">macOS</a></li>\n",
       "<li class=\"tier-2 element-5\" role=\"treeitem\"><a href=\"/download/other/\" title=\"\">Other Platforms</a></li>\n",
       "<li class=\"tier-2 element-6\" role=\"treeitem\"><a href=\"https://docs.python.org/3/license.html\" title=\"\">License</a></li>\n",
       "<li class=\"tier-2 element-7\" role=\"treeitem\"><a href=\"/download/alternatives\" title=\"\">Alternative Implementations</a></li>\n",
       "</ul>\n",
       "</li>\n",
       "<li class=\"tier-1 element-3\">\n",
       "<a href=\"/doc/\">Documentation</a>\n",
       "<ul class=\"subnav menu\">\n",
       "<li class=\"tier-2 element-1\" role=\"treeitem\"><a href=\"/doc/\" title=\"\">Docs</a></li>\n",
       "<li class=\"tier-2 element-2\" role=\"treeitem\"><a href=\"/doc/av\" title=\"\">Audio/Visual Talks</a></li>\n",
       "<li class=\"tier-2 element-3\" role=\"treeitem\"><a href=\"https://wiki.python.org/moin/BeginnersGuide\" title=\"\">Beginner's Guide</a></li>\n",
       "<li class=\"tier-2 element-4\" role=\"treeitem\"><a href=\"https://devguide.python.org/\" title=\"\">Developer's Guide</a></li>\n",
       "<li class=\"tier-2 element-5\" role=\"treeitem\"><a href=\"https://docs.python.org/faq/\" title=\"\">FAQ</a></li>\n",
       "<li class=\"tier-2 element-6\" role=\"treeitem\"><a href=\"http://wiki.python.org/moin/Languages\" title=\"\">Non-English Docs</a></li>\n",
       "<li class=\"tier-2 element-7\" role=\"treeitem\"><a href=\"http://python.org/dev/peps/\" title=\"\">PEP Index</a></li>\n",
       "<li class=\"tier-2 element-8\" role=\"treeitem\"><a href=\"https://wiki.python.org/moin/PythonBooks\" title=\"\">Python Books</a></li>\n",
       "<li class=\"tier-2 element-9\" role=\"treeitem\"><a href=\"/doc/essays/\" title=\"\">Python Essays</a></li>\n",
       "</ul>\n",
       "</li>\n",
       "<li class=\"tier-1 element-4\">\n",
       "<a href=\"/community/\">Community</a>\n",
       "<ul class=\"subnav menu\">\n",
       "<li class=\"tier-2 element-1\" role=\"treeitem\"><a href=\"/community/diversity/\" title=\"\">Diversity</a></li>\n",
       "<li class=\"tier-2 element-2\" role=\"treeitem\"><a href=\"/community/lists/\" title=\"\">Mailing Lists</a></li>\n",
       "<li class=\"tier-2 element-3\" role=\"treeitem\"><a href=\"/community/irc/\" title=\"\">IRC</a></li>\n",
       "<li class=\"tier-2 element-4\" role=\"treeitem\"><a href=\"/community/forums/\" title=\"\">Forums</a></li>\n",
       "<li class=\"tier-2 element-5\" role=\"treeitem\"><a href=\"/psf/annual-report/2021/\" title=\"\">PSF Annual Impact Report</a></li>\n",
       "<li class=\"tier-2 element-6\" role=\"treeitem\"><a href=\"/community/workshops/\" title=\"\">Python Conferences</a></li>\n",
       "<li class=\"tier-2 element-7\" role=\"treeitem\"><a href=\"/community/sigs/\" title=\"\">Special Interest Groups</a></li>\n",
       "<li class=\"tier-2 element-8\" role=\"treeitem\"><a href=\"/community/logos/\" title=\"\">Python Logo</a></li>\n",
       "<li class=\"tier-2 element-9\" role=\"treeitem\"><a href=\"https://wiki.python.org/moin/\" title=\"\">Python Wiki</a></li>\n",
       "<li class=\"tier-2 element-10\" role=\"treeitem\"><a href=\"/community/merchandise/\" title=\"\">Merchandise</a></li>\n",
       "<li class=\"tier-2 element-11\" role=\"treeitem\"><a href=\"/community/awards\" title=\"\">Community Awards</a></li>\n",
       "<li class=\"tier-2 element-12\" role=\"treeitem\"><a href=\"/psf/conduct/\" title=\"\">Code of Conduct</a></li>\n",
       "<li class=\"tier-2 element-13\" role=\"treeitem\"><a href=\"/psf/get-involved/\" title=\"\">Get Involved</a></li>\n",
       "<li class=\"tier-2 element-14\" role=\"treeitem\"><a href=\"/psf/community-stories/\" title=\"\">Shared Stories</a></li>\n",
       "</ul>\n",
       "</li>\n",
       "<li class=\"tier-1 element-5\">\n",
       "<a href=\"/success-stories/\" title=\"success-stories\">Success Stories</a>\n",
       "<ul class=\"subnav menu\">\n",
       "<li class=\"tier-2 element-1\" role=\"treeitem\"><a href=\"/success-stories/category/arts/\" title=\"\">Arts</a></li>\n",
       "<li class=\"tier-2 element-2\" role=\"treeitem\"><a href=\"/success-stories/category/business/\" title=\"\">Business</a></li>\n",
       "<li class=\"tier-2 element-3\" role=\"treeitem\"><a href=\"/success-stories/category/education/\" title=\"\">Education</a></li>\n",
       "<li class=\"tier-2 element-4\" role=\"treeitem\"><a href=\"/success-stories/category/engineering/\" title=\"\">Engineering</a></li>\n",
       "<li class=\"tier-2 element-5\" role=\"treeitem\"><a href=\"/success-stories/category/government/\" title=\"\">Government</a></li>\n",
       "<li class=\"tier-2 element-6\" role=\"treeitem\"><a href=\"/success-stories/category/scientific/\" title=\"\">Scientific</a></li>\n",
       "<li class=\"tier-2 element-7\" role=\"treeitem\"><a href=\"/success-stories/category/software-development/\" title=\"\">Software Development</a></li>\n",
       "</ul>\n",
       "</li>\n",
       "<li class=\"tier-1 element-6\">\n",
       "<a href=\"/blogs/\" title=\"News from around the Python world\">News</a>\n",
       "<ul class=\"subnav menu\">\n",
       "<li class=\"tier-2 element-1\" role=\"treeitem\"><a href=\"/blogs/\" title=\"Python Insider Blog Posts\">Python News</a></li>\n",
       "<li class=\"tier-2 element-2\" role=\"treeitem\"><a href=\"/psf/newsletter/\" title=\"Python Software Foundation Newsletter\">PSF Newsletter</a></li>\n",
       "<li class=\"tier-2 element-3\" role=\"treeitem\"><a href=\"http://planetpython.org/\" title=\"Planet Python\">Community News</a></li>\n",
       "<li class=\"tier-2 element-4\" role=\"treeitem\"><a href=\"http://pyfound.blogspot.com/\" title=\"PSF Blog\">PSF News</a></li>\n",
       "<li class=\"tier-2 element-5\" role=\"treeitem\"><a href=\"http://pycon.blogspot.com/\" title=\"PyCon Blog\">PyCon News</a></li>\n",
       "</ul>\n",
       "</li>\n",
       "<li class=\"tier-1 element-7\">\n",
       "<a href=\"/events/\">Events</a>\n",
       "<ul class=\"subnav menu\">\n",
       "<li class=\"tier-2 element-1\" role=\"treeitem\"><a href=\"/events/python-events/\" title=\"\">Python Events</a></li>\n",
       "<li class=\"tier-2 element-2\" role=\"treeitem\"><a href=\"/events/python-user-group/\" title=\"\">User Group Events</a></li>\n",
       "<li class=\"tier-2 element-3\" role=\"treeitem\"><a href=\"/events/python-events/past/\" title=\"\">Python Events Archive</a></li>\n",
       "<li class=\"tier-2 element-4\" role=\"treeitem\"><a href=\"/events/python-user-group/past/\" title=\"\">User Group Events Archive</a></li>\n",
       "<li class=\"tier-2 element-5\" role=\"treeitem\"><a href=\"https://wiki.python.org/moin/PythonEventsCalendar#Submitting_an_Event\" title=\"\">Submit an Event</a></li>\n",
       "</ul>\n",
       "</li>\n",
       "<li class=\"tier-1 element-8\">\n",
       "<a href=\"/dev/\">Contributing</a>\n",
       "<ul class=\"subnav menu\">\n",
       "<li class=\"tier-2 element-1\" role=\"treeitem\"><a href=\"https://devguide.python.org/\" title=\"\">Developer's Guide</a></li>\n",
       "<li class=\"tier-2 element-2\" role=\"treeitem\"><a href=\"https://bugs.python.org/\" title=\"\">Issue Tracker</a></li>\n",
       "<li class=\"tier-2 element-3\" role=\"treeitem\"><a href=\"https://mail.python.org/mailman/listinfo/python-dev\" title=\"\">python-dev list</a></li>\n",
       "<li class=\"tier-2 element-4\" role=\"treeitem\"><a href=\"/dev/core-mentorship/\" title=\"\">Core Mentorship</a></li>\n",
       "<li class=\"tier-2 element-5\" role=\"treeitem\"><a href=\"/dev/security/\" title=\"\">Report a Security Issue</a></li>\n",
       "</ul>\n",
       "</li>\n",
       "</ul>\n",
       "<a class=\"jump-link\" href=\"#python-network\" id=\"back-to-top-2\"><span aria-hidden=\"true\" class=\"icon-arrow-up\"><span>▲</span></span> Back to Top</a>\n",
       "</div><!-- end .container -->\n",
       "</div> <!-- end .main-footer-links -->\n",
       "<div class=\"site-base\">\n",
       "<div class=\"container\">\n",
       "<ul class=\"footer-links navigation menu do-not-print\" role=\"tree\">\n",
       "<li class=\"tier-1 element-1\"><a href=\"/about/help/\">Help &amp; <span class=\"say-no-more\">General</span> Contact</a></li>\n",
       "<li class=\"tier-1 element-2\"><a href=\"/community/diversity/\">Diversity <span class=\"say-no-more\">Initiatives</span></a></li>\n",
       "<li class=\"tier-1 element-3\"><a href=\"https://github.com/python/pythondotorg/issues\">Submit Website Bug</a></li>\n",
       "<li class=\"tier-1 element-4\">\n",
       "<a href=\"https://status.python.org/\">Status <span class=\"python-status-indicator-default\" id=\"python-status-indicator\"></span></a>\n",
       "</li>\n",
       "</ul>\n",
       "<div class=\"copyright\">\n",
       "<p><small>\n",
       "<span class=\"pre\">Copyright ©2001-2022.</span>\n",
       "                             <span class=\"pre\"><a href=\"/psf-landing/\">Python Software Foundation</a></span>\n",
       "                             <span class=\"pre\"><a href=\"/about/legal/\">Legal Statements</a></span>\n",
       "                             <span class=\"pre\"><a href=\"/privacy/\">Privacy Policy</a></span>\n",
       "                             <span class=\"pre\"><a href=\"/psf/sponsorship/sponsors/#heroku\">Powered by Heroku</a></span>\n",
       "</small></p>\n",
       "</div>\n",
       "</div><!-- end .container -->\n",
       "</div><!-- end .site-base -->\n",
       "</footer>\n",
       "</div><!-- end #touchnav-wrapper -->\n",
       "<script src=\"//ajax.googleapis.com/ajax/libs/jquery/1.8.2/jquery.min.js\"></script>\n",
       "<script>window.jQuery || document.write('<script src=\"/static/js/libs/jquery-1.8.2.min.js\"><\\/script>')</script>\n",
       "<script src=\"//ajax.googleapis.com/ajax/libs/jqueryui/1.12.1/jquery-ui.min.js\"></script>\n",
       "<script>window.jQuery || document.write('<script src=\"/static/js/libs/jquery-ui-1.12.1.min.js\"><\\/script>')</script>\n",
       "<script src=\"/static/js/libs/masonry.pkgd.min.js\"></script>\n",
       "<script src=\"/static/js/libs/html-includes.js\"></script>\n",
       "<script charset=\"utf-8\" src=\"/static/js/main-min.f5487accf7ed.js\" type=\"text/javascript\"></script>\n",
       "<!--[if lte IE 7]>\n",
       "    <script type=\"text/javascript\" src=\"/static/js/plugins/IE8-min.8af6e26c7a3b.js\" charset=\"utf-8\"></script>\n",
       "    \n",
       "    \n",
       "    <![endif]-->\n",
       "<!--[if lte IE 8]>\n",
       "    <script type=\"text/javascript\" src=\"/static/js/plugins/getComputedStyle-min.d41d8cd98f00.js\" charset=\"utf-8\"></script>\n",
       "    \n",
       "    \n",
       "    <![endif]-->\n",
       "</body>"
      ]
     },
     "execution_count": 120,
     "metadata": {},
     "output_type": "execute_result"
    }
   ],
   "source": [
    "pysoup = BeautifulSoup(python.content, \"html.parser\")\n",
    "pysoup.body"
   ]
  },
  {
   "cell_type": "code",
   "execution_count": 121,
   "metadata": {},
   "outputs": [
    {
     "data": {
      "text/plain": [
       "[<li class=\"python-meta current_item selectedcurrent_branch selected\">\n",
       " <a class=\"current_item selectedcurrent_branch selected\" href=\"/\" title=\"The Python Programming Language\">Python</a>\n",
       " </li>,\n",
       " <li class=\"psf-meta\">\n",
       " <a href=\"/psf-landing/\" title=\"The Python Software Foundation\">PSF</a>\n",
       " </li>,\n",
       " <li class=\"docs-meta\">\n",
       " <a href=\"https://docs.python.org\" title=\"Python Documentation\">Docs</a>\n",
       " </li>,\n",
       " <li class=\"pypi-meta\">\n",
       " <a href=\"https://pypi.org/\" title=\"Python Package Index\">PyPI</a>\n",
       " </li>,\n",
       " <li class=\"jobs-meta\">\n",
       " <a href=\"/jobs/\" title=\"Python Job Board\">Jobs</a>\n",
       " </li>,\n",
       " <li class=\"shop-meta\">\n",
       " <a href=\"/community-landing/\">Community</a>\n",
       " </li>]"
      ]
     },
     "execution_count": 121,
     "metadata": {},
     "output_type": "execute_result"
    }
   ],
   "source": [
    "pymenu=pysoup.select_one('.menu').select('li')\n",
    "pymenu"
   ]
  },
  {
   "cell_type": "code",
   "execution_count": 123,
   "metadata": {},
   "outputs": [
    {
     "name": "stdout",
     "output_type": "stream",
     "text": [
      "The Python Programming Language = Python, goes to /\n",
      "The Python Software Foundation = PSF, goes to /psf-landing/\n",
      "Python Documentation = Docs, goes to https://docs.python.org\n",
      "Python Package Index = PyPI, goes to https://pypi.org/\n",
      "Python Job Board = Jobs, goes to /jobs/\n",
      "Community, goes to /community-landing/\n"
     ]
    }
   ],
   "source": [
    "for item in pymenu:\n",
    "    link=item.select_one('a')\n",
    "    # print(f\"{link.attrs['title']}) = {link.get_text()}\")\n",
    "    if 'title' in link.attrs:\n",
    "        print(link.attrs['title'], end=\" = \")\n",
    "    print(link.get_text(), end=\", goes to \")\n",
    "    print(link.attrs['href'])"
   ]
  },
  {
   "cell_type": "markdown",
   "metadata": {},
   "source": [
    "## Praktinis"
   ]
  },
  {
   "cell_type": "code",
   "execution_count": 125,
   "metadata": {},
   "outputs": [
    {
     "data": {
      "text/plain": [
       "<!DOCTYPE html>\n",
       "\n",
       "<html class=\"client-nojs\" dir=\"ltr\" lang=\"lt\">\n",
       "<head>\n",
       "<meta charset=\"utf-8\"/>\n",
       "<title>Prūsija – Vikipedija</title>\n",
       "<script>document.documentElement.className=\"client-js\";RLCONF={\"wgBreakFrames\":false,\"wgSeparatorTransformTable\":[\",\\t.\",\" \\t,\"],\"wgDigitTransformTable\":[\"\",\"\"],\"wgDefaultDateFormat\":\"dmy\",\"wgMonthNames\":[\"\",\"sausio\",\"vasario\",\"kovo\",\"balandžio\",\"gegužės\",\"birželio\",\"liepos\",\"rugpjūčio\",\"rugsėjo\",\"spalio\",\"lapkričio\",\"gruodžio\"],\"wgRequestId\":\"890fddc5-a74b-4087-8198-ccdf94724381\",\"wgCSPNonce\":false,\"wgCanonicalNamespace\":\"\",\"wgCanonicalSpecialPageName\":false,\"wgNamespaceNumber\":0,\"wgPageName\":\"Prūsija\",\"wgTitle\":\"Prūsija\",\"wgCurRevisionId\":6720439,\"wgRevisionId\":6720439,\"wgArticleId\":653,\"wgIsArticle\":true,\"wgIsRedirect\":false,\"wgAction\":\"view\",\"wgUserName\":null,\"wgUserGroups\":[\"*\"],\"wgCategories\":[\"Pages with non-numeric formatnum arguments\",\"Straipsniai be šaltinių nuo 2004 m. sausio\",\"Straipsniai be šaltinių pažymėti nuo 2020 m. lapkričio\",\"Straipsniai be šaltinių\",\"Prūsija\"],\"wgPageContentLanguage\":\"lt\",\"wgPageContentModel\":\"wikitext\",\"wgRelevantPageName\":\"Prūsija\",\n",
       "\"wgRelevantArticleId\":653,\"wgIsProbablyEditable\":true,\"wgRelevantPageIsProbablyEditable\":true,\"wgRestrictionEdit\":[],\"wgRestrictionMove\":[],\"wgVisualEditor\":{\"pageLanguageCode\":\"lt\",\"pageLanguageDir\":\"ltr\",\"pageVariantFallbacks\":\"lt\"},\"wgMFDisplayWikibaseDescriptions\":{\"search\":true,\"watchlist\":true,\"tagline\":true,\"nearby\":true},\"wgWMESchemaEditAttemptStepOversample\":false,\"wgWMEPageLength\":7000,\"wgNoticeProject\":\"wikipedia\",\"wgVector2022PreviewPages\":[],\"wgMediaViewerOnClick\":true,\"wgMediaViewerEnabledByDefault\":true,\"wgPopupsFlags\":8,\"wgULSCurrentAutonym\":\"lietuvių\",\"wgEditSubmitButtonLabelPublish\":true,\"wgCentralAuthMobileDomain\":false,\"wgULSPosition\":\"interlanguage\",\"wgULSisCompactLinksEnabled\":true,\"wgWikibaseItemId\":\"Q38872\",\"GEHomepageSuggestedEditsEnableTopics\":true,\"wgGETopicsMatchModeEnabled\":false,\"wgGEStructuredTaskRejectionReasonTextInputEnabled\":false,\"wgSiteNoticeId\":\"2.5\"};RLSTATE={\"skins.vector.user.styles\":\"ready\",\"ext.globalCssJs.user.styles\":\"ready\",\"site.styles\":\n",
       "\"ready\",\"user.styles\":\"ready\",\"skins.vector.user\":\"ready\",\"ext.globalCssJs.user\":\"ready\",\"user\":\"ready\",\"user.options\":\"loading\",\"mediawiki.ui.button\":\"ready\",\"skins.vector.styles\":\"ready\",\"skins.vector.icons\":\"ready\",\"mediawiki.ui.icon\":\"ready\",\"ext.visualEditor.desktopArticleTarget.noscript\":\"ready\",\"ext.wikimediaBadges\":\"ready\",\"ext.uls.interlanguage\":\"ready\",\"wikibase.client.init\":\"ready\",\"ext.dismissableSiteNotice.styles\":\"ready\"};RLPAGEMODULES=[\"site\",\"mediawiki.page.ready\",\"mediawiki.toc\",\"skins.vector.js\",\"skins.vector.es6\",\"mmv.head\",\"mmv.bootstrap.autostart\",\"ext.visualEditor.desktopArticleTarget.init\",\"ext.visualEditor.targetLoader\",\"ext.eventLogging\",\"ext.wikimediaEvents\",\"ext.navigationTiming\",\"ext.cx.eventlogging.campaigns\",\"ext.centralNotice.geoIP\",\"ext.centralNotice.startUp\",\"ext.centralauth.centralautologin\",\"ext.popups\",\"ext.uls.compactlinks\",\"ext.uls.interface\",\"ext.cx.uls.quick.actions\",\"ext.growthExperiments.SuggestedEditSession\",\"ext.dismissableSiteNotice\"];</script>\n",
       "<script>(RLQ=window.RLQ||[]).push(function(){mw.loader.implement(\"user.options@12s5i\",function($,jQuery,require,module){mw.user.tokens.set({\"patrolToken\":\"+\\\\\",\"watchToken\":\"+\\\\\",\"csrfToken\":\"+\\\\\"});});});</script>\n",
       "<link href=\"/w/load.php?lang=lt&amp;modules=ext.dismissableSiteNotice.styles%7Cext.uls.interlanguage%7Cext.visualEditor.desktopArticleTarget.noscript%7Cext.wikimediaBadges%7Cmediawiki.ui.button%2Cicon%7Cskins.vector.icons%2Cstyles%7Cwikibase.client.init&amp;only=styles&amp;skin=vector-2022\" rel=\"stylesheet\"/>\n",
       "<script async=\"\" src=\"/w/load.php?lang=lt&amp;modules=startup&amp;only=scripts&amp;raw=1&amp;skin=vector-2022\"></script>\n",
       "<meta content=\"\" name=\"ResourceLoaderDynamicStyles\"/>\n",
       "<link href=\"/w/load.php?lang=lt&amp;modules=site.styles&amp;only=styles&amp;skin=vector-2022\" rel=\"stylesheet\"/>\n",
       "<meta content=\"MediaWiki 1.40.0-wmf.7\" name=\"generator\"/>\n",
       "<meta content=\"origin\" name=\"referrer\"/>\n",
       "<meta content=\"origin-when-crossorigin\" name=\"referrer\"/>\n",
       "<meta content=\"origin-when-cross-origin\" name=\"referrer\"/>\n",
       "<meta content=\"max-image-preview:standard\" name=\"robots\"/>\n",
       "<meta content=\"telephone=no\" name=\"format-detection\"/>\n",
       "<meta content=\"https://upload.wikimedia.org/wikipedia/commons/thumb/c/c1/Flag_of_the_Kingdom_of_Prussia_%281803-1892%29.svg/1200px-Flag_of_the_Kingdom_of_Prussia_%281803-1892%29.svg.png\" property=\"og:image\"/>\n",
       "<meta content=\"1200\" property=\"og:image:width\"/>\n",
       "<meta content=\"800\" property=\"og:image:height\"/>\n",
       "<meta content=\"https://upload.wikimedia.org/wikipedia/commons/thumb/c/c1/Flag_of_the_Kingdom_of_Prussia_%281803-1892%29.svg/800px-Flag_of_the_Kingdom_of_Prussia_%281803-1892%29.svg.png\" property=\"og:image\"/>\n",
       "<meta content=\"800\" property=\"og:image:width\"/>\n",
       "<meta content=\"533\" property=\"og:image:height\"/>\n",
       "<meta content=\"https://upload.wikimedia.org/wikipedia/commons/thumb/c/c1/Flag_of_the_Kingdom_of_Prussia_%281803-1892%29.svg/640px-Flag_of_the_Kingdom_of_Prussia_%281803-1892%29.svg.png\" property=\"og:image\"/>\n",
       "<meta content=\"640\" property=\"og:image:width\"/>\n",
       "<meta content=\"427\" property=\"og:image:height\"/>\n",
       "<meta content=\"width=1000\" name=\"viewport\"/>\n",
       "<meta content=\"Prūsija – Vikipedija\" property=\"og:title\"/>\n",
       "<meta content=\"website\" property=\"og:type\"/>\n",
       "<link href=\"//upload.wikimedia.org\" rel=\"preconnect\"/>\n",
       "<link href=\"//lt.m.wikipedia.org/wiki/Pr%C5%ABsija\" media=\"only screen and (max-width: 720px)\" rel=\"alternate\"/>\n",
       "<link href=\"/w/index.php?title=Pr%C5%ABsija&amp;action=edit\" rel=\"alternate\" title=\"Keisti\" type=\"application/x-wiki\"/>\n",
       "<link href=\"/static/apple-touch/wikipedia.png\" rel=\"apple-touch-icon\"/>\n",
       "<link href=\"/static/favicon/wikipedia.ico\" rel=\"icon\"/>\n",
       "<link href=\"/w/opensearch_desc.php\" rel=\"search\" title=\"Vikipedija (lt)\" type=\"application/opensearchdescription+xml\"/>\n",
       "<link href=\"//lt.wikipedia.org/w/api.php?action=rsd\" rel=\"EditURI\" type=\"application/rsd+xml\"/>\n",
       "<link href=\"https://creativecommons.org/licenses/by-sa/3.0/\" rel=\"license\"/>\n",
       "<link href=\"https://lt.wikipedia.org/wiki/Pr%C5%ABsija\" rel=\"canonical\"/>\n",
       "<link href=\"//meta.wikimedia.org\" rel=\"dns-prefetch\"/>\n",
       "<link href=\"//login.wikimedia.org\" rel=\"dns-prefetch\"/>\n",
       "</head>\n",
       "<body class=\"skin-vector skin-vector-search-vue vector-toc-not-collapsed mediawiki ltr sitedir-ltr mw-hide-empty-elt ns-0 ns-subject mw-editable page-Prūsija rootpage-Prūsija skin-vector-2022 action-view vector-feature-language-in-header-enabled vector-feature-language-in-main-page-header-disabled vector-feature-language-alert-in-sidebar-enabled vector-feature-sticky-header-disabled vector-feature-sticky-header-edit-disabled vector-feature-table-of-contents-legacy-toc-disabled vector-feature-visual-enhancement-next-disabled vector-feature-article-tools-disabled vector-feature-limited-width-enabled vector-feature-limited-width-content-enabled\"><div class=\"mw-page-container\">\n",
       "<a class=\"mw-jump-link\" href=\"#bodyContent\">Pereiti prie turinio</a>\n",
       "<div class=\"mw-page-container-inner\">\n",
       "<input class=\"mw-checkbox-hack-checkbox\" id=\"mw-sidebar-checkbox\" type=\"checkbox\"/>\n",
       "<header class=\"mw-header\">\n",
       "<div class=\"mw-header-aside\">\n",
       "<label aria-controls=\"mw-panel\" class=\"mw-checkbox-hack-button mw-ui-icon mw-ui-button mw-ui-quiet mw-ui-icon-element\" data-event-name=\"ui.sidebar\" for=\"mw-sidebar-checkbox\" id=\"mw-sidebar-button\" role=\"button\" tabindex=\"0\" title=\"Main menu\">\n",
       "<span>Toggle sidebar</span>\n",
       "</label>\n",
       "<a class=\"mw-logo\" href=\"/wiki/Pagrindinis_puslapis\">\n",
       "<img alt=\"\" aria-hidden=\"true\" class=\"mw-logo-icon\" height=\"50\" src=\"/static/images/icons/wikipedia.png\" width=\"50\"/>\n",
       "<span class=\"mw-logo-container\">\n",
       "<img alt=\"Vikipedija\" class=\"mw-logo-wordmark\" src=\"/static/images/mobile/copyright/wikipedia-wordmark-lt.svg\" style=\"width: 7.5em; height: 1.375em;\"/>\n",
       "<img alt=\"Laisvoji enciklopedija\" class=\"mw-logo-tagline\" height=\"13\" src=\"/static/images/mobile/copyright/wikipedia-tagline-lt.svg\" style=\"width: 7.4375em; height: 0.8125em;\" width=\"119\"/>\n",
       "</span>\n",
       "</a>\n",
       "</div>\n",
       "<div class=\"mw-header-content\">\n",
       "<div class=\"vector-search-box-vue vector-search-box-collapses vector-search-box-show-thumbnail vector-search-box-auto-expand-width vector-search-box\" id=\"p-search\" role=\"search\">\n",
       "<a accesskey=\"f\" class=\"mw-ui-button mw-ui-quiet mw-ui-icon mw-ui-icon-element mw-ui-icon-wikimedia-search search-toggle\" href=\"/wiki/Specialus:Paie%C5%A1ka\" title=\"Ieškoti lietuviškame wiki [f]\">\n",
       "<span>Paieška</span>\n",
       "</a>\n",
       "<div>\n",
       "<form action=\"/w/index.php\" class=\"vector-search-box-form\" id=\"searchform\">\n",
       "<div class=\"vector-search-box-inner\" data-search-loc=\"header-moved\" id=\"simpleSearch\">\n",
       "<input accesskey=\"f\" aria-label=\"Ieškoti Vikipedijoje\" autocapitalize=\"sentences\" class=\"vector-search-box-input\" id=\"searchInput\" name=\"search\" placeholder=\"Ieškoti Vikipedijoje\" title=\"Ieškoti lietuviškame wiki [f]\" type=\"search\"/>\n",
       "<input name=\"title\" type=\"hidden\" value=\"Specialus:Paieška\"/>\n",
       "<input class=\"searchButton mw-fallbackSearchButton\" id=\"mw-searchButton\" name=\"fulltext\" title=\"Ieškokite šio teksto puslapių\" type=\"submit\" value=\"Paieška\"/>\n",
       "<input class=\"searchButton\" id=\"searchButton\" name=\"go\" title=\"Eiti į puslapį su tokiu pavadinimu, jei toks yra\" type=\"submit\" value=\"Rodyti\"/>\n",
       "</div>\n",
       "</form>\n",
       "</div>\n",
       "</div>\n",
       "<nav aria-label=\"Asmeniniai įrankiai\" class=\"vector-user-links\" role=\"navigation\">\n",
       "<div class=\"vector-menu mw-portlet mw-portlet-vector-user-menu-overflow vector-user-menu-overflow\" id=\"p-vector-user-menu-overflow\">\n",
       "<div class=\"vector-menu-content\">\n",
       "<ul class=\"vector-menu-content-list\"><li class=\"user-links-collapsible-item mw-list-item\" id=\"pt-createaccount-2\"><a href=\"/w/index.php?title=Specialus:Sukurti_paskyr%C4%85&amp;returnto=Pr%C5%ABsija\" title=\"Skatiname susikurti paskyrą ir prisijungti, tačiau, tai nėra privaloma\"><span>Sukurti paskyrą</span></a></li></ul>\n",
       "</div>\n",
       "</div>\n",
       "<div class=\"vector-menu mw-portlet mw-portlet-personal vector-user-menu vector-user-menu-logged-out vector-menu-dropdown\" id=\"p-personal\" title=\"More options\">\n",
       "<input aria-haspopup=\"true\" class=\"vector-menu-checkbox\" data-event-name=\"ui.dropdown-p-personal\" id=\"p-personal-checkbox\" role=\"button\" type=\"checkbox\">\n",
       "<label class=\"vector-menu-heading mw-ui-button mw-ui-quiet mw-ui-icon mw-ui-icon-element mw-ui-icon-ellipsis mw-ui-icon-wikimedia-ellipsis\" for=\"p-personal-checkbox\" id=\"p-personal-label\">\n",
       "<span class=\"vector-menu-heading-label\">Asmeniniai įrankiai</span>\n",
       "</label>\n",
       "<div class=\"vector-menu-content\">\n",
       "<div class=\"vector-user-menu-create-account\"><a class=\"vector-menu-content-item user-links-collapsible-item\" href=\"/w/index.php?title=Specialus:Sukurti_paskyr%C4%85&amp;returnto=Pr%C5%ABsija\" title=\"Skatiname susikurti paskyrą ir prisijungti, tačiau, tai nėra privaloma\"><span class=\"mw-ui-icon mw-ui-icon-userAdd mw-ui-icon-wikimedia-userAdd\"></span> <span>Sukurti paskyrą</span></a></div>\n",
       "<div class=\"vector-user-menu-login\"><a accesskey=\"o\" class=\"vector-menu-content-item vector-menu-content-item-login\" href=\"/w/index.php?title=Specialus:Prisijungimas&amp;returnto=Pr%C5%ABsija\" title=\"Rekomenduojame prisijungti, nors tai nėra privaloma [o]\"><span class=\"mw-ui-icon mw-ui-icon-logIn mw-ui-icon-wikimedia-logIn\"></span> <span>Prisijungti</span></a></div>\n",
       "<div class=\"vector-user-menu-anon-editor\">\n",
       "<p>\n",
       "\t\tPages for logged out editors <a aria-label=\"Learn more about editing\" href=\"/wiki/Pagalba:Introduction\"><span>learn more</span></a>\n",
       "</p>\n",
       "</div>\n",
       "<ul class=\"vector-menu-content-list\"><li class=\"mw-list-item\" id=\"pt-anontalk\"><a accesskey=\"n\" href=\"/wiki/Specialus:Mano_aptarimas\" title=\"Pakeitimų aptarimas, darytus naudojant šį IP adresą [n]\"><span>Šio IP aptarimų puslapis</span></a></li><li class=\"mw-list-item\" id=\"pt-anoncontribs\"><a accesskey=\"y\" href=\"/wiki/Specialus:Mano_ind%C4%97lis\" title=\"Keitimų sąrašas, padarytų iš šio IP adreso [y]\"><span>Indėlis</span></a></li></ul>\n",
       "</div>\n",
       "</input></div>\n",
       "</nav>\n",
       "</div>\n",
       "</header>\n",
       "<div class=\"vector-sidebar-container\">\n",
       "<div id=\"mw-navigation\">\n",
       "<nav aria-label=\"Site\" class=\"mw-sidebar\" id=\"mw-panel\" role=\"navigation\">\n",
       "<div class=\"vector-menu mw-portlet mw-portlet-navigation vector-menu-portal portal\" id=\"p-navigation\">\n",
       "<div class=\"vector-menu-heading\" id=\"p-navigation-label\">\n",
       "<span class=\"vector-menu-heading-label\">Naršymas</span>\n",
       "</div>\n",
       "<div class=\"vector-menu-content\">\n",
       "<ul class=\"vector-menu-content-list\"><li class=\"mw-list-item\" id=\"n-mainpage\"><a accesskey=\"z\" href=\"/wiki/Pagrindinis_puslapis\" title=\"Eiti į pradinį puslapį [z]\"><span>Pagrindinis puslapis</span></a></li><li class=\"mw-list-item\" id=\"n-portal\"><a href=\"/wiki/Vikipedija:Bendruomen%C4%97\" title=\"Apie projektą, ką galima daryti, kur ką rasti\"><span>Bendruomenės portalas</span></a></li><li class=\"mw-list-item\" id=\"n-forumas\"><a href=\"/wiki/Vikipedija:Forumas\"><span>Forumas</span></a></li><li class=\"mw-list-item\" id=\"n-recentchanges\"><a accesskey=\"r\" href=\"/wiki/Specialus:Naujausi_keitimai\" title=\"Paskutinių keitimų sąrašas viki projekte [r]\"><span>Naujausi keitimai</span></a></li><li class=\"mw-list-item\" id=\"n-randompage\"><a accesskey=\"x\" href=\"/wiki/Specialus:Atsitiktinis_puslapis\" title=\"Įkelti atsitiktinį puslapį [x]\"><span>Atsitiktinis straipsnis</span></a></li><li class=\"mw-list-item\" id=\"n-pagalba\"><a href=\"/wiki/Pagalba:Turinys\"><span>Pagalba</span></a></li><li class=\"mw-list-item\" id=\"n-sitesupport\"><a href=\"//donate.wikimedia.org/wiki/Special:FundraiserRedirector?utm_source=donate&amp;utm_medium=sidebar&amp;utm_campaign=C13_lt.wikipedia.org&amp;uselang=lt\" title=\"Paremkite mus\"><span>Parama</span></a></li></ul>\n",
       "</div>\n",
       "</div>\n",
       "<div class=\"vector-menu mw-portlet mw-portlet-tb vector-menu-portal portal\" id=\"p-tb\">\n",
       "<div class=\"vector-menu-heading\" id=\"p-tb-label\">\n",
       "<span class=\"vector-menu-heading-label\">Įrankiai</span>\n",
       "</div>\n",
       "<div class=\"vector-menu-content\">\n",
       "<ul class=\"vector-menu-content-list\"><li class=\"mw-list-item\" id=\"t-whatlinkshere\"><a accesskey=\"j\" href=\"/wiki/Specialus:Kas_%C4%AF_%C4%8Dia_rodo/Pr%C5%ABsija\" title=\"Viki puslapių sąrašas, kuris nurodo čia [j]\"><span>Susiję straipsniai</span></a></li><li class=\"mw-list-item\" id=\"t-recentchangeslinked\"><a accesskey=\"k\" href=\"/wiki/Specialus:Pakeitimai_susijusiuose_puslapiuose/Pr%C5%ABsija\" rel=\"nofollow\" title=\"Paskutiniai keitimai puslapiuose, pasiekiamuose iš šio puslapio [k]\"><span>Susiję keitimai</span></a></li><li class=\"mw-list-item\" id=\"t-specialpages\"><a accesskey=\"q\" href=\"/wiki/Specialus:Specialieji_puslapiai\" title=\"Specialiųjų puslapių sąrašas [q]\"><span>Specialieji puslapiai</span></a></li><li class=\"mw-list-item\" id=\"t-permalink\"><a href=\"/w/index.php?title=Pr%C5%ABsija&amp;oldid=6720439\" title=\"Nuolatinė nuoroda į šią puslapio versiją\"><span>Nuolatinė nuoroda</span></a></li><li class=\"mw-list-item\" id=\"t-info\"><a href=\"/w/index.php?title=Pr%C5%ABsija&amp;action=info\" title=\"Daugiau žinių apie šį puslapį\"><span>Puslapio informacija</span></a></li><li class=\"mw-list-item\" id=\"t-cite\"><a href=\"/w/index.php?title=Specialus:CiteThisPage&amp;page=Pr%C5%ABsija&amp;id=6720439&amp;wpFormIdentifier=titleform\" title=\"Informacija kaip cituoti šį puslapį\"><span>Cituoti straipsnį</span></a></li><li class=\"mw-list-item\" id=\"t-wikibase\"><a accesskey=\"g\" href=\"https://www.wikidata.org/wiki/Special:EntityPage/Q38872\" title=\"Nuoroda į susietą duomenų saugyklos įrašą [g]\"><span>Vikiduomenys įrašas</span></a></li></ul>\n",
       "</div>\n",
       "</div>\n",
       "<div class=\"vector-menu mw-portlet mw-portlet-coll-print_export vector-menu-portal portal\" id=\"p-coll-print_export\">\n",
       "<div class=\"vector-menu-heading\" id=\"p-coll-print_export-label\">\n",
       "<span class=\"vector-menu-heading-label\">Spausdinti/eksportuoti</span>\n",
       "</div>\n",
       "<div class=\"vector-menu-content\">\n",
       "<ul class=\"vector-menu-content-list\"><li class=\"mw-list-item\" id=\"coll-create_a_book\"><a href=\"/w/index.php?title=Specialus:Book&amp;bookcmd=book_creator&amp;referer=Pr%C5%ABsija\"><span>Kurti knygą</span></a></li><li class=\"mw-list-item\" id=\"coll-download-as-rl\"><a href=\"/w/index.php?title=Specialus:DownloadAsPdf&amp;page=Pr%C5%ABsija&amp;action=show-download-screen\"><span>Parsisiųsti kaip PDF</span></a></li><li class=\"mw-list-item\" id=\"t-print\"><a accesskey=\"p\" href=\"/w/index.php?title=Pr%C5%ABsija&amp;printable=yes\" title=\"Šio puslapio versija spausdinimui [p]\"><span>Versija spausdinimui</span></a></li></ul>\n",
       "</div>\n",
       "</div>\n",
       "<div class=\"vector-menu mw-portlet mw-portlet-wikibase-otherprojects vector-menu-portal portal\" id=\"p-wikibase-otherprojects\">\n",
       "<div class=\"vector-menu-heading\" id=\"p-wikibase-otherprojects-label\">\n",
       "<span class=\"vector-menu-heading-label\">Kituose projektuose</span>\n",
       "</div>\n",
       "<div class=\"vector-menu-content\">\n",
       "<ul class=\"vector-menu-content-list\"><li class=\"wb-otherproject-link wb-otherproject-commons mw-list-item\"><a href=\"https://commons.wikimedia.org/wiki/Prussia\" hreflang=\"en\"><span>Vikiteka</span></a></li></ul>\n",
       "</div>\n",
       "</div>\n",
       "<div class=\"mw-sidebar-action\">\n",
       "<div class=\"mw-sidebar-action-item vector-menu-portal\">\n",
       "<div class=\"mw-sidebar-action-heading vector-menu-heading\">Languages</div>\n",
       "<div class=\"mw-sidebar-action-content vector-menu-content\">\n",
       "<div class=\"mw-message-box-notice vector-language-sidebar-alert mw-message-box\">On this Vikipedija the language links are at the top of the page across from the article title. <a href=\"#p-lang-btn\">Go to top</a>.</div>\n",
       "</div>\n",
       "</div>\n",
       "</div>\n",
       "</nav>\n",
       "</div>\n",
       "</div>\n",
       "<div class=\"vector-sitenotice-container\">\n",
       "<div id=\"siteNotice\"><!-- CentralNotice --><!--esi <esi:include src=\"/esitest-fa8a495983347898/content\" /> --> <div id=\"mw-dismissablenotice-anonplace\"></div><script>(function(){var node=document.getElementById(\"mw-dismissablenotice-anonplace\");if(node){node.outerHTML=\"\\u003Cdiv class=\\\"mw-dismissable-notice\\\"\\u003E\\u003Cdiv class=\\\"mw-dismissable-notice-close\\\"\\u003E[\\u003Ca tabindex=\\\"0\\\" role=\\\"button\\\"\\u003Epaslėpti\\u003C/a\\u003E]\\u003C/div\\u003E\\u003Cdiv class=\\\"mw-dismissable-notice-body\\\"\\u003E\\u003Cdiv id=\\\"localNotice\\\"\\u003E\\u003Cdiv class=\\\"sitenotice\\\" lang=\\\"lt\\\" dir=\\\"ltr\\\"\\u003E\\u003Cp\\u003EŠios \\u003Ca href=\\\"/wiki/Vikipedija:Savait%C4%97s_iniciatyva\\\" title=\\\"Vikipedija:Savaitės iniciatyva\\\"\\u003Esavaitės iniciatyva\\u003C/a\\u003E: \\u003Cb\\u003EAntika\\u003C/b\\u003E. Kviečiame prisidėti!\\n\\u003C/p\\u003E\\u003C/div\\u003E\\u003C/div\\u003E\\u003C/div\\u003E\\u003C/div\\u003E\";}}());</script></div>\n",
       "</div>\n",
       "<input class=\"mw-checkbox-hack-checkbox\" id=\"vector-toc-collapsed-checkbox\" type=\"checkbox\"/>\n",
       "<div class=\"mw-table-of-contents-container\">\n",
       "<div class=\"vector-sticky-toc-container\">\n",
       "<nav aria-labelledby=\"sidebar-toc-label\" class=\"sidebar-toc\" data-event-name=\"ui.sidebar-toc\" id=\"mw-panel-toc\" role=\"navigation\">\n",
       "<div class=\"sidebar-toc-header\" id=\"sidebar-toc-label\">\n",
       "<p class=\"sidebar-toc-title\">\n",
       "\t\t\t\tContents\n",
       "\t\t\t\t<button class=\"vector-toc-uncollapse-button\">move to sidebar</button>\n",
       "<button class=\"vector-toc-collapse-button\">hide</button>\n",
       "</p>\n",
       "</div>\n",
       "<ul class=\"sidebar-toc-contents\" id=\"mw-panel-toc-list\">\n",
       "<li class=\"sidebar-toc-list-item sidebar-toc-level-1\" id=\"toc-mw-content-text\">\n",
       "<a class=\"sidebar-toc-link\" href=\"#\">\n",
       "<div class=\"sidebar-toc-text\">Beginning</div>\n",
       "</a>\n",
       "</li>\n",
       "<li class=\"sidebar-toc-list-item sidebar-toc-level-1 sidebar-toc-list-item-expanded\" id=\"toc-Geografija\">\n",
       "<a class=\"sidebar-toc-link\" href=\"#Geografija\">\n",
       "<div class=\"sidebar-toc-text\">\n",
       "<span class=\"sidebar-toc-numb\">1</span>Geografija</div>\n",
       "</a>\n",
       "<ul class=\"sidebar-toc-list\" id=\"toc-Geografija-sublist\">\n",
       "</ul>\n",
       "</li>\n",
       "<li class=\"sidebar-toc-list-item sidebar-toc-level-1 sidebar-toc-list-item-expanded\" id=\"toc-Istorija\">\n",
       "<a class=\"sidebar-toc-link\" href=\"#Istorija\">\n",
       "<div class=\"sidebar-toc-text\">\n",
       "<span class=\"sidebar-toc-numb\">2</span>Istorija</div>\n",
       "</a>\n",
       "<button aria-controls=\"toc-Istorija-sublist\" class=\"mw-ui-icon mw-ui-icon-wikimedia-expand mw-ui-icon-small sidebar-toc-toggle\">\n",
       "\t\t\t\t\tToggle Istorija subsection\n",
       "\t\t\t\t</button>\n",
       "<ul class=\"sidebar-toc-list\" id=\"toc-Istorija-sublist\">\n",
       "<li class=\"sidebar-toc-list-item sidebar-toc-level-2\" id=\"toc-Senovės_Prūsija\">\n",
       "<a class=\"sidebar-toc-link\" href=\"#Senovės_Prūsija\">\n",
       "<div class=\"sidebar-toc-text\">\n",
       "<span class=\"sidebar-toc-numb\">2.1</span>Senovės Prūsija</div>\n",
       "</a>\n",
       "<ul class=\"sidebar-toc-list\" id=\"toc-Senovės_Prūsija-sublist\">\n",
       "</ul>\n",
       "</li>\n",
       "<li class=\"sidebar-toc-list-item sidebar-toc-level-2\" id=\"toc-Vokiečių_valdymas\">\n",
       "<a class=\"sidebar-toc-link\" href=\"#Vokiečių_valdymas\">\n",
       "<div class=\"sidebar-toc-text\">\n",
       "<span class=\"sidebar-toc-numb\">2.2</span>Vokiečių valdymas</div>\n",
       "</a>\n",
       "<ul class=\"sidebar-toc-list\" id=\"toc-Vokiečių_valdymas-sublist\">\n",
       "</ul>\n",
       "</li>\n",
       "<li class=\"sidebar-toc-list-item sidebar-toc-level-2\" id=\"toc-XX_amžius\">\n",
       "<a class=\"sidebar-toc-link\" href=\"#XX_amžius\">\n",
       "<div class=\"sidebar-toc-text\">\n",
       "<span class=\"sidebar-toc-numb\">2.3</span>XX amžius</div>\n",
       "</a>\n",
       "<ul class=\"sidebar-toc-list\" id=\"toc-XX_amžius-sublist\">\n",
       "</ul>\n",
       "</li>\n",
       "</ul>\n",
       "</li>\n",
       "</ul>\n",
       "</nav>\n",
       "</div>\n",
       "</div>\n",
       "<div class=\"mw-content-container\">\n",
       "<main class=\"mw-body\" id=\"content\" role=\"main\">\n",
       "<header class=\"mw-body-header vector-page-titlebar\">\n",
       "<label aria-controls=\"toc-toggle-list\" class=\"mw-ui-button mw-ui-quiet mw-ui-icon mw-ui-icon-element mw-ui-icon-wikimedia-listBullet mw-checkbox-hack-button\" data-event-name=\"vector.toc-toggle-list\" for=\"vector-toc-collapsed-checkbox\" id=\"vector-toc-collapsed-button\" role=\"button\" tabindex=\"0\" title=\"Table of Contents\">\n",
       "\t\t\t\t\t\tToggle the table of contents\n",
       "\t\t\t\t\t</label>\n",
       "<h1 class=\"firstHeading mw-first-heading\" id=\"firstHeading\"><span class=\"mw-page-title-main\">Prūsija</span></h1>\n",
       "<div class=\"vector-menu mw-portlet mw-portlet-lang vector-menu-dropdown-noicon vector-menu-dropdown\" id=\"p-lang-btn\">\n",
       "<input aria-haspopup=\"true\" aria-label=\"Go to an article in another language. Available in 115 languages\" class=\"vector-menu-checkbox mw-interlanguage-selector\" data-event-name=\"ui.dropdown-p-lang-btn\" id=\"p-lang-btn-checkbox\" role=\"button\" type=\"checkbox\">\n",
       "<label class=\"vector-menu-heading mw-ui-progressive mw-portlet-lang-heading-115 mw-ui-button mw-ui-quiet\" for=\"p-lang-btn-checkbox\" id=\"p-lang-btn-label\">\n",
       "<span class=\"mw-ui-icon mw-ui-icon-language-progressive mw-ui-icon-wikimedia-language-progressive\"></span><span class=\"vector-menu-heading-label\">115 kalbų</span>\n",
       "</label>\n",
       "<div class=\"vector-menu-content\">\n",
       "<ul class=\"vector-menu-content-list\"><li class=\"interlanguage-link interwiki-af mw-list-item\"><a class=\"interlanguage-link-target\" href=\"https://af.wikipedia.org/wiki/Pruise\" hreflang=\"af\" lang=\"af\" title=\"Pruise – afrikanų\"><span>Afrikaans</span></a></li><li class=\"interlanguage-link interwiki-als mw-list-item\"><a class=\"interlanguage-link-target\" href=\"https://als.wikipedia.org/wiki/Preussen\" hreflang=\"gsw\" lang=\"gsw\" title=\"Preussen – Alemannisch\"><span>Alemannisch</span></a></li><li class=\"interlanguage-link interwiki-am mw-list-item\"><a class=\"interlanguage-link-target\" href=\"https://am.wikipedia.org/wiki/%E1%8D%95%E1%88%A9%E1%88%B2%E1%8B%AB\" hreflang=\"am\" lang=\"am\" title=\"ፕሩሲያ – amharų\"><span>አማርኛ</span></a></li><li class=\"interlanguage-link interwiki-ang mw-list-item\"><a class=\"interlanguage-link-target\" href=\"https://ang.wikipedia.org/wiki/Pr%C4%93ossland\" hreflang=\"ang\" lang=\"ang\" title=\"Prēossland – senoji anglų\"><span>Ænglisc</span></a></li><li class=\"interlanguage-link interwiki-ar badge-Q17437796 badge-featuredarticle mw-list-item\" title=\"pavyzdinis straipsnis\"><a class=\"interlanguage-link-target\" href=\"https://ar.wikipedia.org/wiki/%D8%A8%D8%B1%D9%88%D8%B3%D9%8A%D8%A7\" hreflang=\"ar\" lang=\"ar\" title=\"بروسيا – arabų\"><span>العربية</span></a></li><li class=\"interlanguage-link interwiki-arz mw-list-item\"><a class=\"interlanguage-link-target\" href=\"https://arz.wikipedia.org/wiki/%D8%A8%D8%B1%D9%88%D8%B3%D9%8A%D8%A7\" hreflang=\"arz\" lang=\"arz\" title=\"بروسيا – Egipto arabų\"><span>مصرى</span></a></li><li class=\"interlanguage-link interwiki-ast mw-list-item\"><a class=\"interlanguage-link-target\" href=\"https://ast.wikipedia.org/wiki/Prusia\" hreflang=\"ast\" lang=\"ast\" title=\"Prusia – asturianų\"><span>Asturianu</span></a></li><li class=\"interlanguage-link interwiki-az mw-list-item\"><a class=\"interlanguage-link-target\" href=\"https://az.wikipedia.org/wiki/Prussiya\" hreflang=\"az\" lang=\"az\" title=\"Prussiya – azerbaidžaniečių\"><span>Azərbaycanca</span></a></li><li class=\"interlanguage-link interwiki-azb mw-list-item\"><a class=\"interlanguage-link-target\" href=\"https://azb.wikipedia.org/wiki/%D9%BE%D8%B1%D9%88%D8%B3\" hreflang=\"azb\" lang=\"azb\" title=\"پروس – South Azerbaijani\"><span>تۆرکجه</span></a></li><li class=\"interlanguage-link interwiki-ba mw-list-item\"><a class=\"interlanguage-link-target\" href=\"https://ba.wikipedia.org/wiki/%D0%9F%D1%80%D1%83%D1%81%D1%81%D0%B8%D1%8F\" hreflang=\"ba\" lang=\"ba\" title=\"Пруссия – baškirų\"><span>Башҡортса</span></a></li><li class=\"interlanguage-link interwiki-bat-smg mw-list-item\"><a class=\"interlanguage-link-target\" href=\"https://bat-smg.wikipedia.org/wiki/Pr%C5%ABs%C4%97j%C4%97\" hreflang=\"sgs\" lang=\"sgs\" title=\"Prūsėjė – Samogitian\"><span>Žemaitėška</span></a></li><li class=\"interlanguage-link interwiki-be mw-list-item\"><a class=\"interlanguage-link-target\" href=\"https://be.wikipedia.org/wiki/%D0%9F%D1%80%D1%83%D1%81%D1%96%D1%8F\" hreflang=\"be\" lang=\"be\" title=\"Прусія – baltarusių\"><span>Беларуская</span></a></li><li class=\"interlanguage-link interwiki-be-x-old mw-list-item\"><a class=\"interlanguage-link-target\" href=\"https://be-tarask.wikipedia.org/wiki/%D0%9F%D1%80%D1%83%D1%81%D1%96%D1%8F\" hreflang=\"be-tarask\" lang=\"be-tarask\" title=\"Прусія – Belarusian (Taraškievica orthography)\"><span>Беларуская (тарашкевіца)</span></a></li><li class=\"interlanguage-link interwiki-bg mw-list-item\"><a class=\"interlanguage-link-target\" href=\"https://bg.wikipedia.org/wiki/%D0%9F%D1%80%D1%83%D1%81%D0%B8%D1%8F\" hreflang=\"bg\" lang=\"bg\" title=\"Прусия – bulgarų\"><span>Български</span></a></li><li class=\"interlanguage-link interwiki-bn mw-list-item\"><a class=\"interlanguage-link-target\" href=\"https://bn.wikipedia.org/wiki/%E0%A6%AA%E0%A7%8D%E0%A6%B0%E0%A7%81%E0%A6%B6%E0%A6%BF%E0%A6%AF%E0%A6%BC%E0%A6%BE\" hreflang=\"bn\" lang=\"bn\" title=\"প্রুশিয়া – bengalų\"><span>বাংলা</span></a></li><li class=\"interlanguage-link interwiki-br mw-list-item\"><a class=\"interlanguage-link-target\" href=\"https://br.wikipedia.org/wiki/Prusia\" hreflang=\"br\" lang=\"br\" title=\"Prusia – bretonų\"><span>Brezhoneg</span></a></li><li class=\"interlanguage-link interwiki-bs mw-list-item\"><a class=\"interlanguage-link-target\" href=\"https://bs.wikipedia.org/wiki/Pruska\" hreflang=\"bs\" lang=\"bs\" title=\"Pruska – bosnių\"><span>Bosanski</span></a></li><li class=\"interlanguage-link interwiki-ca mw-list-item\"><a class=\"interlanguage-link-target\" href=\"https://ca.wikipedia.org/wiki/Pr%C3%BAssia\" hreflang=\"ca\" lang=\"ca\" title=\"Prússia – katalonų\"><span>Català</span></a></li><li class=\"interlanguage-link interwiki-ce mw-list-item\"><a class=\"interlanguage-link-target\" href=\"https://ce.wikipedia.org/wiki/%D0%9F%D1%80%D1%83%D1%81%D1%81%D0%B8\" hreflang=\"ce\" lang=\"ce\" title=\"Прусси – čečėnų\"><span>Нохчийн</span></a></li><li class=\"interlanguage-link interwiki-ckb mw-list-item\"><a class=\"interlanguage-link-target\" href=\"https://ckb.wikipedia.org/wiki/%D9%BE%D8%B1%D9%88%D8%B3%DB%8C%D8%A7\" hreflang=\"ckb\" lang=\"ckb\" title=\"پروسیا – soranių kurdų\"><span>کوردی</span></a></li><li class=\"interlanguage-link interwiki-cs mw-list-item\"><a class=\"interlanguage-link-target\" href=\"https://cs.wikipedia.org/wiki/Prusko\" hreflang=\"cs\" lang=\"cs\" title=\"Prusko – čekų\"><span>Čeština</span></a></li><li class=\"interlanguage-link interwiki-cy mw-list-item\"><a class=\"interlanguage-link-target\" href=\"https://cy.wikipedia.org/wiki/Prwsia\" hreflang=\"cy\" lang=\"cy\" title=\"Prwsia – valų\"><span>Cymraeg</span></a></li><li class=\"interlanguage-link interwiki-da mw-list-item\"><a class=\"interlanguage-link-target\" href=\"https://da.wikipedia.org/wiki/Preussen\" hreflang=\"da\" lang=\"da\" title=\"Preussen – danų\"><span>Dansk</span></a></li><li class=\"interlanguage-link interwiki-de badge-Q17437798 badge-goodarticle mw-list-item\" title=\"vertingas straipsnis\"><a class=\"interlanguage-link-target\" href=\"https://de.wikipedia.org/wiki/Preu%C3%9Fen\" hreflang=\"de\" lang=\"de\" title=\"Preußen – vokiečių\"><span>Deutsch</span></a></li><li class=\"interlanguage-link interwiki-diq mw-list-item\"><a class=\"interlanguage-link-target\" href=\"https://diq.wikipedia.org/wiki/Prusya\" hreflang=\"diq\" lang=\"diq\" title=\"Prusya – Zazaki\"><span>Zazaki</span></a></li><li class=\"interlanguage-link interwiki-dsb mw-list-item\"><a class=\"interlanguage-link-target\" href=\"https://dsb.wikipedia.org/wiki/P%C5%A1uska\" hreflang=\"dsb\" lang=\"dsb\" title=\"Pšuska – žemutinių sorbų\"><span>Dolnoserbski</span></a></li><li class=\"interlanguage-link interwiki-el mw-list-item\"><a class=\"interlanguage-link-target\" href=\"https://el.wikipedia.org/wiki/%CE%A0%CF%81%CF%89%CF%83%CE%AF%CE%B1\" hreflang=\"el\" lang=\"el\" title=\"Πρωσία – graikų\"><span>Ελληνικά</span></a></li><li class=\"interlanguage-link interwiki-en mw-list-item\"><a class=\"interlanguage-link-target\" href=\"https://en.wikipedia.org/wiki/Prussia\" hreflang=\"en\" lang=\"en\" title=\"Prussia – anglų\"><span>English</span></a></li><li class=\"interlanguage-link interwiki-eo mw-list-item\"><a class=\"interlanguage-link-target\" href=\"https://eo.wikipedia.org/wiki/Prusio\" hreflang=\"eo\" lang=\"eo\" title=\"Prusio – esperanto\"><span>Esperanto</span></a></li><li class=\"interlanguage-link interwiki-es mw-list-item\"><a class=\"interlanguage-link-target\" href=\"https://es.wikipedia.org/wiki/Prusia\" hreflang=\"es\" lang=\"es\" title=\"Prusia – ispanų\"><span>Español</span></a></li><li class=\"interlanguage-link interwiki-eu mw-list-item\"><a class=\"interlanguage-link-target\" href=\"https://eu.wikipedia.org/wiki/Prusia\" hreflang=\"eu\" lang=\"eu\" title=\"Prusia – baskų\"><span>Euskara</span></a></li><li class=\"interlanguage-link interwiki-fa mw-list-item\"><a class=\"interlanguage-link-target\" href=\"https://fa.wikipedia.org/wiki/%D9%BE%D8%B1%D9%88%D8%B3\" hreflang=\"fa\" lang=\"fa\" title=\"پروس – persų\"><span>فارسی</span></a></li><li class=\"interlanguage-link interwiki-fi mw-list-item\"><a class=\"interlanguage-link-target\" href=\"https://fi.wikipedia.org/wiki/Preussi\" hreflang=\"fi\" lang=\"fi\" title=\"Preussi – suomių\"><span>Suomi</span></a></li><li class=\"interlanguage-link interwiki-fo mw-list-item\"><a class=\"interlanguage-link-target\" href=\"https://fo.wikipedia.org/wiki/Preussen\" hreflang=\"fo\" lang=\"fo\" title=\"Preussen – farerų\"><span>Føroyskt</span></a></li><li class=\"interlanguage-link interwiki-fr mw-list-item\"><a class=\"interlanguage-link-target\" href=\"https://fr.wikipedia.org/wiki/Prusse\" hreflang=\"fr\" lang=\"fr\" title=\"Prusse – prancūzų\"><span>Français</span></a></li><li class=\"interlanguage-link interwiki-fy mw-list-item\"><a class=\"interlanguage-link-target\" href=\"https://fy.wikipedia.org/wiki/Prusen\" hreflang=\"fy\" lang=\"fy\" title=\"Prusen – vakarų fryzų\"><span>Frysk</span></a></li><li class=\"interlanguage-link interwiki-ga mw-list-item\"><a class=\"interlanguage-link-target\" href=\"https://ga.wikipedia.org/wiki/An_Phr%C3%BAis\" hreflang=\"ga\" lang=\"ga\" title=\"An Phrúis – airių\"><span>Gaeilge</span></a></li><li class=\"interlanguage-link interwiki-gd mw-list-item\"><a class=\"interlanguage-link-target\" href=\"https://gd.wikipedia.org/wiki/A%27_Phruis\" hreflang=\"gd\" lang=\"gd\" title=\"A' Phruis – škotų (gėlų)\"><span>Gàidhlig</span></a></li><li class=\"interlanguage-link interwiki-gl mw-list-item\"><a class=\"interlanguage-link-target\" href=\"https://gl.wikipedia.org/wiki/Prusia\" hreflang=\"gl\" lang=\"gl\" title=\"Prusia – galisų\"><span>Galego</span></a></li><li class=\"interlanguage-link interwiki-gv mw-list-item\"><a class=\"interlanguage-link-target\" href=\"https://gv.wikipedia.org/wiki/Yn_Phroosh\" hreflang=\"gv\" lang=\"gv\" title=\"Yn Phroosh – meniečių\"><span>Gaelg</span></a></li><li class=\"interlanguage-link interwiki-he mw-list-item\"><a class=\"interlanguage-link-target\" href=\"https://he.wikipedia.org/wiki/%D7%A4%D7%A8%D7%95%D7%A1%D7%99%D7%94\" hreflang=\"he\" lang=\"he\" title=\"פרוסיה – hebrajų\"><span>עברית</span></a></li><li class=\"interlanguage-link interwiki-hi mw-list-item\"><a class=\"interlanguage-link-target\" href=\"https://hi.wikipedia.org/wiki/%E0%A4%AA%E0%A5%8D%E0%A4%B0%E0%A4%B6%E0%A4%BF%E0%A4%AF%E0%A4%BE\" hreflang=\"hi\" lang=\"hi\" title=\"प्रशिया – hindi\"><span>हिन्दी</span></a></li><li class=\"interlanguage-link interwiki-hr mw-list-item\"><a class=\"interlanguage-link-target\" href=\"https://hr.wikipedia.org/wiki/Pruska\" hreflang=\"hr\" lang=\"hr\" title=\"Pruska – kroatų\"><span>Hrvatski</span></a></li><li class=\"interlanguage-link interwiki-hsb mw-list-item\"><a class=\"interlanguage-link-target\" href=\"https://hsb.wikipedia.org/wiki/Pruska\" hreflang=\"hsb\" lang=\"hsb\" title=\"Pruska – aukštutinių sorbų\"><span>Hornjoserbsce</span></a></li><li class=\"interlanguage-link interwiki-ia mw-list-item\"><a class=\"interlanguage-link-target\" href=\"https://ia.wikipedia.org/wiki/Prussia\" hreflang=\"ia\" lang=\"ia\" title=\"Prussia – tarpinė\"><span>Interlingua</span></a></li><li class=\"interlanguage-link interwiki-id mw-list-item\"><a class=\"interlanguage-link-target\" href=\"https://id.wikipedia.org/wiki/Prusia\" hreflang=\"id\" lang=\"id\" title=\"Prusia – indoneziečių\"><span>Bahasa Indonesia</span></a></li><li class=\"interlanguage-link interwiki-ie mw-list-item\"><a class=\"interlanguage-link-target\" href=\"https://ie.wikipedia.org/wiki/Prussia\" hreflang=\"ie\" lang=\"ie\" title=\"Prussia – interkalba\"><span>Interlingue</span></a></li><li class=\"interlanguage-link interwiki-io mw-list-item\"><a class=\"interlanguage-link-target\" href=\"https://io.wikipedia.org/wiki/Prusia\" hreflang=\"io\" lang=\"io\" title=\"Prusia – ido\"><span>Ido</span></a></li><li class=\"interlanguage-link interwiki-is mw-list-item\"><a class=\"interlanguage-link-target\" href=\"https://is.wikipedia.org/wiki/Pr%C3%BAssland\" hreflang=\"is\" lang=\"is\" title=\"Prússland – islandų\"><span>Íslenska</span></a></li><li class=\"interlanguage-link interwiki-it mw-list-item\"><a class=\"interlanguage-link-target\" href=\"https://it.wikipedia.org/wiki/Prussia\" hreflang=\"it\" lang=\"it\" title=\"Prussia – italų\"><span>Italiano</span></a></li><li class=\"interlanguage-link interwiki-ja mw-list-item\"><a class=\"interlanguage-link-target\" href=\"https://ja.wikipedia.org/wiki/%E3%83%97%E3%83%AD%E3%82%A4%E3%82%BB%E3%83%B3\" hreflang=\"ja\" lang=\"ja\" title=\"プロイセン – japonų\"><span>日本語</span></a></li><li class=\"interlanguage-link interwiki-jv mw-list-item\"><a class=\"interlanguage-link-target\" href=\"https://jv.wikipedia.org/wiki/Prusia\" hreflang=\"jv\" lang=\"jv\" title=\"Prusia – javiečių\"><span>Jawa</span></a></li><li class=\"interlanguage-link interwiki-ka mw-list-item\"><a class=\"interlanguage-link-target\" href=\"https://ka.wikipedia.org/wiki/%E1%83%9E%E1%83%A0%E1%83%A3%E1%83%A1%E1%83%98%E1%83%90\" hreflang=\"ka\" lang=\"ka\" title=\"პრუსია – gruzinų\"><span>ქართული</span></a></li><li class=\"interlanguage-link interwiki-kk mw-list-item\"><a class=\"interlanguage-link-target\" href=\"https://kk.wikipedia.org/wiki/%D0%9F%D1%80%D1%83%D1%81%D1%81%D0%B8%D1%8F\" hreflang=\"kk\" lang=\"kk\" title=\"Пруссия – kazachų\"><span>Қазақша</span></a></li><li class=\"interlanguage-link interwiki-ko mw-list-item\"><a class=\"interlanguage-link-target\" href=\"https://ko.wikipedia.org/wiki/%ED%94%84%EB%A1%9C%EC%9D%B4%EC%84%BC\" hreflang=\"ko\" lang=\"ko\" title=\"프로이센 – korėjiečių\"><span>한국어</span></a></li><li class=\"interlanguage-link interwiki-ku mw-list-item\"><a class=\"interlanguage-link-target\" href=\"https://ku.wikipedia.org/wiki/Pr%C3%BBsya\" hreflang=\"ku\" lang=\"ku\" title=\"Prûsya – kurdų\"><span>Kurdî</span></a></li><li class=\"interlanguage-link interwiki-ky mw-list-item\"><a class=\"interlanguage-link-target\" href=\"https://ky.wikipedia.org/wiki/%D0%9F%D1%80%D1%83%D1%81%D1%81%D0%B8%D1%8F\" hreflang=\"ky\" lang=\"ky\" title=\"Пруссия – kirgizų\"><span>Кыргызча</span></a></li><li class=\"interlanguage-link interwiki-la mw-list-item\"><a class=\"interlanguage-link-target\" href=\"https://la.wikipedia.org/wiki/Borussia\" hreflang=\"la\" lang=\"la\" title=\"Borussia – lotynų\"><span>Latina</span></a></li><li class=\"interlanguage-link interwiki-lb mw-list-item\"><a class=\"interlanguage-link-target\" href=\"https://lb.wikipedia.org/wiki/Preisen\" hreflang=\"lb\" lang=\"lb\" title=\"Preisen – liuksemburgiečių\"><span>Lëtzebuergesch</span></a></li><li class=\"interlanguage-link interwiki-lez mw-list-item\"><a class=\"interlanguage-link-target\" href=\"https://lez.wikipedia.org/wiki/%D0%9F%D1%80%D1%83%D1%81%D1%81%D0%B8%D1%8F\" hreflang=\"lez\" lang=\"lez\" title=\"Пруссия – lezginų\"><span>Лезги</span></a></li><li class=\"interlanguage-link interwiki-li mw-list-item\"><a class=\"interlanguage-link-target\" href=\"https://li.wikipedia.org/wiki/Pruses_(land)\" hreflang=\"li\" lang=\"li\" title=\"Pruses (land) – limburgiečių\"><span>Limburgs</span></a></li><li class=\"interlanguage-link interwiki-lij mw-list-item\"><a class=\"interlanguage-link-target\" href=\"https://lij.wikipedia.org/wiki/Pruscia\" hreflang=\"lij\" lang=\"lij\" title=\"Pruscia – ligūrų\"><span>Ligure</span></a></li><li class=\"interlanguage-link interwiki-lv mw-list-item\"><a class=\"interlanguage-link-target\" href=\"https://lv.wikipedia.org/wiki/Pr%C5%ABsija\" hreflang=\"lv\" lang=\"lv\" title=\"Prūsija – latvių\"><span>Latviešu</span></a></li><li class=\"interlanguage-link interwiki-mk mw-list-item\"><a class=\"interlanguage-link-target\" href=\"https://mk.wikipedia.org/wiki/%D0%9F%D1%80%D1%83%D1%81%D0%B8%D1%98%D0%B0\" hreflang=\"mk\" lang=\"mk\" title=\"Прусија – makedonų\"><span>Македонски</span></a></li><li class=\"interlanguage-link interwiki-ml mw-list-item\"><a class=\"interlanguage-link-target\" href=\"https://ml.wikipedia.org/wiki/%E0%B4%AA%E0%B5%8D%E0%B4%B0%E0%B4%B7%E0%B5%8D%E0%B4%AF\" hreflang=\"ml\" lang=\"ml\" title=\"പ്രഷ്യ – malajalių\"><span>മലയാളം</span></a></li><li class=\"interlanguage-link interwiki-mn mw-list-item\"><a class=\"interlanguage-link-target\" href=\"https://mn.wikipedia.org/wiki/%D0%9F%D1%80%D1%83%D1%81%D1%81\" hreflang=\"mn\" lang=\"mn\" title=\"Прусс – mongolų\"><span>Монгол</span></a></li><li class=\"interlanguage-link interwiki-mr mw-list-item\"><a class=\"interlanguage-link-target\" href=\"https://mr.wikipedia.org/wiki/%E0%A4%AA%E0%A5%8D%E0%A4%B0%E0%A4%B6%E0%A4%BF%E0%A4%AF%E0%A4%BE\" hreflang=\"mr\" lang=\"mr\" title=\"प्रशिया – maratų\"><span>मराठी</span></a></li><li class=\"interlanguage-link interwiki-ms mw-list-item\"><a class=\"interlanguage-link-target\" href=\"https://ms.wikipedia.org/wiki/Prusia\" hreflang=\"ms\" lang=\"ms\" title=\"Prusia – malajiečių\"><span>Bahasa Melayu</span></a></li><li class=\"interlanguage-link interwiki-mzn mw-list-item\"><a class=\"interlanguage-link-target\" href=\"https://mzn.wikipedia.org/wiki/%D9%BE%D8%B1%D9%88%D8%B3\" hreflang=\"mzn\" lang=\"mzn\" title=\"پروس – mazenderanių\"><span>مازِرونی</span></a></li><li class=\"interlanguage-link interwiki-nap mw-list-item\"><a class=\"interlanguage-link-target\" href=\"https://nap.wikipedia.org/wiki/Prussia\" hreflang=\"nap\" lang=\"nap\" title=\"Prussia – neapoliečių\"><span>Napulitano</span></a></li><li class=\"interlanguage-link interwiki-nds mw-list-item\"><a class=\"interlanguage-link-target\" href=\"https://nds.wikipedia.org/wiki/Preu%C3%9Fen_(Staat)\" hreflang=\"nds\" lang=\"nds\" title=\"Preußen (Staat) – Žemutinės Vokietijos\"><span>Plattdüütsch</span></a></li><li class=\"interlanguage-link interwiki-nds-nl mw-list-item\"><a class=\"interlanguage-link-target\" href=\"https://nds-nl.wikipedia.org/wiki/Praissen\" hreflang=\"nds-NL\" lang=\"nds-NL\" title=\"Praissen – Žemutinės Saksonijos (Nyderlandai)\"><span>Nedersaksies</span></a></li><li class=\"interlanguage-link interwiki-ne mw-list-item\"><a class=\"interlanguage-link-target\" href=\"https://ne.wikipedia.org/wiki/%E0%A4%AA%E0%A5%8D%E0%A4%B0%E0%A4%B6%E0%A4%BF%E0%A4%AF%E0%A4%BE\" hreflang=\"ne\" lang=\"ne\" title=\"प्रशिया – nepaliečių\"><span>नेपाली</span></a></li><li class=\"interlanguage-link interwiki-nl badge-Q17437796 badge-featuredarticle mw-list-item\" title=\"pavyzdinis straipsnis\"><a class=\"interlanguage-link-target\" href=\"https://nl.wikipedia.org/wiki/Pruisen\" hreflang=\"nl\" lang=\"nl\" title=\"Pruisen – olandų\"><span>Nederlands</span></a></li><li class=\"interlanguage-link interwiki-nn mw-list-item\"><a class=\"interlanguage-link-target\" href=\"https://nn.wikipedia.org/wiki/Preussen\" hreflang=\"nn\" lang=\"nn\" title=\"Preussen – naujoji norvegų\"><span>Norsk nynorsk</span></a></li><li class=\"interlanguage-link interwiki-no badge-Q17437798 badge-goodarticle mw-list-item\" title=\"vertingas straipsnis\"><a class=\"interlanguage-link-target\" href=\"https://no.wikipedia.org/wiki/Preussen\" hreflang=\"nb\" lang=\"nb\" title=\"Preussen – norvegų bukmolas\"><span>Norsk bokmål</span></a></li><li class=\"interlanguage-link interwiki-oc mw-list-item\"><a class=\"interlanguage-link-target\" href=\"https://oc.wikipedia.org/wiki/Pr%C3%BAssia\" hreflang=\"oc\" lang=\"oc\" title=\"Prússia – očitarų\"><span>Occitan</span></a></li><li class=\"interlanguage-link interwiki-pa mw-list-item\"><a class=\"interlanguage-link-target\" href=\"https://pa.wikipedia.org/wiki/%E0%A8%AA%E0%A9%8D%E0%A8%B0%E0%A9%8C%E0%A8%87%E0%A8%B8%E0%A8%A8\" hreflang=\"pa\" lang=\"pa\" title=\"ਪ੍ਰੌਇਸਨ – pendžabų\"><span>ਪੰਜਾਬੀ</span></a></li><li class=\"interlanguage-link interwiki-pl mw-list-item\"><a class=\"interlanguage-link-target\" href=\"https://pl.wikipedia.org/wiki/Prusy_(pa%C5%84stwo)\" hreflang=\"pl\" lang=\"pl\" title=\"Prusy (państwo) – lenkų\"><span>Polski</span></a></li><li class=\"interlanguage-link interwiki-pnb mw-list-item\"><a class=\"interlanguage-link-target\" href=\"https://pnb.wikipedia.org/wiki/%D9%BE%D8%B1%D9%88%D8%B4%DB%8C%D8%A7\" hreflang=\"pnb\" lang=\"pnb\" title=\"پروشیا – Western Punjabi\"><span>پنجابی</span></a></li><li class=\"interlanguage-link interwiki-ps mw-list-item\"><a class=\"interlanguage-link-target\" href=\"https://ps.wikipedia.org/wiki/%D9%BE%D8%B1%D9%88%D8%B4%DB%8C%D8%A7\" hreflang=\"ps\" lang=\"ps\" title=\"پروشیا – puštūnų\"><span>پښتو</span></a></li><li class=\"interlanguage-link interwiki-pt mw-list-item\"><a class=\"interlanguage-link-target\" href=\"https://pt.wikipedia.org/wiki/Pr%C3%BAssia\" hreflang=\"pt\" lang=\"pt\" title=\"Prússia – portugalų\"><span>Português</span></a></li><li class=\"interlanguage-link interwiki-ro mw-list-item\"><a class=\"interlanguage-link-target\" href=\"https://ro.wikipedia.org/wiki/Prusia\" hreflang=\"ro\" lang=\"ro\" title=\"Prusia – rumunų\"><span>Română</span></a></li><li class=\"interlanguage-link interwiki-ru mw-list-item\"><a class=\"interlanguage-link-target\" href=\"https://ru.wikipedia.org/wiki/%D0%9F%D1%80%D1%83%D1%81%D1%81%D0%B8%D1%8F\" hreflang=\"ru\" lang=\"ru\" title=\"Пруссия – rusų\"><span>Русский</span></a></li><li class=\"interlanguage-link interwiki-rue mw-list-item\"><a class=\"interlanguage-link-target\" href=\"https://rue.wikipedia.org/wiki/%D0%9F%D1%80%D1%83%D1%81%D1%81%D0%B8%D1%8F\" hreflang=\"rue\" lang=\"rue\" title=\"Пруссия – rusinų\"><span>Русиньскый</span></a></li><li class=\"interlanguage-link interwiki-sc mw-list-item\"><a class=\"interlanguage-link-target\" href=\"https://sc.wikipedia.org/wiki/Pr%C3%B9ssia\" hreflang=\"sc\" lang=\"sc\" title=\"Prùssia – sardiniečių\"><span>Sardu</span></a></li><li class=\"interlanguage-link interwiki-scn mw-list-item\"><a class=\"interlanguage-link-target\" href=\"https://scn.wikipedia.org/wiki/Prussia\" hreflang=\"scn\" lang=\"scn\" title=\"Prussia – siciliečių\"><span>Sicilianu</span></a></li><li class=\"interlanguage-link interwiki-sh mw-list-item\"><a class=\"interlanguage-link-target\" href=\"https://sh.wikipedia.org/wiki/Pruska\" hreflang=\"sh\" lang=\"sh\" title=\"Pruska – serbų-kroatų\"><span>Srpskohrvatski / српскохрватски</span></a></li><li class=\"interlanguage-link interwiki-si mw-list-item\"><a class=\"interlanguage-link-target\" href=\"https://si.wikipedia.org/wiki/%E0%B6%B4%E0%B7%8A%E2%80%8D%E0%B6%BB%E0%B7%82%E0%B7%92%E0%B6%BA%E0%B7%8F%E0%B7%80\" hreflang=\"si\" lang=\"si\" title=\"ප්‍රෂියාව – sinhalų\"><span>සිංහල</span></a></li><li class=\"interlanguage-link interwiki-simple mw-list-item\"><a class=\"interlanguage-link-target\" href=\"https://simple.wikipedia.org/wiki/Prussia\" hreflang=\"en-simple\" lang=\"en-simple\" title=\"Prussia – Simple English\"><span>Simple English</span></a></li><li class=\"interlanguage-link interwiki-sk mw-list-item\"><a class=\"interlanguage-link-target\" href=\"https://sk.wikipedia.org/wiki/Prusko_(brandenbursko-prusk%C3%A1_monarchia)\" hreflang=\"sk\" lang=\"sk\" title=\"Prusko (brandenbursko-pruská monarchia) – slovakų\"><span>Slovenčina</span></a></li><li class=\"interlanguage-link interwiki-sl mw-list-item\"><a class=\"interlanguage-link-target\" href=\"https://sl.wikipedia.org/wiki/Prusija\" hreflang=\"sl\" lang=\"sl\" title=\"Prusija – slovėnų\"><span>Slovenščina</span></a></li><li class=\"interlanguage-link interwiki-sq mw-list-item\"><a class=\"interlanguage-link-target\" href=\"https://sq.wikipedia.org/wiki/Prusia\" hreflang=\"sq\" lang=\"sq\" title=\"Prusia – albanų\"><span>Shqip</span></a></li><li class=\"interlanguage-link interwiki-sr mw-list-item\"><a class=\"interlanguage-link-target\" href=\"https://sr.wikipedia.org/wiki/%D0%9F%D1%80%D1%83%D1%81%D0%BA%D0%B0\" hreflang=\"sr\" lang=\"sr\" title=\"Пруска – serbų\"><span>Српски / srpski</span></a></li><li class=\"interlanguage-link interwiki-sv mw-list-item\"><a class=\"interlanguage-link-target\" href=\"https://sv.wikipedia.org/wiki/Preussen\" hreflang=\"sv\" lang=\"sv\" title=\"Preussen – švedų\"><span>Svenska</span></a></li><li class=\"interlanguage-link interwiki-sw mw-list-item\"><a class=\"interlanguage-link-target\" href=\"https://sw.wikipedia.org/wiki/Prussia\" hreflang=\"sw\" lang=\"sw\" title=\"Prussia – suahilių\"><span>Kiswahili</span></a></li><li class=\"interlanguage-link interwiki-ta mw-list-item\"><a class=\"interlanguage-link-target\" href=\"https://ta.wikipedia.org/wiki/%E0%AE%AA%E0%AF%81%E0%AE%B0%E0%AF%81%E0%AE%9A%E0%AE%BF%E0%AE%AF%E0%AE%BE\" hreflang=\"ta\" lang=\"ta\" title=\"புருசியா – tamilų\"><span>தமிழ்</span></a></li><li class=\"interlanguage-link interwiki-th mw-list-item\"><a class=\"interlanguage-link-target\" href=\"https://th.wikipedia.org/wiki/%E0%B8%9B%E0%B8%A3%E0%B8%B1%E0%B8%AA%E0%B9%80%E0%B8%8B%E0%B8%B5%E0%B8%A2\" hreflang=\"th\" lang=\"th\" title=\"ปรัสเซีย – tajų\"><span>ไทย</span></a></li><li class=\"interlanguage-link interwiki-tl mw-list-item\"><a class=\"interlanguage-link-target\" href=\"https://tl.wikipedia.org/wiki/Prusya\" hreflang=\"tl\" lang=\"tl\" title=\"Prusya – tagalogų\"><span>Tagalog</span></a></li><li class=\"interlanguage-link interwiki-tr mw-list-item\"><a class=\"interlanguage-link-target\" href=\"https://tr.wikipedia.org/wiki/Prusya\" hreflang=\"tr\" lang=\"tr\" title=\"Prusya – turkų\"><span>Türkçe</span></a></li><li class=\"interlanguage-link interwiki-tt mw-list-item\"><a class=\"interlanguage-link-target\" href=\"https://tt.wikipedia.org/wiki/Prussi%C3%A4\" hreflang=\"tt\" lang=\"tt\" title=\"Prussiä – totorių\"><span>Татарча/tatarça</span></a></li><li class=\"interlanguage-link interwiki-uk mw-list-item\"><a class=\"interlanguage-link-target\" href=\"https://uk.wikipedia.org/wiki/%D0%9F%D1%80%D1%83%D1%81%D1%81%D1%96%D1%8F\" hreflang=\"uk\" lang=\"uk\" title=\"Пруссія – ukrainiečių\"><span>Українська</span></a></li><li class=\"interlanguage-link interwiki-ur mw-list-item\"><a class=\"interlanguage-link-target\" href=\"https://ur.wikipedia.org/wiki/%D9%BE%D8%B1%D9%88%D8%B4%DB%8C%D8%A7\" hreflang=\"ur\" lang=\"ur\" title=\"پروشیا – urdų\"><span>اردو</span></a></li><li class=\"interlanguage-link interwiki-uz mw-list-item\"><a class=\"interlanguage-link-target\" href=\"https://uz.wikipedia.org/wiki/Prussiya\" hreflang=\"uz\" lang=\"uz\" title=\"Prussiya – uzbekų\"><span>Oʻzbekcha/ўзбекча</span></a></li><li class=\"interlanguage-link interwiki-vi mw-list-item\"><a class=\"interlanguage-link-target\" href=\"https://vi.wikipedia.org/wiki/Ph%E1%BB%95_(qu%E1%BB%91c_gia)\" hreflang=\"vi\" lang=\"vi\" title=\"Phổ (quốc gia) – vietnamiečių\"><span>Tiếng Việt</span></a></li><li class=\"interlanguage-link interwiki-vls mw-list-item\"><a class=\"interlanguage-link-target\" href=\"https://vls.wikipedia.org/wiki/Pruussn\" hreflang=\"vls\" lang=\"vls\" title=\"Pruussn – vakarų flamandų\"><span>West-Vlams</span></a></li><li class=\"interlanguage-link interwiki-wa mw-list-item\"><a class=\"interlanguage-link-target\" href=\"https://wa.wikipedia.org/wiki/Pr%C3%BBsse\" hreflang=\"wa\" lang=\"wa\" title=\"Prûsse – valonų\"><span>Walon</span></a></li><li class=\"interlanguage-link interwiki-war mw-list-item\"><a class=\"interlanguage-link-target\" href=\"https://war.wikipedia.org/wiki/Prusya\" hreflang=\"war\" lang=\"war\" title=\"Prusya – varai\"><span>Winaray</span></a></li><li class=\"interlanguage-link interwiki-wuu mw-list-item\"><a class=\"interlanguage-link-target\" href=\"https://wuu.wikipedia.org/wiki/%E6%99%AE%E9%B2%81%E5%A3%AB\" hreflang=\"wuu\" lang=\"wuu\" title=\"普鲁士 – kinų kalbos vu tarmė\"><span>吴语</span></a></li><li class=\"interlanguage-link interwiki-xmf mw-list-item\"><a class=\"interlanguage-link-target\" href=\"https://xmf.wikipedia.org/wiki/%E1%83%9E%E1%83%A0%E1%83%A3%E1%83%A1%E1%83%98%E1%83%90\" hreflang=\"xmf\" lang=\"xmf\" title=\"პრუსია – megrelų\"><span>მარგალური</span></a></li><li class=\"interlanguage-link interwiki-yi mw-list-item\"><a class=\"interlanguage-link-target\" href=\"https://yi.wikipedia.org/wiki/%D7%A4%D7%A8%D7%99%D7%99%D7%A1%D7%9F\" hreflang=\"yi\" lang=\"yi\" title=\"פרייסן – jidiš\"><span>ייִדיש</span></a></li><li class=\"interlanguage-link interwiki-yo mw-list-item\"><a class=\"interlanguage-link-target\" href=\"https://yo.wikipedia.org/wiki/Prussia\" hreflang=\"yo\" lang=\"yo\" title=\"Prussia – jorubų\"><span>Yorùbá</span></a></li><li class=\"interlanguage-link interwiki-zh mw-list-item\"><a class=\"interlanguage-link-target\" href=\"https://zh.wikipedia.org/wiki/%E6%99%AE%E9%AD%AF%E5%A3%AB\" hreflang=\"zh\" lang=\"zh\" title=\"普魯士 – kinų\"><span>中文</span></a></li><li class=\"interlanguage-link interwiki-zh-classical mw-list-item\"><a class=\"interlanguage-link-target\" href=\"https://zh-classical.wikipedia.org/wiki/%E6%99%AE%E9%AD%AF%E5%A3%AB\" hreflang=\"lzh\" lang=\"lzh\" title=\"普魯士 – Classical Chinese\"><span>文言</span></a></li><li class=\"interlanguage-link interwiki-zh-yue mw-list-item\"><a class=\"interlanguage-link-target\" href=\"https://zh-yue.wikipedia.org/wiki/%E6%99%AE%E9%AD%AF%E5%A3%AB\" hreflang=\"yue\" lang=\"yue\" title=\"普魯士 – Cantonese\"><span>粵語</span></a></li></ul>\n",
       "<div class=\"after-portlet after-portlet-lang\"><span class=\"wb-langlinks-edit wb-langlinks-link\"><a class=\"wbc-editpage\" href=\"https://www.wikidata.org/wiki/Special:EntityPage/Q38872#sitelinks-wikipedia\" title=\"Keisti tarpkalbines nuorodas\">Keisti nuorodas</a></span></div>\n",
       "</div>\n",
       "</input></div>\n",
       "</header>\n",
       "<div class=\"vector-article-toolbar\">\n",
       "<div class=\"mw-article-toolbar-container\">\n",
       "<div id=\"left-navigation\">\n",
       "<nav aria-label=\"Vardų sritys\">\n",
       "<div class=\"vector-menu mw-portlet mw-portlet-associated-pages vector-menu-tabs\" id=\"p-associated-pages\">\n",
       "<div class=\"vector-menu-content\">\n",
       "<ul class=\"vector-menu-content-list\"><li class=\"selected vector-tab-noicon mw-list-item\" id=\"ca-nstab-main\"><a accesskey=\"c\" href=\"/wiki/Pr%C5%ABsija\" title=\"Rodyti puslapio turinį [c]\"><span>Straipsnis</span></a></li><li class=\"vector-tab-noicon mw-list-item\" id=\"ca-talk\"><a accesskey=\"t\" href=\"/wiki/Aptarimas:Pr%C5%ABsija\" rel=\"discussion\" title=\"Puslapio turinio aptarimas [t]\"><span>Aptarimas</span></a></li></ul>\n",
       "</div>\n",
       "</div>\n",
       "<div class=\"vector-menu mw-portlet mw-portlet-variants emptyPortlet vector-menu-dropdown-noicon vector-menu-dropdown\" id=\"p-variants\">\n",
       "<input aria-haspopup=\"true\" aria-label=\"Change language variant\" class=\"vector-menu-checkbox\" data-event-name=\"ui.dropdown-p-variants\" id=\"p-variants-checkbox\" role=\"button\" type=\"checkbox\">\n",
       "<label class=\"vector-menu-heading\" for=\"p-variants-checkbox\" id=\"p-variants-label\">\n",
       "<span class=\"vector-menu-heading-label\">lietuvių</span>\n",
       "</label>\n",
       "<div class=\"vector-menu-content\">\n",
       "<ul class=\"vector-menu-content-list\"></ul>\n",
       "</div>\n",
       "</input></div>\n",
       "</nav>\n",
       "</div>\n",
       "<div class=\"vector-collapsible\" id=\"right-navigation\">\n",
       "<nav aria-label=\"Žiūrėti\">\n",
       "<div class=\"vector-menu mw-portlet mw-portlet-views vector-menu-tabs\" id=\"p-views\">\n",
       "<div class=\"vector-menu-content\">\n",
       "<ul class=\"vector-menu-content-list\"><li class=\"selected vector-tab-noicon mw-list-item\" id=\"ca-view\"><a href=\"/wiki/Pr%C5%ABsija\"><span>Skaityti</span></a></li><li class=\"vector-tab-noicon mw-list-item\" id=\"ca-ve-edit\"><a accesskey=\"v\" href=\"/w/index.php?title=Pr%C5%ABsija&amp;veaction=edit\" title=\"Redaguoti šį puslapį [v]\"><span>Keisti</span></a></li><li class=\"collapsible vector-tab-noicon mw-list-item\" id=\"ca-edit\"><a accesskey=\"e\" href=\"/w/index.php?title=Pr%C5%ABsija&amp;action=edit\" title=\"Redaguoti šį puslapį [e]\"><span>Keisti vikitekstą</span></a></li><li class=\"vector-tab-noicon mw-list-item\" id=\"ca-history\"><a accesskey=\"h\" href=\"/w/index.php?title=Pr%C5%ABsija&amp;action=history\" title=\"Ankstesnės puslapio versijos [h]\"><span>Istorija</span></a></li></ul>\n",
       "</div>\n",
       "</div>\n",
       "</nav>\n",
       "<nav aria-label=\"More options\">\n",
       "<div class=\"vector-menu mw-portlet mw-portlet-cactions emptyPortlet vector-menu-dropdown-noicon vector-menu-dropdown vector-has-collapsible-items\" id=\"p-cactions\" title=\"More options\">\n",
       "<input aria-haspopup=\"true\" class=\"vector-menu-checkbox\" data-event-name=\"ui.dropdown-p-cactions\" id=\"p-cactions-checkbox\" role=\"button\" type=\"checkbox\">\n",
       "<label class=\"vector-menu-heading\" for=\"p-cactions-checkbox\" id=\"p-cactions-label\">\n",
       "<span class=\"vector-menu-heading-label\">Daugiau</span>\n",
       "</label>\n",
       "<div class=\"vector-menu-content\">\n",
       "<ul class=\"vector-menu-content-list\"><li class=\"selected vector-more-collapsible-item mw-list-item\" id=\"ca-more-view\"><a href=\"/wiki/Pr%C5%ABsija\"><span>Skaityti</span></a></li><li class=\"vector-more-collapsible-item mw-list-item\" id=\"ca-more-ve-edit\"><a href=\"/w/index.php?title=Pr%C5%ABsija&amp;veaction=edit\"><span>Keisti</span></a></li><li class=\"collapsible vector-more-collapsible-item mw-list-item\" id=\"ca-more-edit\"><a href=\"/w/index.php?title=Pr%C5%ABsija&amp;action=edit\"><span>Keisti vikitekstą</span></a></li><li class=\"vector-more-collapsible-item mw-list-item\" id=\"ca-more-history\"><a href=\"/w/index.php?title=Pr%C5%ABsija&amp;action=history\"><span>Istorija</span></a></li></ul>\n",
       "</div>\n",
       "</input></div>\n",
       "</nav>\n",
       "</div>\n",
       "</div>\n",
       "</div>\n",
       "<div aria-labelledby=\"firstHeading\" class=\"vector-body\" data-mw-ve-target-container=\"\" id=\"bodyContent\">\n",
       "<div class=\"mw-body-subheader\">\n",
       "<div class=\"mw-indicators\">\n",
       "</div>\n",
       "<div class=\"noprint\" id=\"siteSub\">Straipsnis iš Vikipedijos, laisvosios enciklopedijos.</div>\n",
       "</div>\n",
       "<div id=\"contentSub\"></div>\n",
       "<div class=\"mw-body-content mw-content-ltr\" dir=\"ltr\" id=\"mw-content-text\" lang=\"lt\"><div class=\"mw-parser-output\"><table align=\"center\" class=\"current\" style=\"background: #fcf3e3; border: 1px solid #aaa; padding: 0.2em; margin-bottom: 0.5em; font-size: 100%; width: auto; {{{style}}}\">\n",
       "<tbody><tr>\n",
       "<td> <a class=\"image\" href=\"/wiki/Vaizdas:NoFonti.svg\"><img alt=\"NoFonti.svg\" data-file-height=\"512\" data-file-width=\"512\" decoding=\"async\" height=\"46\" src=\"//upload.wikimedia.org/wikipedia/commons/thumb/b/b5/NoFonti.svg/46px-NoFonti.svg.png\" srcset=\"//upload.wikimedia.org/wikipedia/commons/thumb/b/b5/NoFonti.svg/69px-NoFonti.svg.png 1.5x, //upload.wikimedia.org/wikipedia/commons/thumb/b/b5/NoFonti.svg/92px-NoFonti.svg.png 2x\" width=\"46\"/></a> \n",
       "</td>\n",
       "<td><b>Šiam straipsniui ar jo daliai <a href=\"/wiki/Vikipedija:Patikrinamumas\" title=\"Vikipedija:Patikrinamumas\">trūksta išnašų į šaltinius</a>.</b><br/><small>Jūs galite padėti Vikipedijai pridėdami <a href=\"/wiki/Vikipedija:%C5%A0altini%C5%B3_nurodymas\" title=\"Vikipedija:Šaltinių nurodymas\">tinkamas išnašas</a> su šaltiniais.</small>\n",
       "</td></tr></tbody></table>\n",
       "<table class=\"infobox geography\" style=\"font-size:95%; width:300px;\">\n",
       "<tbody><tr>\n",
       "<td align=\"center\" class=\"mergedtoprow\" colspan=\"2\" style=\"line-height:1.2em; font-size:135%;\"><b><span style=\"font-size:90%;\">Prūsija</span><br/><style data-mw-deduplicate=\"TemplateStyles:r6053572\">.mw-parser-output .nobold{font-weight:normal}</style><span class=\"nobold\"><span style=\"font-size:85%;\"><a href=\"/wiki/Vokie%C4%8Di%C5%B3_kalba\" title=\"Vokiečių kalba\">vok.</a> <i>Preußen</i></span></span><br/><link href=\"mw-data:TemplateStyles:r6053572\" rel=\"mw-deduplicated-inline-style\"/><span class=\"nobold\"><span style=\"font-size:85%;\"><a href=\"/wiki/Pr%C5%ABs%C5%B3_kalba\" title=\"Prūsų kalba\">prūs.</a> <i>Prūsa</i></span></span></b>\n",
       "</td></tr>\n",
       "<tr>\n",
       "<td colspan=\"2\" style=\"vertical-align:middle; text-align:center; border-top: solid 1px #aaa; padding: 0.2em 0em 0.2em 0em; background:#EFEFEF\">\n",
       "<table style=\"text-align:center; margin:0 auto; background:none;\" width=\"100%\">\n",
       "<tbody><tr>\n",
       "<td style=\"border:0; vertical-align:middle; font-size:30%; line-height: 105%;\" width=\"50px\">\n",
       "</td>\n",
       "<td style=\"vertical-align:middle; text-align:center; font-size:115%; border:0\"><b>1525 – 1947</b>\n",
       "</td>\n",
       "<td style=\"border:0; vertical-align: middle; text-align:right; line-height: 105%; font-size:30%;\" width=\"50px\">\n",
       "</td></tr></tbody></table>\n",
       "</td></tr>\n",
       "<tr class=\"mergedtoprow\">\n",
       "<td class=\"maptable\" colspan=\"2\">\n",
       "<table style=\"text-align:center; margin:0 auto; background:none;\" width=\"100%\">\n",
       "<tbody><tr>\n",
       "<td align=\"center\" style=\"border:0; vertical-align:middle;\"><a class=\"image\" href=\"/wiki/Vaizdas:Flag_of_the_Kingdom_of_Prussia_(1803-1892).svg\" title=\"Flag\"><img alt=\"Flag\" class=\"thumbborder\" data-file-height=\"1000\" data-file-width=\"1500\" decoding=\"async\" height=\"83\" src=\"//upload.wikimedia.org/wikipedia/commons/thumb/c/c1/Flag_of_the_Kingdom_of_Prussia_%281803-1892%29.svg/125px-Flag_of_the_Kingdom_of_Prussia_%281803-1892%29.svg.png\" srcset=\"//upload.wikimedia.org/wikipedia/commons/thumb/c/c1/Flag_of_the_Kingdom_of_Prussia_%281803-1892%29.svg/188px-Flag_of_the_Kingdom_of_Prussia_%281803-1892%29.svg.png 1.5x, //upload.wikimedia.org/wikipedia/commons/thumb/c/c1/Flag_of_the_Kingdom_of_Prussia_%281803-1892%29.svg/250px-Flag_of_the_Kingdom_of_Prussia_%281803-1892%29.svg.png 2x\" width=\"125\"/></a>\n",
       "</td>\n",
       "<td align=\"center\" style=\"border:0; vertical-align:middle;\"><a class=\"image\" href=\"/wiki/Vaizdas:Coat_of_arms_of_Prussia.svg\" title=\"herbas\"><img alt=\"herbas\" data-file-height=\"540\" data-file-width=\"500\" decoding=\"async\" height=\"119\" src=\"//upload.wikimedia.org/wikipedia/commons/thumb/a/aa/Coat_of_arms_of_Prussia.svg/110px-Coat_of_arms_of_Prussia.svg.png\" srcset=\"//upload.wikimedia.org/wikipedia/commons/thumb/a/aa/Coat_of_arms_of_Prussia.svg/165px-Coat_of_arms_of_Prussia.svg.png 1.5x, //upload.wikimedia.org/wikipedia/commons/thumb/a/aa/Coat_of_arms_of_Prussia.svg/220px-Coat_of_arms_of_Prussia.svg.png 2x\" width=\"110\"/></a>\n",
       "</td></tr>\n",
       "<tr style=\"font-size: 95%;\">\n",
       "<td style=\"border:0; text-align:center;\">Vėliava<br/>(1803–1892)\n",
       "</td>\n",
       "<td style=\"border:0; text-align:center;\">Herbas<br/>(1871–1918)\n",
       "</td></tr></tbody></table>\n",
       "</td></tr>\n",
       "<tr>\n",
       "<td colspan=\"2\" style=\"text-align:center; font-size:95%; padding:0.6em 0em 0.6em 0em;\"><div class=\"center\"><div class=\"floatnone\"><a class=\"image\" href=\"/wiki/Vaizdas:Kingdom_of_Prussia_1870.svg\" title=\"Location of\"><img alt=\"Location of\" data-file-height=\"456\" data-file-width=\"450\" decoding=\"async\" height=\"253\" src=\"//upload.wikimedia.org/wikipedia/commons/thumb/b/bc/Kingdom_of_Prussia_1870.svg/250px-Kingdom_of_Prussia_1870.svg.png\" srcset=\"//upload.wikimedia.org/wikipedia/commons/thumb/b/bc/Kingdom_of_Prussia_1870.svg/375px-Kingdom_of_Prussia_1870.svg.png 1.5x, //upload.wikimedia.org/wikipedia/commons/thumb/b/bc/Kingdom_of_Prussia_1870.svg/500px-Kingdom_of_Prussia_1870.svg.png 2x\" width=\"250\"/></a></div></div><small>Prūsijos karalystė 1870 m.</small>\n",
       "</td></tr>\n",
       "<tr>\n",
       "<td width=\"50%\"><b><a href=\"/wiki/Sostin%C4%97\" title=\"Sostinė\">Sostinė</a></b>\n",
       "</td>\n",
       "<td width=\"50%\"><a href=\"/wiki/Karaliau%C4%8Dius\" title=\"Karaliaučius\">Karaliaučius</a> <span style=\"font-size:90%;\">(1525–1701; 1806)</span><br/><a href=\"/wiki/Berlynas\" title=\"Berlynas\">Berlynas</a> <span style=\"font-size:90%;\">(1701–1806; 1806–1947)</span>\n",
       "</td></tr>\n",
       "<tr>\n",
       "<td><b>Kalbos</b>\n",
       "</td>\n",
       "<td><a href=\"/wiki/Vokie%C4%8Di%C5%B3_kalba\" title=\"Vokiečių kalba\">Vokiečių</a>\n",
       "</td></tr>\n",
       "<tr>\n",
       "<td><b><a href=\"/wiki/Valdymo_forma\" title=\"Valdymo forma\">Vyriausybė</a></b>\n",
       "</td>\n",
       "<td><i>Neįvardinta</i>\n",
       "</td></tr>\n",
       "<tr class=\"mergedtoprow\">\n",
       "<td colspan=\"2\" style=\"vertical-align:middle; text-align:center; border-top: solid 1px #aaa; padding: 0.2em 0em 0.2em 0em; background:#EFEFEF\">\n",
       "</td></tr>\n",
       "<tr class=\"mergedtoprow\">\n",
       "<td><b>Istorija</b>\n",
       "</td>\n",
       "<td>\n",
       "</td></tr>\n",
       "<tr class=\"mergedrow\">\n",
       "<td> - <a href=\"/wiki/Pr%C5%ABsijos_kunigaik%C5%A1tyst%C4%97\" title=\"Prūsijos kunigaikštystė\">Įkurta</a>\n",
       "</td>\n",
       "<td>1525 m. balandžio 10 d.\n",
       "</td></tr>\n",
       "<tr class=\"mergedbottomrow\">\n",
       "<td> - Panaikinta\n",
       "</td>\n",
       "<td>1947 m. vasario 25 d.\n",
       "</td></tr>\n",
       "<tr class=\"mergedtoprow\">\n",
       "<td colspan=\"2\" style=\"vertical-align:middle; text-align:center; border-top: solid 1px #aaa; padding: 0.2em 0em 0.2em 0em; background:#EFEFEF\">\n",
       "</td></tr>\n",
       "<tr class=\"mergedtoprow\">\n",
       "<td colspan=\"2\"><b>Gyventojai</b>\n",
       "</td></tr>\n",
       "<tr class=\"mergedbottomrow\">\n",
       "<td> - 1939\n",
       "</td>\n",
       "<td>41 915 040 \n",
       "</td></tr>\n",
       "</tbody></table>\n",
       "<dl><dd><div class=\"dablink\" style=\"font-size: 90%;\"><a class=\"image\" href=\"/wiki/Vaizdas:Disambig.svg\"><img alt=\"Disambig.svg\" data-file-height=\"183\" data-file-width=\"230\" decoding=\"async\" height=\"16\" src=\"//upload.wikimedia.org/wikipedia/commons/thumb/7/72/Disambig.svg/20px-Disambig.svg.png\" srcset=\"//upload.wikimedia.org/wikipedia/commons/thumb/7/72/Disambig.svg/30px-Disambig.svg.png 1.5x, //upload.wikimedia.org/wikipedia/commons/thumb/7/72/Disambig.svg/40px-Disambig.svg.png 2x\" width=\"20\"/></a> <i>Kitos reikšmės – <a class=\"mw-disambig\" href=\"/wiki/Pr%C5%ABsija_(reik%C5%A1m%C4%97s)\" title=\"Prūsija (reikšmės)\">Prūsija (reikšmės)</a>.</i></div></dd></dl>\n",
       "<p><b>Prūsija</b> (<a href=\"/wiki/Vokie%C4%8Di%C5%B3_kalba\" title=\"Vokiečių kalba\">vok.</a> <i>Preußen</i>, <a href=\"/wiki/Pr%C5%ABs%C5%B3_kalba\" title=\"Prūsų kalba\">prūs.</a> <i>Prūsa</i>) – istorinė <a href=\"/wiki/Europa\" title=\"Europa\">Europos</a> valstybė pietrytinėje <a href=\"/wiki/Baltijos_j%C5%ABra\" title=\"Baltijos jūra\">Baltijos jūros</a> pakrantėje. Šiuo metu šiaurinę regiono dalį valdo <a href=\"/wiki/Rusija\" title=\"Rusija\">Rusija</a> (<a href=\"/wiki/Kaliningrado_sritis\" title=\"Kaliningrado sritis\">Kaliningrado sritis</a>) ir <a href=\"/wiki/Lietuva\" title=\"Lietuva\">Lietuva</a> (<a href=\"/wiki/Klaip%C4%97dos_kra%C5%A1tas\" title=\"Klaipėdos kraštas\">Klaipėdos kraštas</a>), pietinė dalis priklauso <a href=\"/wiki/Lenkija\" title=\"Lenkija\">Lenkijai</a>.\n",
       "</p><p>Šiuo terminu taip pat įvardijamos kelios nebeegzistuojančios istorinės valstybės, pirmiausia <a href=\"/wiki/Pr%C5%ABsijos_kunigaik%C5%A1tyst%C4%97\" title=\"Prūsijos kunigaikštystė\">Prūsijos kunigaikštystė</a> ir <a href=\"/wiki/Pr%C5%ABsijos_karalyst%C4%97\" title=\"Prūsijos karalystė\">Prūsijos karalystė</a>, susijusios su regionu ir kelis šimtmečius dariusios didelę įtaką <a href=\"/wiki/Vokietija\" title=\"Vokietija\">Vokietijos</a> ir visos Europos istorijai.\n",
       "</p>\n",
       "<meta property=\"mw:PageProp/toc\"/>\n",
       "<h2><span class=\"mw-headline\" id=\"Geografija\">Geografija</span><span class=\"mw-editsection\"><span class=\"mw-editsection-bracket\">[</span><a class=\"mw-editsection-visualeditor\" href=\"/w/index.php?title=Pr%C5%ABsija&amp;veaction=edit&amp;section=1\" title=\"Redaguoti skyrelį: Geografija\">redaguoti</a><span class=\"mw-editsection-divider\"> | </span><a href=\"/w/index.php?title=Pr%C5%ABsija&amp;action=edit&amp;section=1\" title=\"Redaguoti skyrelį: Geografija\">redaguoti vikitekstą</a><span class=\"mw-editsection-bracket\">]</span></span></h2>\n",
       "<p>Prūsijos regionas užėmė teritoriją, šiuo metu padalintą tarp trijų valstybių. Šiaurėje jis buvo ribojamas <a href=\"/wiki/Baltijos_j%C5%ABra\" title=\"Baltijos jūra\">Baltijos jūros</a>, ir krantas čia yra labai sudėtingas, turi keletą didelių lagūnų (<a href=\"/wiki/Kur%C5%A1i%C5%B3_marios\" title=\"Kuršių marios\">Kuršių marios</a>, <a class=\"mw-redirect\" href=\"/wiki/Aistmar%C4%97s\" title=\"Aistmarės\">Aistmarės</a>), <a href=\"/wiki/Nerija\" title=\"Nerija\">nerijų</a>. Rytuose Prūsija ribojosi su <a href=\"/wiki/Lietuva\" title=\"Lietuva\">Lietuva</a>, pietuose – su <a href=\"/wiki/Mazovija\" title=\"Mazovija\">Mazovija</a>, pietryčiuose – su <a class=\"mw-disambig\" href=\"/wiki/Palenk%C4%97\" title=\"Palenkė\">Palenke</a>, o vakaruose – su <a href=\"/wiki/Pomerelija\" title=\"Pomerelija\">Pomerelija</a> (nuo kurios skyrė <a href=\"/wiki/Vysla\" title=\"Vysla\">Vysla</a>). Pastarasis, dar vadinamas Vakarų Prūsija, gali būti laikoma išplėstinio Prūsijos regiono dalimi.\n",
       "</p>\n",
       "<h2><span class=\"mw-headline\" id=\"Istorija\">Istorija</span><span class=\"mw-editsection\"><span class=\"mw-editsection-bracket\">[</span><a class=\"mw-editsection-visualeditor\" href=\"/w/index.php?title=Pr%C5%ABsija&amp;veaction=edit&amp;section=2\" title=\"Redaguoti skyrelį: Istorija\">redaguoti</a><span class=\"mw-editsection-divider\"> | </span><a href=\"/w/index.php?title=Pr%C5%ABsija&amp;action=edit&amp;section=2\" title=\"Redaguoti skyrelį: Istorija\">redaguoti vikitekstą</a><span class=\"mw-editsection-bracket\">]</span></span></h2>\n",
       "<dl><dd><div class=\"noprint relarticle mainarticle\"><i>Pagrindinis straipsnis – <a href=\"/wiki/Pr%C5%ABsijos_istorija\" title=\"Prūsijos istorija\">Prūsijos istorija</a></i>.</div></dd></dl>\n",
       "<p>Regionas patyrė labai sudėtingą istoriją, čia du kartus visiškai keitėsi etninė sudėtis.\n",
       "</p>\n",
       "<h3><span id=\"Senov.C4.97s_Pr.C5.ABsija\"></span><span class=\"mw-headline\" id=\"Senovės_Prūsija\">Senovės Prūsija</span><span class=\"mw-editsection\"><span class=\"mw-editsection-bracket\">[</span><a class=\"mw-editsection-visualeditor\" href=\"/w/index.php?title=Pr%C5%ABsija&amp;veaction=edit&amp;section=3\" title=\"Redaguoti skyrelį: Senovės Prūsija\">redaguoti</a><span class=\"mw-editsection-divider\"> | </span><a href=\"/w/index.php?title=Pr%C5%ABsija&amp;action=edit&amp;section=3\" title=\"Redaguoti skyrelį: Senovės Prūsija\">redaguoti vikitekstą</a><span class=\"mw-editsection-bracket\">]</span></span></h3>\n",
       "<div class=\"thumb tright\"><div class=\"thumbinner\" style=\"width:252px;\"><a class=\"image\" href=\"/wiki/Vaizdas:Stato_ordine_teutonico-1.png\"><img alt=\"\" class=\"thumbimage\" data-file-height=\"670\" data-file-width=\"823\" decoding=\"async\" height=\"204\" src=\"//upload.wikimedia.org/wikipedia/commons/thumb/a/a9/Stato_ordine_teutonico-1.png/250px-Stato_ordine_teutonico-1.png\" srcset=\"//upload.wikimedia.org/wikipedia/commons/thumb/a/a9/Stato_ordine_teutonico-1.png/375px-Stato_ordine_teutonico-1.png 1.5x, //upload.wikimedia.org/wikipedia/commons/thumb/a/a9/Stato_ordine_teutonico-1.png/500px-Stato_ordine_teutonico-1.png 2x\" width=\"250\"/></a> <div class=\"thumbcaption\"><div class=\"magnify\"><a class=\"internal\" href=\"/wiki/Vaizdas:Stato_ordine_teutonico-1.png\" title=\"Padidinti\"></a></div>Vokiečių ordino plėtra iki 1250 m.</div></div></div>\n",
       "<dl><dd><div class=\"noprint relarticle mainarticle\"><i>Pagrindinis straipsnis – <a href=\"/wiki/Pr%C5%ABsai\" title=\"Prūsai\">Prūsai</a></i>.</div></dd></dl>\n",
       "<p><a class=\"mw-redirect\" href=\"/wiki/Senov%C4%97s_Pr%C5%ABsija\" title=\"Senovės Prūsija\">Senovės Prūsija</a> – baltiškos <a href=\"/wiki/Pr%C5%ABsai\" title=\"Prūsai\">prūsų</a> tautos gyventa teritorija pietryčių Pabaltijyje, tarp <a href=\"/wiki/Vysla\" title=\"Vysla\">Vyslos</a> ir <a href=\"/wiki/Nemunas\" title=\"Nemunas\">Nemuno</a> upių. Čia konsolidavosi ankstyvosios gentinės <a href=\"/wiki/Balt%C5%B3_%C5%BEem%C4%97s\" title=\"Baltų žemės\">žemės</a>. XIII a. <a href=\"/wiki/Kry%C5%BEiaus_%C5%BEygiai_%C4%AF_Pr%C5%ABsij%C4%85\" title=\"Kryžiaus žygiai į Prūsiją\">Kryžiaus žygių į Prūsiją</a> metu šią teritoriją nukariavo <a href=\"/wiki/Vokie%C4%8Di%C5%B3_ordinas\" title=\"Vokiečių ordinas\">Vokiečių ordinas</a>, krašte įvesta krikščionybė.\n",
       "</p>\n",
       "<h3><span id=\"Vokie.C4.8Di.C5.B3_valdymas\"></span><span class=\"mw-headline\" id=\"Vokiečių_valdymas\">Vokiečių valdymas</span><span class=\"mw-editsection\"><span class=\"mw-editsection-bracket\">[</span><a class=\"mw-editsection-visualeditor\" href=\"/w/index.php?title=Pr%C5%ABsija&amp;veaction=edit&amp;section=4\" title=\"Redaguoti skyrelį: Vokiečių valdymas\">redaguoti</a><span class=\"mw-editsection-divider\"> | </span><a href=\"/w/index.php?title=Pr%C5%ABsija&amp;action=edit&amp;section=4\" title=\"Redaguoti skyrelį: Vokiečių valdymas\">redaguoti vikitekstą</a><span class=\"mw-editsection-bracket\">]</span></span></h3>\n",
       "<div class=\"thumb tright\"><div class=\"thumbinner\" style=\"width:222px;\"><a class=\"image\" href=\"/wiki/Vaizdas:Ordensland1410.png\"><img alt=\"\" class=\"thumbimage\" data-file-height=\"733\" data-file-width=\"694\" decoding=\"async\" height=\"232\" src=\"//upload.wikimedia.org/wikipedia/commons/thumb/1/1d/Ordensland1410.png/220px-Ordensland1410.png\" srcset=\"//upload.wikimedia.org/wikipedia/commons/thumb/1/1d/Ordensland1410.png/330px-Ordensland1410.png 1.5x, //upload.wikimedia.org/wikipedia/commons/thumb/1/1d/Ordensland1410.png/440px-Ordensland1410.png 2x\" width=\"220\"/></a> <div class=\"thumbcaption\"><div class=\"magnify\"><a class=\"internal\" href=\"/wiki/Vaizdas:Ordensland1410.png\" title=\"Padidinti\"></a></div>Vokiečių ordino plėtra 1309 – 1410 m.</div></div></div>\n",
       "<dl><dd><div class=\"noprint relarticle mainarticle\"><i>Pagrindiniai straipsniai – <a class=\"mw-redirect\" href=\"/wiki/Vokie%C4%8Di%C5%B3_Ordinas\" title=\"Vokiečių Ordinas\">Vokiečių Ordinas</a>, <a href=\"/wiki/Pr%C5%ABsijos_kunigaik%C5%A1tyst%C4%97\" title=\"Prūsijos kunigaikštystė\">Prūsijos kunigaikštystė</a> ir <a href=\"/wiki/Pr%C5%ABsijos_karalyst%C4%97\" title=\"Prūsijos karalystė\">Prūsijos karalystė</a></i>.</div></dd></dl>\n",
       "<p>Nuo XIII a. regione viešpatavo <a href=\"/wiki/Vokie%C4%8Di%C5%B3_ordinas\" title=\"Vokiečių ordinas\">Vokiečių ordinas</a>, kuris padarė Prūsiją savo politiniu ir kultūriniu centru. Be Ordino paskiras teritorijas valdė keturios nuo ordino nepriklausomos vyskupijos: <a class=\"new\" href=\"/w/index.php?title=Kulmo_vyskupija&amp;action=edit&amp;redlink=1\" title=\"Kulmo vyskupija (puslapis neegzistuoja)\">Kulmo</a>, <a href=\"/wiki/Sembos_vyskupija\" title=\"Sembos vyskupija\">Sembos</a>, <a class=\"new\" href=\"/w/index.php?title=Varmijos_vyskupija&amp;action=edit&amp;redlink=1\" title=\"Varmijos vyskupija (puslapis neegzistuoja)\">Varmijos</a> ir <a class=\"new\" href=\"/w/index.php?title=Pamed%C4%97s_vyskupija&amp;action=edit&amp;redlink=1\" title=\"Pamedės vyskupija (puslapis neegzistuoja)\">Pamedės</a>.\n",
       "</p><p>Nuo XIII a. kraštas buvo germanizuojamas, krikščioninamas vietiniai prūsai maišėsi su atsikėlėliais, nyko jų kalba. Tuo pat metu iš rytų vyko ir krašto lituanizacija – iš <a class=\"mw-redirect\" href=\"/wiki/LDK\" title=\"LDK\">LDK</a> kėlėsi etniniai <a href=\"/wiki/Lietuviai\" title=\"Lietuviai\">lietuviai</a>, kurie apgyvendino rytines regiono dalis, ir dar tapo žinomi kaip <a class=\"mw-redirect\" href=\"/wiki/Lietuvininkai\" title=\"Lietuvininkai\">lietuvininkai</a>. Jų gyvenama etninė teritorija vadinama <a href=\"/wiki/Ma%C5%BEoji_Lietuva\" title=\"Mažoji Lietuva\">Mažoji Lietuva</a>.\n",
       "</p><p>Ekonomiškai kraštas įtrauktas į Baltijos jūros prekybinį tinklą – išdygo stiprūs prekybiniai miestai, susijungę į <a class=\"mw-redirect\" href=\"/wiki/Hanzos_lyga\" title=\"Hanzos lyga\">Hanzos lygą</a>. Vokiečių ordinas kovojo su rytuose buvusia <a class=\"mw-redirect\" href=\"/wiki/LDK\" title=\"LDK\">LDK</a>, taip pat plėtė teritorijas į vakarus, į buvusių pagonių <a href=\"/wiki/Ka%C5%A1ubai\" title=\"Kašubai\">kašubų</a> žemes <a href=\"/wiki/Pomerelija\" title=\"Pomerelija\">Pomerelijoje</a> (<a class=\"mw-redirect\" href=\"/wiki/1466\" title=\"1466\">1466</a> m. šis regionas atiteko <a class=\"mw-redirect\" href=\"/wiki/Lenkijos_karalyst%C4%97\" title=\"Lenkijos karalystė\">Lenkijos karalystei</a> ir buvo vadinamas <a class=\"mw-redirect\" href=\"/wiki/Karali%C5%A1kieji_Pr%C5%ABsai\" title=\"Karališkieji Prūsai\">Karališkaisiais Prūsais</a>).\n",
       "</p><p>Ordinui silpstant, likusios jo teritorijos buvo sekuliarizuotos. <a class=\"mw-redirect\" href=\"/wiki/1525\" title=\"1525\">1525</a> m. buvusių Vokiečių ordino valdų Prūsijoje vietoje sukurta <a class=\"mw-redirect\" href=\"/wiki/Pr%C5%ABsijos_hercogyst%C4%97\" title=\"Prūsijos hercogystė\">Prūsijos hercogystė</a>. Ji formaliai egzistavo iki <a class=\"mw-redirect\" href=\"/wiki/1701\" title=\"1701\">1701</a> m., nors jau <a class=\"mw-redirect\" href=\"/wiki/1618\" title=\"1618\">1618</a> m. asmenine unija susijungė su <a class=\"new\" href=\"/w/index.php?title=Brandenburgo_markgrafyst%C4%97&amp;action=edit&amp;redlink=1\" title=\"Brandenburgo markgrafystė (puslapis neegzistuoja)\">Brandenburgo markgrafyste</a> (pastaroji įkurta <a class=\"mw-redirect\" href=\"/wiki/1157\" title=\"1157\">1157</a> m., nuo <a class=\"mw-redirect\" href=\"/wiki/1415\" title=\"1415\">1415</a> m. markgrafystėje valdė <a class=\"mw-redirect\" href=\"/wiki/Hohenzollernai\" title=\"Hohenzollernai\">Hohenzollernų</a> dinastija), ir buvo žinoma kaip <a href=\"/wiki/Brandenburgas-Pr%C5%ABsija\" title=\"Brandenburgas-Prūsija\">Brandenburgas-Prūsija</a>.\n",
       "</p><p><a href=\"/wiki/Pr%C5%ABsijos_karalyst%C4%97\" title=\"Prūsijos karalystė\">Prūsijos karalystė</a>, įkurta <a class=\"mw-redirect\" href=\"/wiki/1701\" title=\"1701\">1701</a> m. buvusių <a class=\"mw-redirect\" href=\"/wiki/Hohenzollernai\" title=\"Hohenzollernai\">Hohenzollernų</a> valdų pagrindu XVIII a. buvo didžiausia vokiečių gyvenama valstybė Europoje. Prūsijos regionas joje apėmė tik labai nedidelę, pačią ryčiausią dalį (įgavusią pavadinimą <a href=\"/wiki/Ryt%C5%B3_Pr%C5%ABsija\" title=\"Rytų Prūsija\">Rytų Prūsija</a>). Nepaisant to, visa karalystė buvo žinoma būtent šiuo pavadinimu.\n",
       "</p><p>XIX a. viduryje Prūsijos karalystės pastangomis vyko Vokietijos suvienijimas. Po suvienijimo <a class=\"mw-redirect\" href=\"/wiki/1871\" title=\"1871\">1871</a> m. Prūsijos karalystė tapo <a href=\"/wiki/Vokietijos_imperija\" title=\"Vokietijos imperija\">Vokiečių imperatoriškojo reicho</a> autonomine dalimi, turėjusia savą vyriausybę, parlamentą ir vietinius įstatymus. Tuo metu Prūsijos regionas buvo vadinamas <a href=\"/wiki/Pr%C5%ABsijos_provincija\" title=\"Prūsijos provincija\">Prūsijos provincija</a> ir buvo Prūsijos karalystės sudedamoji dalis (provincija egzistavo <a class=\"mw-redirect\" href=\"/wiki/1829\" title=\"1829\">1829</a>–<a class=\"mw-redirect\" href=\"/wiki/1878\" title=\"1878\">1878</a> m., kai <a href=\"/wiki/Ryt%C5%B3_Pr%C5%ABsija\" title=\"Rytų Prūsija\">Rytų Prūsijos</a> ir <a class=\"mw-redirect\" href=\"/wiki/Vakar%C5%B3_Pr%C5%ABsija\" title=\"Vakarų Prūsija\">Vakarų Prūsijos</a> provincijos buvo sujungtos į vieną).\n",
       "</p>\n",
       "<h3><span id=\"XX_am.C5.BEius\"></span><span class=\"mw-headline\" id=\"XX_amžius\">XX amžius</span><span class=\"mw-editsection\"><span class=\"mw-editsection-bracket\">[</span><a class=\"mw-editsection-visualeditor\" href=\"/w/index.php?title=Pr%C5%ABsija&amp;veaction=edit&amp;section=5\" title=\"Redaguoti skyrelį: XX amžius\">redaguoti</a><span class=\"mw-editsection-divider\"> | </span><a href=\"/w/index.php?title=Pr%C5%ABsija&amp;action=edit&amp;section=5\" title=\"Redaguoti skyrelį: XX amžius\">redaguoti vikitekstą</a><span class=\"mw-editsection-bracket\">]</span></span></h3>\n",
       "<dl><dd><div class=\"noprint relarticle mainarticle\"><i>Pagrindinis straipsnis – <a href=\"/wiki/Kaliningrado_sritis\" title=\"Kaliningrado sritis\">Kaliningrado sritis</a></i>.</div></dd></dl>\n",
       "<div class=\"thumb tright\"><div class=\"thumbinner\" style=\"width:222px;\"><a class=\"image\" href=\"/wiki/Vaizdas:East_Prussia_1923-1939_map-fr.svg\"><img alt=\"\" class=\"thumbimage\" data-file-height=\"797\" data-file-width=\"865\" decoding=\"async\" height=\"203\" src=\"//upload.wikimedia.org/wikipedia/commons/thumb/5/50/East_Prussia_1923-1939_map-fr.svg/langlt-220px-East_Prussia_1923-1939_map-fr.svg.png\" srcset=\"//upload.wikimedia.org/wikipedia/commons/thumb/5/50/East_Prussia_1923-1939_map-fr.svg/langlt-330px-East_Prussia_1923-1939_map-fr.svg.png 1.5x, //upload.wikimedia.org/wikipedia/commons/thumb/5/50/East_Prussia_1923-1939_map-fr.svg/langlt-440px-East_Prussia_1923-1939_map-fr.svg.png 2x\" width=\"220\"/></a> <div class=\"thumbcaption\"><div class=\"magnify\"><a class=\"internal\" href=\"/wiki/Vaizdas:East_Prussia_1923-1939_map-fr.svg\" title=\"Padidinti\"></a></div>Rytų Prūsijos provincija tarpukariu</div></div></div>\n",
       "<p>Po monarchijos žlugimo Vokietijoje <a class=\"mw-redirect\" href=\"/wiki/1918\" title=\"1918\">1918</a> m. Rytų Prūsija (Prūsijos regionas) išliko autonominė sudėtinė Vokietijos dalis. 1920 m. nuo regiono atskirtos šiauriausios teritorijos (vadinamasis <a href=\"/wiki/Klaip%C4%97dos_kra%C5%A1tas\" title=\"Klaipėdos kraštas\">Klaipėdos kraštas</a>), kurios atiduotos Lietuvai. Antrąjį pasaulinį karą laimėjusių valstybių nutarimu <a class=\"mw-redirect\" href=\"/wiki/1947\" title=\"1947\">1947</a> m. <a href=\"/wiki/Vasario_25\" title=\"Vasario 25\">vasario 25</a> d. (kaip esą „vokiškojo militarizmo židinys“), regionas atimtas iš Vokietijos ir padalintas dviem karą laimėjusioms valstybėms. Šiaurinė regiono dalis atiteko <a href=\"/wiki/Rusija\" title=\"Rusija\">Rusijai</a>, kur suformuota <a href=\"/wiki/Kaliningrado_sritis\" title=\"Kaliningrado sritis\">Kaliningrado sritis</a>, o pietinė regiono dalis atiteko Lenkijai.\n",
       "</p><p>Po to dar kartą visiškai pasikeitė etninė krašto sudėtis. Baltijos vokiečiai masiškai migravo į Vokietiją, o vietoj jų regioną apgyvendino <a href=\"/wiki/Rusai\" title=\"Rusai\">rusai</a> (Kaliningrado srityje) ir <a href=\"/wiki/Lenkai\" title=\"Lenkai\">lenkai</a> (Lenkijai priskirtoje dalyje).\n",
       "</p>\n",
       "<!-- \n",
       "NewPP limit report\n",
       "Parsed by mw1344\n",
       "Cached time: 20221014214132\n",
       "Cache expiry: 1814400\n",
       "Reduced expiry: false\n",
       "Complications: [show‐toc]\n",
       "CPU time usage: 0.082 seconds\n",
       "Real time usage: 0.132 seconds\n",
       "Preprocessor visited node count: 943/1000000\n",
       "Post‐expand include size: 10915/2097152 bytes\n",
       "Template argument size: 3359/2097152 bytes\n",
       "Highest expansion depth: 12/100\n",
       "Expensive parser function count: 6/500\n",
       "Unstrip recursion depth: 0/20\n",
       "Unstrip post‐expand size: 296/5000000 bytes\n",
       "Number of Wikibase entities loaded: 0/400\n",
       "-->\n",
       "<!--\n",
       "Transclusion expansion time report (%,ms,calls,template)\n",
       "100.00%   76.705      1 -total\n",
       " 60.45%   46.371      1 Šablonas:Infolentelė_buvusi_valstybė\n",
       " 19.30%   14.805      2 Šablonas:Nobold\n",
       " 18.45%   14.153      1 Šablonas:Commons\n",
       " 10.03%    7.690      2 Šablonas:Small\n",
       "  6.97%    5.347      4 Šablonas:Main\n",
       "  6.73%    5.163      3 Šablonas:Smaller\n",
       "  6.45%    4.951      1 Šablonas:Otheruses\n",
       "  6.45%    4.948      1 Šablonas:Šaltiniai\n",
       "  5.39%    4.137      2 Šablonas:WPFCevent\n",
       "-->\n",
       "<!-- Saved in parser cache with key ltwiki:pcache:idhash:653-0!canonical and timestamp 20221014214307 and revision id 6720439.\n",
       " -->\n",
       "</div><noscript><img alt=\"\" height=\"1\" src=\"//lt.wikipedia.org/wiki/Special:CentralAutoLogin/start?type=1x1\" style=\"border: none; position: absolute;\" title=\"\" width=\"1\"/></noscript>\n",
       "<div class=\"printfooter\" data-nosnippet=\"\">Rodomas puslapis \"<a dir=\"ltr\" href=\"https://lt.wikipedia.org/w/index.php?title=Prūsija&amp;oldid=6720439\">https://lt.wikipedia.org/w/index.php?title=Prūsija&amp;oldid=6720439</a>\"</div></div>\n",
       "<div class=\"catlinks\" data-mw=\"interface\" id=\"catlinks\"><div class=\"mw-normal-catlinks\" id=\"mw-normal-catlinks\"><a href=\"/wiki/Specialus:Kategorijos\" title=\"Specialus:Kategorijos\">Kategorija</a>: <ul><li><a href=\"/wiki/Kategorija:Pr%C5%ABsija\" title=\"Kategorija:Prūsija\">Prūsija</a></li></ul></div><div class=\"mw-hidden-catlinks mw-hidden-cats-hidden\" id=\"mw-hidden-catlinks\">Paslėptos kategorijos: <ul><li><a href=\"/wiki/Kategorija:Pages_with_non-numeric_formatnum_arguments\" title=\"Kategorija:Pages with non-numeric formatnum arguments\">Pages with non-numeric formatnum arguments</a></li><li><a href=\"/wiki/Kategorija:Straipsniai_be_%C5%A1altini%C5%B3_nuo_2004_m._sausio\" title=\"Kategorija:Straipsniai be šaltinių nuo 2004 m. sausio\">Straipsniai be šaltinių nuo 2004 m. sausio</a></li><li><a href=\"/wiki/Kategorija:Straipsniai_be_%C5%A1altini%C5%B3_pa%C5%BEym%C4%97ti_nuo_2020_m._lapkri%C4%8Dio\" title=\"Kategorija:Straipsniai be šaltinių pažymėti nuo 2020 m. lapkričio\">Straipsniai be šaltinių pažymėti nuo 2020 m. lapkričio</a></li><li><a href=\"/wiki/Kategorija:Straipsniai_be_%C5%A1altini%C5%B3\" title=\"Kategorija:Straipsniai be šaltinių\">Straipsniai be šaltinių</a></li></ul></div></div>\n",
       "</div>\n",
       "</main>\n",
       "</div>\n",
       "<div class=\"mw-footer-container\">\n",
       "<footer class=\"mw-footer\" id=\"footer\" role=\"contentinfo\">\n",
       "<ul id=\"footer-info\">\n",
       "<li id=\"footer-info-lastmod\"> Šis puslapis paskutinį kartą keistas 14 spalio 2022 23:41.</li>\n",
       "<li id=\"footer-info-copyright\">Tekstas pateikiamas pagal <a href=\"http://creativecommons.org/licenses/by-sa/3.0/\">Creative Commons Attribution/Share-Alike Licenciją</a>;\n",
       "gali būti taikomos papildomos sąlygos.\n",
       "Detaliau – <a href=\"//wikimediafoundation.org/wiki/Terms_of_Use\">Terms of Use</a> .</li>\n",
       "</ul>\n",
       "<ul id=\"footer-places\">\n",
       "<li id=\"footer-places-privacy\"><a href=\"https://foundation.wikimedia.org/wiki/Privacy_policy\">Privatumo politika</a></li>\n",
       "<li id=\"footer-places-about\"><a href=\"/wiki/Vikipedija:Apie\">Apie Vikipediją</a></li>\n",
       "<li id=\"footer-places-disclaimers\"><a href=\"/wiki/Vikipedija:General_disclaimer\">Jokių garantijų</a></li>\n",
       "<li id=\"footer-places-mobileview\"><a class=\"noprint stopMobileRedirectToggle\" href=\"//lt.m.wikipedia.org/w/index.php?title=Pr%C5%ABsija&amp;mobileaction=toggle_view_mobile\">Mobili peržiūra</a></li>\n",
       "<li id=\"footer-places-developers\"><a href=\"https://developer.wikimedia.org\">Kūrėjai</a></li>\n",
       "<li id=\"footer-places-statslink\"><a href=\"https://stats.wikimedia.org/#/lt.wikipedia.org\">Statistika</a></li>\n",
       "<li id=\"footer-places-cookiestatement\"><a href=\"https://foundation.wikimedia.org/wiki/Cookie_statement\">Slapukų politika</a></li>\n",
       "</ul>\n",
       "<ul class=\"noprint\" id=\"footer-icons\">\n",
       "<li id=\"footer-copyrightico\"><a href=\"https://wikimediafoundation.org/\"><img alt=\"Wikimedia Foundation\" height=\"31\" loading=\"lazy\" src=\"/static/images/footer/wikimedia-button.png\" srcset=\"/static/images/footer/wikimedia-button-1.5x.png 1.5x, /static/images/footer/wikimedia-button-2x.png 2x\" width=\"88\"/></a></li>\n",
       "<li id=\"footer-poweredbyico\"><a href=\"https://www.mediawiki.org/\"><img alt=\"Powered by MediaWiki\" height=\"31\" loading=\"lazy\" src=\"/static/images/footer/poweredby_mediawiki_88x31.png\" srcset=\"/static/images/footer/poweredby_mediawiki_132x47.png 1.5x, /static/images/footer/poweredby_mediawiki_176x62.png 2x\" width=\"88\"/></a></li>\n",
       "</ul>\n",
       "</footer>\n",
       "</div>\n",
       "</div>\n",
       "</div>\n",
       "<script>(RLQ=window.RLQ||[]).push(function(){mw.config.set({\"wgPageParseReport\":{\"limitreport\":{\"cputime\":\"0.082\",\"walltime\":\"0.132\",\"ppvisitednodes\":{\"value\":943,\"limit\":1000000},\"postexpandincludesize\":{\"value\":10915,\"limit\":2097152},\"templateargumentsize\":{\"value\":3359,\"limit\":2097152},\"expansiondepth\":{\"value\":12,\"limit\":100},\"expensivefunctioncount\":{\"value\":6,\"limit\":500},\"unstrip-depth\":{\"value\":0,\"limit\":20},\"unstrip-size\":{\"value\":296,\"limit\":5000000},\"entityaccesscount\":{\"value\":0,\"limit\":400},\"timingprofile\":[\"100.00%   76.705      1 -total\",\" 60.45%   46.371      1 Šablonas:Infolentelė_buvusi_valstybė\",\" 19.30%   14.805      2 Šablonas:Nobold\",\" 18.45%   14.153      1 Šablonas:Commons\",\" 10.03%    7.690      2 Šablonas:Small\",\"  6.97%    5.347      4 Šablonas:Main\",\"  6.73%    5.163      3 Šablonas:Smaller\",\"  6.45%    4.951      1 Šablonas:Otheruses\",\"  6.45%    4.948      1 Šablonas:Šaltiniai\",\"  5.39%    4.137      2 Šablonas:WPFCevent\"]},\"cachereport\":{\"origin\":\"mw1344\",\"timestamp\":\"20221014214132\",\"ttl\":1814400,\"transientcontent\":false}}});});</script>\n",
       "<script type=\"application/ld+json\">{\"@context\":\"https:\\/\\/schema.org\",\"@type\":\"Article\",\"name\":\"Pr\\u016bsija\",\"url\":\"https:\\/\\/lt.wikipedia.org\\/wiki\\/Pr%C5%ABsija\",\"sameAs\":\"http:\\/\\/www.wikidata.org\\/entity\\/Q38872\",\"mainEntity\":\"http:\\/\\/www.wikidata.org\\/entity\\/Q38872\",\"author\":{\"@type\":\"Organization\",\"name\":\"Contributors to Wikimedia projects\"},\"publisher\":{\"@type\":\"Organization\",\"name\":\"Wikimedia Foundation, Inc.\",\"logo\":{\"@type\":\"ImageObject\",\"url\":\"https:\\/\\/www.wikimedia.org\\/static\\/images\\/wmf-hor-googpub.png\"}},\"datePublished\":\"2004-01-04T16:53:03Z\",\"dateModified\":\"2022-10-14T21:41:32Z\",\"image\":\"https:\\/\\/upload.wikimedia.org\\/wikipedia\\/commons\\/c\\/c1\\/Flag_of_the_Kingdom_of_Prussia_%281803-1892%29.svg\"}</script><script type=\"application/ld+json\">{\"@context\":\"https:\\/\\/schema.org\",\"@type\":\"Article\",\"name\":\"Pr\\u016bsija\",\"url\":\"https:\\/\\/lt.wikipedia.org\\/wiki\\/Pr%C5%ABsija\",\"sameAs\":\"http:\\/\\/www.wikidata.org\\/entity\\/Q38872\",\"mainEntity\":\"http:\\/\\/www.wikidata.org\\/entity\\/Q38872\",\"author\":{\"@type\":\"Organization\",\"name\":\"Contributors to Wikimedia projects\"},\"publisher\":{\"@type\":\"Organization\",\"name\":\"Wikimedia Foundation, Inc.\",\"logo\":{\"@type\":\"ImageObject\",\"url\":\"https:\\/\\/www.wikimedia.org\\/static\\/images\\/wmf-hor-googpub.png\"}},\"datePublished\":\"2004-01-04T16:53:03Z\",\"dateModified\":\"2022-10-14T21:41:32Z\",\"image\":\"https:\\/\\/upload.wikimedia.org\\/wikipedia\\/commons\\/c\\/c1\\/Flag_of_the_Kingdom_of_Prussia_%281803-1892%29.svg\"}</script>\n",
       "<script>(RLQ=window.RLQ||[]).push(function(){mw.config.set({\"wgBackendResponseTime\":132,\"wgHostname\":\"mw1319\"});});</script>\n",
       "</body>\n",
       "</html>"
      ]
     },
     "execution_count": 125,
     "metadata": {},
     "output_type": "execute_result"
    }
   ],
   "source": [
    "r_prusija = requests.get('https://lt.wikipedia.org/wiki/Pr%C5%ABsija')\n",
    "if r_prusija.status_code == 200:\n",
    "    prusija = BeautifulSoup(r_prusija.content, \"html.parser\")\n",
    "else:\n",
    "    prusija = r_prusija.status_code\n",
    "prusija"
   ]
  },
  {
   "cell_type": "code",
   "execution_count": 132,
   "metadata": {},
   "outputs": [
    {
     "name": "stdout",
     "output_type": "stream",
     "text": [
      "--- Geografija ---\n",
      "Prūsijos regionas užėmė teritoriją, šiuo metu padalintą tarp trijų valstybių. Šiaurėje jis buvo ribojamas Baltijos jūros, ir krantas čia yra labai sudėtingas, turi keletą didelių lagūnų (Kuršių marios, Aistmarės), nerijų. Rytuose Prūsija ribojosi su Lietuva, pietuose – su Mazovija, pietryčiuose – su Palenke, o vakaruose – su Pomerelija (nuo kurios skyrė Vysla). Pastarasis, dar vadinamas Vakarų Prūsija, gali būti laikoma išplėstinio Prūsijos regiono dalimi.\n",
      "\n",
      "\n",
      "--- Istorija ---\n",
      "Regionas patyrė labai sudėtingą istoriją, čia du kartus visiškai keitėsi etninė sudėtis.\n",
      "\n",
      "\n",
      "--- Senovės Prūsija ---\n",
      "Senovės Prūsija – baltiškos prūsų tautos gyventa teritorija pietryčių Pabaltijyje, tarp Vyslos ir Nemuno upių. Čia konsolidavosi ankstyvosios gentinės žemės. XIII a. Kryžiaus žygių į Prūsiją metu šią teritoriją nukariavo Vokiečių ordinas, krašte įvesta krikščionybė.\n",
      "\n",
      "\n",
      "--- Vokiečių valdymas ---\n",
      "Nuo XIII a. regione viešpatavo Vokiečių ordinas, kuris padarė Prūsiją savo politiniu ir kultūriniu centru. Be Ordino paskiras teritorijas valdė keturios nuo ordino nepriklausomos vyskupijos: Kulmo, Sembos, Varmijos ir Pamedės.\n",
      "\n",
      "\n",
      "--- XX amžius ---\n",
      "Po monarchijos žlugimo Vokietijoje 1918 m. Rytų Prūsija (Prūsijos regionas) išliko autonominė sudėtinė Vokietijos dalis. 1920 m. nuo regiono atskirtos šiauriausios teritorijos (vadinamasis Klaipėdos kraštas), kurios atiduotos Lietuvai. Antrąjį pasaulinį karą laimėjusių valstybių nutarimu 1947 m. vasario 25 d. (kaip esą „vokiškojo militarizmo židinys“), regionas atimtas iš Vokietijos ir padalintas dviem karą laimėjusioms valstybėms. Šiaurinė regiono dalis atiteko Rusijai, kur suformuota Kaliningrado sritis, o pietinė regiono dalis atiteko Lenkijai.\n",
      "\n",
      "\n"
     ]
    }
   ],
   "source": [
    "prusija_info = {}\n",
    "headings = []\n",
    "for heading in  prusija.select('h2'):\n",
    "    title = heading.select_one('span').get_text()\n",
    "    # print(title)\n",
    "    content = heading.find_next('p').get_text()\n",
    "    # print(content)\n",
    "    prusija_info[title] = content\n",
    "for heading in prusija.select('h3'):\n",
    "    title=heading.select_one('.mw-headline').get_text()\n",
    "    # print(\"--- \", title)\n",
    "    content = heading.find_next('p').get_text()\n",
    "    # print(content)\n",
    "    prusija_info[title] = content\n",
    "\n",
    "for title, content in prusija_info.items():\n",
    "    print(f\"--- {title} ---\")\n",
    "    print(f\"{content}\\n\")\n",
    "\n",
    "\n"
   ]
  }
 ],
 "metadata": {
  "kernelspec": {
   "display_name": "Python 3.10.6 ('venv': venv)",
   "language": "python",
   "name": "python3"
  },
  "language_info": {
   "codemirror_mode": {
    "name": "ipython",
    "version": 3
   },
   "file_extension": ".py",
   "mimetype": "text/x-python",
   "name": "python",
   "nbconvert_exporter": "python",
   "pygments_lexer": "ipython3",
   "version": "3.10.6"
  },
  "orig_nbformat": 4,
  "vscode": {
   "interpreter": {
    "hash": "37b44f35de7d5558eaeab873dc60ad329fe7011659398dda4b68ad260c0a9988"
   }
  }
 },
 "nbformat": 4,
 "nbformat_minor": 2
}
